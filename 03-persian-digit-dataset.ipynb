{
 "cells": [
  {
   "cell_type": "markdown",
   "metadata": {},
   "source": [
    "<center><div style=\"direction:rtl;font-family:B Lotus, B Nazanin, Tahoma\">به نام خدا</div></center>\n",
    "<h1><center><div style=\"direction:rtl;font-family:B Lotus, B Nazanin, Tahoma\">معرفی مجموعه داده هدی و تغییر اندازه و شکل برای استفاده در الگوریتم‌های یادگیری ماشین</div></center></h1>"
   ]
  },
  {
   "cell_type": "markdown",
   "metadata": {},
   "source": [
    "## <div style=\"direction:rtl;text-align:right;font-family:B Lotus, B Nazanin, Tahoma\">معرفی مجموعه داده ارقام دستنویس هدی</div>\n",
    "\n",
    "<div style=\"direction:rtl;text-align:right;font-family:Tahoma\">\n",
    "مجموعه ارقام دستنویس هدی که اولین مجموعه‌ی بزرگ ارقام دستنویس فارسی است، مشتمل بر ۱۰۲۳۵۳ نمونه دستنوشته سیاه سفید است. این مجموعه طی انجام یک پروژه‏ی کارشناسی ارشد درباره بازشناسی فرمهای دستنویس تهیه شده است. داده های این مجموعه از حدود ۱۲۰۰۰ فرم ثبت نام آزمون سراسری کارشناسی ارشد سال ۱۳۸۴ و آزمون کاردانی پیوسته‏ی دانشگاه جامع علمی کاربردی سال ۱۳۸۳ استخراج شده است[1].\n",
    "</div>\n",
    "<p>\n",
    "<a href=\"https://www.sciencedirect.com/science/article/pii/S0167865507000037\" target=\"_blank\">\n",
    "H. Khosravi and E. Kabir, \"Introducing a very large dataset of handwritten Farsi digits and a study on their varieties,\" Pattern Recognition Letters, vol. 28, pp. 1133-1141, 2007. ]\n",
    "</a>    \n",
    "</p>"
   ]
  },
  {
   "cell_type": "markdown",
   "metadata": {},
   "source": [
    "## <div style=\"direction:rtl;text-align:right;font-family:B Lotus, B Nazanin, Tahoma\">لود کتابخانه‌های مورد استفاده</div>\n",
    "<div style=\"direction:rtl;text-align:right;font-family:Tahoma\">\n",
    "برای اجرای این نوت‌بوک باید کتابخانه‌های  numpy و scipy و matplotlib و opencv-python را نصب کنید.\n",
    "بدین منظور به اینترنت متصل شود و در cmd  دستورات زیر را بنویسید:\n",
    "</div>\n",
    "<p>pip install numpy</p>\n",
    "<p>pip install scipy</p>\n",
    "<p>pip install matplotlib</p>\n",
    "<p>pip install opencv-python</p>\n",
    "\n",
    "<div style=\"direction:rtl;text-align:right;font-family:Tahoma\">\n",
    "میتوانید به جای pip از کلمه ی conda استفاده کنید. (اگر از آناکوندا استفاده میکنید.)\n",
    "</div>"
   ]
  },
  {
   "cell_type": "code",
   "execution_count": 1,
   "metadata": {
    "nbpresent": {
     "id": "de829a92-1fb6-44ad-a2c6-fc1001e1f6e1"
    }
   },
   "outputs": [],
   "source": [
    "import numpy as np\n",
    "from scipy import io\n",
    "import matplotlib.pyplot as plt\n",
    "import cv2"
   ]
  },
  {
   "cell_type": "markdown",
   "metadata": {},
   "source": [
    "## <div style=\"direction:rtl;text-align:right;font-family:B Lotus, B Nazanin, Tahoma\">لود مجموعه داده (dataset)</div>\n",
    "<div style=\"direction:rtl;text-align:right;font-family:Tahoma\">\n",
    "این مجموعه داده در قالب فایل mat متلب منتشر شده است. در پایتون میتوانیم آن را با کتابخانه scipy لود کنیم.\n",
    "</div>\n"
   ]
  },
  {
   "cell_type": "code",
   "execution_count": 2,
   "metadata": {},
   "outputs": [],
   "source": [
    "#load dataset\n",
    "dataset = io.loadmat('./dataset/Data_hoda_full.mat')"
   ]
  },
  {
   "cell_type": "code",
   "execution_count": 3,
   "metadata": {},
   "outputs": [
    {
     "data": {
      "text/plain": [
       "dict_keys(['__header__', '__version__', '__globals__', 'Data', 'labels'])"
      ]
     },
     "execution_count": 3,
     "metadata": {},
     "output_type": "execute_result"
    }
   ],
   "source": [
    "dataset.keys()"
   ]
  },
  {
   "cell_type": "code",
   "execution_count": 4,
   "metadata": {},
   "outputs": [
    {
     "data": {
      "text/plain": [
       "array([[array([[  0,   0,   0,   0, 255, 255,   0,   0,   0,   0,   0,   0,   0,\n",
       "                  0,   0,   0,   0,   0,   0,   0],\n",
       "               [  0,   0,   0, 255, 255, 255, 255,   0,   0,   0,   0,   0,   0,\n",
       "                  0,   0,   0,   0,   0,   0,   0],\n",
       "               [  0,   0, 255, 255, 255, 255, 255,   0,   0,   0,   0,   0,   0,\n",
       "                  0,   0,   0,   0, 255, 255,   0],\n",
       "               [  0, 255, 255, 255, 255, 255,   0,   0,   0,   0,   0,   0,   0,\n",
       "                  0,   0,   0, 255, 255, 255, 255],\n",
       "               [  0, 255, 255, 255, 255,   0,   0,   0,   0,   0,   0,   0,   0,\n",
       "                  0,   0, 255, 255, 255, 255,   0],\n",
       "               [  0, 255, 255, 255,   0,   0,   0,   0,   0,   0,   0,   0,   0,\n",
       "                  0, 255, 255, 255, 255, 255,   0],\n",
       "               [255, 255, 255, 255,   0,   0,   0,   0,   0,   0,   0,   0,   0,\n",
       "                255, 255, 255, 255, 255,   0,   0],\n",
       "               [255, 255, 255,   0,   0,   0,   0,   0,   0,   0,   0,   0, 255,\n",
       "                255, 255, 255, 255,   0,   0,   0],\n",
       "               [255, 255, 255,   0,   0,   0,   0,   0,   0,   0, 255, 255, 255,\n",
       "                255, 255, 255, 255,   0,   0,   0],\n",
       "               [255, 255, 255,   0,   0,   0,   0,   0,   0, 255, 255, 255, 255,\n",
       "                255, 255, 255,   0,   0,   0,   0],\n",
       "               [255, 255, 255, 255, 255, 255, 255, 255, 255, 255, 255, 255, 255,\n",
       "                255, 255,   0,   0,   0,   0,   0],\n",
       "               [255, 255, 255, 255, 255, 255, 255, 255, 255, 255, 255, 255, 255,\n",
       "                255,   0,   0,   0,   0,   0,   0],\n",
       "               [  0, 255, 255, 255, 255, 255, 255, 255, 255, 255, 255, 255, 255,\n",
       "                  0,   0,   0,   0,   0,   0,   0],\n",
       "               [  0,   0,   0,   0, 255, 255, 255, 255, 255, 255, 255, 255, 255,\n",
       "                  0,   0,   0,   0,   0,   0,   0],\n",
       "               [  0,   0,   0,   0,   0,   0,   0, 255, 255, 255, 255, 255,   0,\n",
       "                  0,   0,   0,   0,   0,   0,   0],\n",
       "               [  0,   0,   0,   0,   0,   0,   0, 255, 255, 255, 255,   0,   0,\n",
       "                  0,   0,   0,   0,   0,   0,   0],\n",
       "               [  0,   0,   0,   0,   0,   0, 255, 255, 255, 255, 255,   0,   0,\n",
       "                  0,   0,   0,   0,   0,   0,   0],\n",
       "               [  0,   0,   0,   0,   0,   0, 255, 255, 255, 255,   0,   0,   0,\n",
       "                  0,   0,   0,   0,   0,   0,   0],\n",
       "               [  0,   0,   0,   0,   0, 255, 255, 255, 255, 255,   0,   0,   0,\n",
       "                  0,   0,   0,   0,   0,   0,   0],\n",
       "               [  0,   0,   0,   0,   0, 255, 255, 255, 255,   0,   0,   0,   0,\n",
       "                  0,   0,   0,   0,   0,   0,   0],\n",
       "               [  0,   0,   0,   0,   0, 255, 255, 255, 255,   0,   0,   0,   0,\n",
       "                  0,   0,   0,   0,   0,   0,   0],\n",
       "               [  0,   0,   0,   0,   0, 255, 255, 255, 255,   0,   0,   0,   0,\n",
       "                  0,   0,   0,   0,   0,   0,   0],\n",
       "               [  0,   0,   0,   0,   0, 255, 255, 255,   0,   0,   0,   0,   0,\n",
       "                  0,   0,   0,   0,   0,   0,   0],\n",
       "               [  0,   0,   0,   0, 255, 255, 255, 255,   0,   0,   0,   0,   0,\n",
       "                  0,   0,   0,   0,   0,   0,   0],\n",
       "               [  0,   0,   0,   0, 255, 255, 255, 255,   0,   0,   0,   0,   0,\n",
       "                  0,   0,   0,   0,   0,   0,   0],\n",
       "               [  0,   0,   0,   0, 255, 255, 255,   0,   0,   0,   0,   0,   0,\n",
       "                  0,   0,   0,   0,   0,   0,   0],\n",
       "               [  0,   0,   0,   0,   0, 255, 255,   0,   0,   0,   0,   0,   0,\n",
       "                  0,   0,   0,   0,   0,   0,   0]], dtype=uint8)               ],\n",
       "       [array([[  0,   0,   0,   0,   0,   0,   0,   0,   0,   0, 255, 255,   0,\n",
       "                  0,   0,   0,   0,   0,   0,   0,   0],\n",
       "               [  0,   0,   0,   0,   0,   0,   0,   0,   0, 255, 255, 255, 255,\n",
       "                  0,   0,   0,   0,   0,   0,   0,   0],\n",
       "               [  0,   0,   0,   0,   0,   0,   0,   0, 255, 255, 255, 255, 255,\n",
       "                255,   0,   0,   0,   0,   0,   0,   0],\n",
       "               [  0,   0,   0,   0,   0,   0,   0,   0, 255, 255, 255, 255, 255,\n",
       "                255, 255,   0,   0,   0,   0,   0,   0],\n",
       "               [  0,   0,   0,   0,   0,   0, 255, 255, 255, 255, 255, 255, 255,\n",
       "                255, 255,   0,   0,   0,   0,   0,   0],\n",
       "               [  0,   0,   0,   0,   0, 255, 255, 255, 255, 255, 255, 255, 255,\n",
       "                255, 255, 255,   0,   0,   0,   0,   0],\n",
       "               [  0,   0,   0,   0, 255, 255, 255, 255, 255,   0,   0,   0,   0,\n",
       "                255, 255, 255, 255,   0,   0,   0,   0],\n",
       "               [  0,   0,   0,   0, 255, 255, 255, 255,   0,   0,   0,   0,   0,\n",
       "                  0, 255, 255, 255,   0,   0,   0,   0],\n",
       "               [  0,   0,   0, 255, 255, 255, 255,   0,   0,   0,   0,   0,   0,\n",
       "                  0,   0, 255, 255, 255,   0,   0,   0],\n",
       "               [  0,   0, 255, 255, 255, 255,   0,   0,   0,   0,   0,   0,   0,\n",
       "                  0,   0, 255, 255, 255, 255,   0,   0],\n",
       "               [  0, 255, 255, 255, 255, 255,   0,   0,   0,   0,   0,   0,   0,\n",
       "                  0,   0, 255, 255, 255, 255, 255,   0],\n",
       "               [  0, 255, 255, 255, 255,   0,   0,   0,   0,   0,   0,   0,   0,\n",
       "                  0,   0,   0, 255, 255, 255, 255,   0],\n",
       "               [255, 255, 255, 255,   0,   0,   0,   0,   0,   0,   0, 255, 255,\n",
       "                  0,   0,   0,   0, 255, 255, 255, 255],\n",
       "               [255, 255, 255, 255,   0,   0,   0,   0,   0,   0, 255, 255, 255,\n",
       "                255,   0,   0,   0, 255, 255, 255, 255],\n",
       "               [255, 255, 255,   0,   0,   0,   0,   0,   0, 255, 255, 255, 255,\n",
       "                255,   0,   0,   0, 255, 255, 255, 255],\n",
       "               [255, 255, 255,   0,   0,   0,   0,   0,   0, 255, 255, 255, 255,\n",
       "                255,   0,   0,   0, 255, 255, 255, 255],\n",
       "               [255, 255, 255,   0,   0,   0,   0,   0, 255, 255, 255, 255, 255,\n",
       "                255, 255,   0, 255, 255, 255, 255,   0],\n",
       "               [  0, 255,   0,   0,   0,   0, 255, 255, 255, 255, 255, 255, 255,\n",
       "                255, 255, 255, 255, 255, 255, 255,   0],\n",
       "               [  0,   0,   0,   0,   0, 255, 255, 255, 255, 255, 255, 255, 255,\n",
       "                255,   0, 255, 255, 255, 255,   0,   0],\n",
       "               [  0,   0,   0,   0, 255, 255, 255, 255, 255,   0,   0,   0,   0,\n",
       "                  0,   0,   0,   0,   0,   0,   0,   0]], dtype=uint8)          ],\n",
       "       [array([[  0, 255, 255, 255, 255, 255, 255, 255, 255,   0,   0,   0, 255,\n",
       "                255,   0],\n",
       "               [  0, 255, 255, 255, 255, 255, 255, 255, 255, 255, 255, 255, 255,\n",
       "                255,   0],\n",
       "               [255, 255, 255, 255, 255, 255, 255, 255, 255, 255, 255, 255, 255,\n",
       "                255, 255],\n",
       "               [255, 255, 255, 255, 255,   0, 255, 255, 255,   0, 255, 255, 255,\n",
       "                255, 255],\n",
       "               [255, 255, 255, 255,   0,   0,   0,   0,   0,   0, 255, 255, 255,\n",
       "                255, 255],\n",
       "               [255, 255, 255, 255, 255, 255, 255, 255, 255, 255, 255, 255, 255,\n",
       "                255, 255],\n",
       "               [255, 255, 255, 255, 255, 255, 255, 255, 255, 255, 255, 255, 255,\n",
       "                255,   0],\n",
       "               [  0, 255, 255, 255, 255, 255, 255, 255, 255, 255, 255, 255, 255,\n",
       "                255,   0],\n",
       "               [  0,   0, 255, 255, 255, 255, 255, 255, 255, 255, 255, 255, 255,\n",
       "                  0,   0],\n",
       "               [  0,   0,   0,   0, 255,   0, 255, 255, 255,   0,   0,   0,   0,\n",
       "                  0,   0]], dtype=uint8)                                        ],\n",
       "       ...,\n",
       "       [array([[  0, 255, 255, 255,   0,   0,   0,   0,   0,   0,   0,   0, 255,\n",
       "                255,   0],\n",
       "               [255, 255, 255, 255,   0,   0,   0,   0,   0,   0,   0,   0, 255,\n",
       "                255, 255],\n",
       "               [  0, 255, 255, 255, 255,   0,   0,   0,   0,   0,   0,   0, 255,\n",
       "                255, 255],\n",
       "               [  0, 255, 255, 255, 255,   0,   0,   0,   0,   0,   0, 255, 255,\n",
       "                255, 255],\n",
       "               [  0, 255, 255, 255, 255, 255,   0,   0,   0,   0,   0, 255, 255,\n",
       "                255, 255],\n",
       "               [  0, 255, 255, 255, 255, 255,   0,   0, 255, 255, 255, 255, 255,\n",
       "                255,   0],\n",
       "               [  0,   0, 255, 255, 255, 255, 255, 255, 255, 255, 255, 255, 255,\n",
       "                  0,   0],\n",
       "               [  0,   0, 255, 255, 255, 255, 255, 255, 255, 255, 255,   0,   0,\n",
       "                  0,   0],\n",
       "               [  0,   0, 255, 255, 255, 255,   0,   0,   0,   0,   0,   0,   0,\n",
       "                  0,   0],\n",
       "               [  0,   0, 255, 255, 255, 255,   0,   0,   0,   0,   0,   0,   0,\n",
       "                  0,   0],\n",
       "               [  0,   0, 255, 255, 255, 255,   0,   0,   0,   0,   0,   0,   0,\n",
       "                  0,   0],\n",
       "               [  0,   0, 255, 255, 255, 255,   0,   0,   0,   0,   0,   0,   0,\n",
       "                  0,   0],\n",
       "               [  0,   0, 255, 255, 255, 255,   0,   0,   0,   0,   0,   0,   0,\n",
       "                  0,   0],\n",
       "               [  0,   0, 255, 255, 255, 255,   0,   0,   0,   0,   0,   0,   0,\n",
       "                  0,   0],\n",
       "               [  0,   0, 255, 255, 255, 255,   0,   0,   0,   0,   0,   0,   0,\n",
       "                  0,   0],\n",
       "               [  0,   0, 255, 255, 255, 255,   0,   0,   0,   0,   0,   0,   0,\n",
       "                  0,   0],\n",
       "               [  0,   0,   0, 255, 255, 255,   0,   0,   0,   0,   0,   0,   0,\n",
       "                  0,   0],\n",
       "               [  0,   0,   0, 255, 255, 255,   0,   0,   0,   0,   0,   0,   0,\n",
       "                  0,   0],\n",
       "               [  0,   0,   0, 255, 255, 255,   0,   0,   0,   0,   0,   0,   0,\n",
       "                  0,   0],\n",
       "               [  0,   0,   0,   0, 255, 255, 255,   0,   0,   0,   0,   0,   0,\n",
       "                  0,   0],\n",
       "               [  0,   0,   0,   0, 255, 255, 255,   0,   0,   0,   0,   0,   0,\n",
       "                  0,   0],\n",
       "               [  0,   0,   0, 255, 255, 255, 255,   0,   0,   0,   0,   0,   0,\n",
       "                  0,   0],\n",
       "               [  0,   0,   0,   0, 255, 255, 255, 255,   0,   0,   0,   0,   0,\n",
       "                  0,   0],\n",
       "               [  0,   0,   0,   0,   0, 255, 255, 255,   0,   0,   0,   0,   0,\n",
       "                  0,   0],\n",
       "               [  0,   0,   0,   0,   0,   0,   0, 255,   0,   0,   0,   0,   0,\n",
       "                  0,   0]], dtype=uint8)                                        ],\n",
       "       [array([[  0,   0,   0,   0,   0,   0, 255, 255, 255,   0,   0,   0,   0,\n",
       "                  0,   0,   0,   0,   0],\n",
       "               [  0,   0,   0,   0,   0,   0, 255, 255, 255, 255,   0,   0,   0,\n",
       "                  0,   0,   0,   0,   0],\n",
       "               [  0,   0,   0,   0,   0, 255, 255, 255, 255, 255,   0,   0,   0,\n",
       "                  0,   0,   0,   0,   0],\n",
       "               [  0,   0,   0,   0,   0, 255, 255, 255, 255,   0,   0,   0,   0,\n",
       "                  0,   0,   0,   0,   0],\n",
       "               [  0,   0,   0,   0,   0, 255, 255,   0,   0,   0,   0,   0,   0,\n",
       "                  0,   0,   0,   0,   0],\n",
       "               [  0,   0,   0,   0,   0, 255, 255,   0,   0,   0,   0,   0,   0,\n",
       "                  0,   0,   0, 255, 255],\n",
       "               [  0,   0,   0,   0, 255, 255, 255,   0,   0,   0,   0,   0,   0,\n",
       "                  0,   0,   0, 255, 255],\n",
       "               [  0,   0,   0,   0, 255, 255, 255,   0,   0,   0,   0,   0,   0,\n",
       "                  0,   0, 255, 255, 255],\n",
       "               [  0,   0,   0, 255, 255, 255, 255,   0,   0,   0,   0,   0,   0,\n",
       "                  0,   0, 255, 255, 255],\n",
       "               [  0,   0,   0, 255, 255, 255, 255,   0,   0,   0,   0,   0,   0,\n",
       "                  0, 255, 255, 255,   0],\n",
       "               [  0,   0,   0, 255, 255, 255,   0,   0,   0,   0,   0,   0,   0,\n",
       "                255, 255, 255, 255,   0],\n",
       "               [  0,   0,   0, 255, 255, 255,   0,   0,   0,   0,   0, 255, 255,\n",
       "                255, 255, 255,   0,   0],\n",
       "               [  0,   0,   0, 255, 255, 255,   0,   0,   0,   0,   0, 255, 255,\n",
       "                255, 255,   0,   0,   0],\n",
       "               [  0,   0,   0,   0, 255, 255, 255,   0,   0,   0, 255, 255, 255,\n",
       "                255,   0,   0,   0,   0],\n",
       "               [  0,   0,   0,   0, 255, 255, 255, 255, 255, 255, 255, 255, 255,\n",
       "                255,   0,   0,   0,   0],\n",
       "               [  0,   0,   0,   0, 255, 255, 255, 255, 255, 255, 255, 255, 255,\n",
       "                  0,   0,   0,   0,   0],\n",
       "               [  0,   0,   0,   0,   0, 255, 255, 255, 255, 255, 255, 255,   0,\n",
       "                  0,   0,   0,   0,   0],\n",
       "               [  0,   0,   0,   0,   0,   0, 255, 255, 255, 255, 255,   0,   0,\n",
       "                  0,   0,   0,   0,   0],\n",
       "               [  0,   0,   0,   0,   0,   0,   0, 255, 255, 255,   0,   0,   0,\n",
       "                  0,   0,   0,   0,   0],\n",
       "               [  0,   0,   0,   0,   0,   0, 255, 255, 255,   0,   0,   0,   0,\n",
       "                  0,   0,   0,   0,   0],\n",
       "               [  0,   0,   0,   0,   0, 255, 255, 255, 255,   0,   0,   0,   0,\n",
       "                  0,   0,   0,   0,   0],\n",
       "               [  0,   0,   0,   0,   0, 255, 255, 255, 255,   0,   0,   0,   0,\n",
       "                  0,   0,   0,   0,   0],\n",
       "               [  0,   0,   0,   0, 255, 255, 255, 255,   0,   0,   0,   0,   0,\n",
       "                  0,   0,   0,   0,   0],\n",
       "               [  0,   0,   0, 255, 255, 255, 255,   0,   0,   0,   0,   0,   0,\n",
       "                  0,   0,   0,   0,   0],\n",
       "               [  0,   0,   0, 255, 255, 255, 255,   0,   0,   0,   0,   0,   0,\n",
       "                  0,   0,   0,   0,   0],\n",
       "               [  0,   0,   0, 255, 255, 255,   0,   0,   0,   0,   0,   0,   0,\n",
       "                  0,   0,   0,   0,   0],\n",
       "               [  0,   0, 255, 255, 255, 255,   0,   0,   0,   0,   0,   0,   0,\n",
       "                  0,   0,   0,   0,   0],\n",
       "               [  0,   0, 255, 255, 255,   0,   0,   0,   0,   0,   0,   0,   0,\n",
       "                  0,   0,   0,   0,   0],\n",
       "               [  0,   0, 255, 255, 255,   0,   0,   0,   0,   0,   0,   0,   0,\n",
       "                  0,   0,   0,   0,   0],\n",
       "               [  0, 255, 255, 255,   0,   0,   0,   0,   0,   0,   0,   0,   0,\n",
       "                  0,   0,   0,   0,   0],\n",
       "               [255, 255, 255,   0,   0,   0,   0,   0,   0,   0,   0,   0,   0,\n",
       "                  0,   0,   0,   0,   0],\n",
       "               [255, 255, 255,   0,   0,   0,   0,   0,   0,   0,   0,   0,   0,\n",
       "                  0,   0,   0,   0,   0],\n",
       "               [255, 255, 255,   0,   0,   0,   0,   0,   0,   0,   0,   0,   0,\n",
       "                  0,   0,   0,   0,   0],\n",
       "               [255, 255, 255,   0,   0,   0,   0,   0,   0,   0,   0,   0,   0,\n",
       "                  0,   0,   0,   0,   0],\n",
       "               [255, 255, 255, 255,   0,   0,   0,   0,   0,   0,   0,   0,   0,\n",
       "                  0,   0,   0,   0,   0]], dtype=uint8)                         ],\n",
       "       [array([[  0,   0,   0,   0, 255, 255, 255, 255, 255, 255, 255, 255,   0,\n",
       "                  0,   0,   0,   0,   0,   0,   0, 255, 255, 255, 255, 255],\n",
       "               [  0,   0, 255, 255, 255, 255, 255, 255, 255, 255, 255, 255,   0,\n",
       "                  0,   0,   0,   0,   0,   0, 255, 255, 255, 255, 255, 255],\n",
       "               [  0,   0, 255, 255, 255, 255, 255,   0, 255, 255, 255,   0,   0,\n",
       "                  0,   0,   0,   0,   0,   0, 255, 255, 255, 255, 255, 255],\n",
       "               [  0, 255, 255, 255, 255, 255,   0,   0, 255, 255, 255,   0,   0,\n",
       "                  0,   0,   0,   0,   0, 255, 255, 255, 255, 255, 255, 255],\n",
       "               [  0, 255, 255, 255, 255,   0,   0,   0,   0,   0,   0,   0,   0,\n",
       "                  0,   0,   0,   0,   0, 255, 255, 255, 255, 255, 255,   0],\n",
       "               [255, 255, 255, 255,   0,   0,   0,   0,   0,   0,   0,   0,   0,\n",
       "                  0,   0,   0,   0,   0, 255, 255, 255, 255, 255,   0,   0],\n",
       "               [255, 255, 255, 255, 255,   0,   0,   0,   0,   0,   0,   0,   0,\n",
       "                  0,   0,   0,   0, 255, 255, 255, 255, 255, 255,   0,   0],\n",
       "               [255, 255, 255, 255, 255,   0,   0,   0,   0,   0,   0,   0,   0,\n",
       "                  0,   0,   0,   0, 255, 255, 255, 255, 255, 255,   0,   0],\n",
       "               [  0, 255, 255, 255,   0,   0,   0,   0,   0,   0,   0,   0,   0,\n",
       "                  0,   0,   0, 255, 255, 255, 255, 255, 255, 255,   0,   0],\n",
       "               [  0, 255, 255, 255, 255,   0,   0,   0,   0,   0,   0,   0,   0,\n",
       "                  0,   0, 255, 255, 255, 255, 255, 255, 255, 255,   0,   0],\n",
       "               [255, 255, 255, 255, 255,   0,   0,   0,   0,   0,   0,   0,   0,\n",
       "                  0, 255, 255, 255, 255, 255, 255, 255, 255, 255,   0,   0],\n",
       "               [255, 255, 255, 255, 255,   0,   0,   0,   0,   0,   0,   0,   0,\n",
       "                255, 255, 255, 255, 255, 255, 255, 255, 255,   0,   0,   0],\n",
       "               [  0, 255, 255, 255, 255, 255, 255, 255, 255,   0,   0, 255, 255,\n",
       "                255, 255, 255, 255, 255, 255, 255, 255, 255,   0,   0,   0],\n",
       "               [  0, 255, 255, 255, 255, 255, 255, 255, 255, 255, 255, 255, 255,\n",
       "                255, 255, 255, 255, 255, 255, 255, 255, 255,   0,   0,   0],\n",
       "               [  0,   0, 255, 255, 255, 255, 255, 255, 255, 255, 255, 255, 255,\n",
       "                255, 255,   0,   0, 255, 255, 255, 255,   0,   0,   0,   0],\n",
       "               [  0,   0,   0, 255, 255, 255, 255, 255, 255, 255, 255, 255, 255,\n",
       "                255,   0,   0,   0, 255, 255, 255, 255,   0,   0,   0,   0],\n",
       "               [  0,   0,   0,   0,   0, 255, 255, 255, 255, 255, 255, 255, 255,\n",
       "                  0,   0,   0,   0, 255, 255, 255, 255,   0,   0,   0,   0],\n",
       "               [  0,   0,   0,   0,   0,   0,   0,   0,   0,   0,   0,   0,   0,\n",
       "                  0,   0,   0, 255, 255, 255, 255, 255,   0,   0,   0,   0],\n",
       "               [  0,   0,   0,   0,   0,   0,   0,   0,   0,   0,   0,   0,   0,\n",
       "                  0,   0,   0, 255, 255, 255, 255, 255,   0,   0,   0,   0],\n",
       "               [  0,   0,   0,   0,   0,   0,   0,   0,   0,   0,   0,   0,   0,\n",
       "                  0,   0,   0, 255, 255, 255, 255,   0,   0,   0,   0,   0],\n",
       "               [  0,   0,   0,   0,   0,   0,   0,   0,   0,   0,   0,   0,   0,\n",
       "                  0,   0,   0, 255, 255, 255, 255,   0,   0,   0,   0,   0],\n",
       "               [  0,   0,   0,   0,   0,   0,   0,   0,   0,   0,   0,   0,   0,\n",
       "                  0,   0, 255, 255, 255, 255, 255,   0,   0,   0,   0,   0],\n",
       "               [  0,   0,   0,   0,   0,   0,   0,   0,   0,   0,   0,   0,   0,\n",
       "                  0,   0, 255, 255, 255, 255, 255,   0,   0,   0,   0,   0],\n",
       "               [  0,   0,   0,   0,   0,   0,   0,   0,   0,   0,   0,   0,   0,\n",
       "                  0,   0, 255, 255, 255, 255, 255,   0,   0,   0,   0,   0],\n",
       "               [  0,   0,   0,   0,   0,   0,   0,   0,   0,   0,   0,   0,   0,\n",
       "                  0,   0, 255, 255, 255, 255,   0,   0,   0,   0,   0,   0],\n",
       "               [  0,   0,   0,   0,   0,   0,   0,   0,   0,   0,   0,   0,   0,\n",
       "                  0,   0, 255, 255, 255, 255,   0,   0,   0,   0,   0,   0],\n",
       "               [  0,   0,   0,   0,   0,   0,   0,   0,   0,   0,   0,   0,   0,\n",
       "                  0,   0, 255, 255, 255, 255,   0,   0,   0,   0,   0,   0],\n",
       "               [  0,   0,   0,   0,   0,   0,   0,   0,   0,   0,   0,   0,   0,\n",
       "                  0,   0, 255, 255, 255, 255,   0,   0,   0,   0,   0,   0],\n",
       "               [  0,   0,   0,   0,   0,   0,   0,   0,   0,   0,   0,   0,   0,\n",
       "                  0, 255, 255, 255, 255,   0,   0,   0,   0,   0,   0,   0],\n",
       "               [  0,   0,   0,   0,   0,   0,   0,   0,   0,   0,   0,   0,   0,\n",
       "                  0, 255, 255, 255, 255,   0,   0,   0,   0,   0,   0,   0],\n",
       "               [  0,   0,   0,   0,   0,   0,   0,   0,   0,   0,   0,   0,   0,\n",
       "                  0, 255, 255, 255, 255,   0,   0,   0,   0,   0,   0,   0],\n",
       "               [  0,   0,   0,   0,   0,   0,   0,   0,   0,   0,   0,   0,   0,\n",
       "                  0, 255, 255, 255, 255,   0,   0,   0,   0,   0,   0,   0],\n",
       "               [  0,   0,   0,   0,   0,   0,   0,   0,   0,   0,   0,   0,   0,\n",
       "                  0, 255, 255, 255,   0,   0,   0,   0,   0,   0,   0,   0],\n",
       "               [  0,   0,   0,   0,   0,   0,   0,   0,   0,   0,   0,   0,   0,\n",
       "                255, 255, 255, 255, 255,   0,   0,   0,   0,   0,   0,   0],\n",
       "               [  0,   0,   0,   0,   0,   0,   0,   0,   0,   0,   0,   0,   0,\n",
       "                  0, 255, 255, 255, 255,   0,   0,   0,   0,   0,   0,   0]],\n",
       "              dtype=uint8)                                                      ]],\n",
       "      dtype=object)"
      ]
     },
     "execution_count": 4,
     "metadata": {},
     "output_type": "execute_result"
    }
   ],
   "source": [
    "dataset['Data']"
   ]
  },
  {
   "cell_type": "code",
   "execution_count": 5,
   "metadata": {},
   "outputs": [
    {
     "data": {
      "text/plain": [
       "array([[  0,   0,   0, ..., 255, 255,   0],\n",
       "       [  0,   0,   0, ..., 255, 255, 255],\n",
       "       [  0,   0,   0, ..., 255, 255, 255],\n",
       "       ...,\n",
       "       [  0,   0,   0, ...,   0,   0,   0],\n",
       "       [  0,   0,   0, ...,   0,   0,   0],\n",
       "       [  0,   0,   0, ...,   0,   0,   0]], dtype=uint8)"
      ]
     },
     "execution_count": 5,
     "metadata": {},
     "output_type": "execute_result"
    }
   ],
   "source": [
    "dataset['Data'][4][0]"
   ]
  },
  {
   "cell_type": "code",
   "execution_count": 9,
   "metadata": {},
   "outputs": [
    {
     "data": {
      "text/plain": [
       "array([4], dtype=uint8)"
      ]
     },
     "execution_count": 9,
     "metadata": {},
     "output_type": "execute_result"
    }
   ],
   "source": [
    "dataset['labels'][40]"
   ]
  },
  {
   "cell_type": "code",
   "execution_count": 11,
   "metadata": {},
   "outputs": [
    {
     "data": {
      "text/plain": [
       "Text(0.5, 1.0, '4')"
      ]
     },
     "execution_count": 11,
     "metadata": {},
     "output_type": "execute_result"
    },
    {
     "data": {
      "image/png": "[encoded data removed]",
      "text/plain": [
       "<Figure size 640x480 with 1 Axes>"
      ]
     },
     "metadata": {},
     "output_type": "display_data"
    }
   ],
   "source": [
    "plt.imshow(dataset['Data'][40][0], cmap = 'gray')\n",
    "plt.title(dataset['labels'][40][0])"
   ]
  },
  {
   "cell_type": "code",
   "execution_count": 6,
   "metadata": {},
   "outputs": [
    {
     "data": {
      "text/plain": [
       "<matplotlib.image.AxesImage at 0x18f04527730>"
      ]
     },
     "execution_count": 6,
     "metadata": {},
     "output_type": "execute_result"
    },
    {
     "data": {
      "image/png": "[encoded data removed]",
      "text/plain": [
       "<Figure size 640x480 with 1 Axes>"
      ]
     },
     "metadata": {},
     "output_type": "display_data"
    }
   ],
   "source": [
    "plt.imshow(dataset['Data'][4][0])"
   ]
  },
  {
   "cell_type": "code",
   "execution_count": 8,
   "metadata": {},
   "outputs": [
    {
     "data": {
      "text/plain": [
       "<matplotlib.image.AxesImage at 0x18f091b1f60>"
      ]
     },
     "execution_count": 8,
     "metadata": {},
     "output_type": "execute_result"
    },
    {
     "data": {
      "image/png": "[encoded data removed]",
      "text/plain": [
       "<Figure size 640x480 with 1 Axes>"
      ]
     },
     "metadata": {},
     "output_type": "display_data"
    }
   ],
   "source": [
    "plt.imshow(dataset['Data'][4][0], cmap='gray')"
   ]
  },
  {
   "cell_type": "markdown",
   "metadata": {},
   "source": [
    "## <div style=\"direction:rtl;text-align:right;font-family:B Lotus, B Nazanin, Tahoma\">انتخاب مجموعه داده آموزش و مجموعه داده آزمون(تست)</div>\n",
    "<div style=\"direction:rtl;text-align:right;font-family:Tahoma\">\n",
    "در این مجموعه داده 60000 داده تصادفی وجود دارد.\n",
    "<br>\n",
    "برای آزمایشاتمان 1000 داده‌ی اول را برای آموزش و 200 داده‌ی بعدی را برای آزمون انتخاب می‌کنیم.\n",
    "<br>\n",
    "**داده های آزمون نباید قبلا در داده های آموزشی دیده شده باشند.**\n",
    "</div>"
   ]
  },
  {
   "cell_type": "code",
   "execution_count": 12,
   "metadata": {},
   "outputs": [],
   "source": [
    "#test and training set\n",
    "X_train_orginal = np.squeeze(dataset['Data'][:1000])\n",
    "y_train = np.squeeze(dataset['labels'][:1000])\n",
    "X_test_original = np.squeeze(dataset['Data'][1000:1200])\n",
    "y_test = np.squeeze(dataset['labels'][1000:1200])"
   ]
  },
  {
   "cell_type": "markdown",
   "metadata": {},
   "source": [
    "\"squeeze\": Remove single-dimensional entries from the shape of an array."
   ]
  },
  {
   "cell_type": "markdown",
   "metadata": {},
   "source": [
    "<div style=\"direction:rtl;text-align:right;font-family:Tahoma\">\n",
    "نگاهی به مجموعه داده بیندازیم!\n",
    "</div>"
   ]
  },
  {
   "cell_type": "code",
   "execution_count": 13,
   "metadata": {},
   "outputs": [
    {
     "data": {
      "image/png": "[encoded data removed]",
      "text/plain": [
       "<Figure size 640x480 with 1 Axes>"
      ]
     },
     "metadata": {},
     "output_type": "display_data"
    }
   ],
   "source": [
    "plt.imshow(X_train_orginal[999], cmap='gray')\n",
    "plt.show()"
   ]
  },
  {
   "cell_type": "code",
   "execution_count": 14,
   "metadata": {},
   "outputs": [
    {
     "data": {
      "image/png": "[encoded data removed]",
      "text/plain": [
       "<Figure size 640x480 with 1 Axes>"
      ]
     },
     "metadata": {},
     "output_type": "display_data"
    },
    {
     "name": "stdout",
     "output_type": "stream",
     "text": [
      "Label 70th image is: 8\n"
     ]
    }
   ],
   "source": [
    "i=70\n",
    "image = X_train_orginal[i]\n",
    "label = y_train[i]\n",
    "plt.imshow(image, cmap='gray')\n",
    "plt.show()\n",
    "print(\"Label {}th image is: {}\".format(i, label))"
   ]
  },
  {
   "cell_type": "markdown",
   "metadata": {},
   "source": [
    "<div style=\"direction:rtl;text-align:right;font-family:Tahoma\">\n",
    "در کد بالا مقدار i را تغییر دهید و تصاویر را ببینید</div>"
   ]
  },
  {
   "cell_type": "markdown",
   "metadata": {},
   "source": [
    "## <div style=\"direction:rtl;text-align:right;font-family:B Lotus, B Nazanin, Tahoma\">تغییر اندازه تصاویر مجموعه داده</div>\n",
    "<div style=\"direction:rtl;text-align:right;font-family:Tahoma\">\n",
    "اندازه تصاویر مجموعه داده متفاوت است. <br>\n",
    "تمام تصاویر را به یک اندازه مشخص (5*5) تغییر اندازه می‌دهیم.\n",
    "</div>"
   ]
  },
  {
   "cell_type": "code",
   "execution_count": 15,
   "metadata": {},
   "outputs": [],
   "source": [
    "#resize\n",
    "X_train_5by5 = [cv2.resize(img, dsize=(5, 5)) for img in X_train_orginal]\n",
    "X_test_5by_5 = [cv2.resize(img, dsize=(5, 5)) for img in X_test_original]"
   ]
  },
  {
   "cell_type": "code",
   "execution_count": 16,
   "metadata": {},
   "outputs": [
    {
     "data": {
      "image/png": "[encoded data removed]",
      "text/plain": [
       "<Figure size 640x480 with 1 Axes>"
      ]
     },
     "metadata": {},
     "output_type": "display_data"
    }
   ],
   "source": [
    "image = X_train_5by5[1]\n",
    "plt.imshow(image, cmap='gray')\n",
    "plt.show()"
   ]
  },
  {
   "cell_type": "markdown",
   "metadata": {},
   "source": [
    "## <div style=\"direction:rtl;text-align:right;font-family:B Lotus, B Nazanin, Tahoma\">تغییر شکل مجموعه داده</div>\n"
   ]
  },
  {
   "cell_type": "code",
   "execution_count": 17,
   "metadata": {},
   "outputs": [],
   "source": [
    "#reshape\n",
    "X_train = np.reshape(X_train_5by5, [-1,25])\n",
    "X_test = np.reshape(X_test_5by_5, [-1,25])"
   ]
  },
  {
   "cell_type": "code",
   "execution_count": 18,
   "metadata": {},
   "outputs": [
    {
     "data": {
      "text/plain": [
       "(1000, 25)"
      ]
     },
     "execution_count": 18,
     "metadata": {},
     "output_type": "execute_result"
    }
   ],
   "source": [
    "X_train.shape"
   ]
  },
  {
   "cell_type": "code",
   "execution_count": 19,
   "metadata": {},
   "outputs": [
    {
     "data": {
      "text/plain": [
       "(200, 25)"
      ]
     },
     "execution_count": 19,
     "metadata": {},
     "output_type": "execute_result"
    }
   ],
   "source": [
    "X_test.shape"
   ]
  },
  {
   "cell_type": "code",
   "execution_count": null,
   "metadata": {},
   "outputs": [],
   "source": []
  }
 ],
 "metadata": {
  "anaconda-cloud": {},
  "kernelspec": {
   "display_name": "Python 3 (ipykernel)",
   "language": "python",
   "name": "python3"
  },
  "language_info": {
   "codemirror_mode": {
    "name": "ipython",
    "version": 3
   },
   "file_extension": ".py",
   "mimetype": "text/x-python",
   "name": "python",
   "nbconvert_exporter": "python",
   "pygments_lexer": "ipython3",
   "version": "3.10.12"
  },
  "nbpresent": {
   "slides": {
    "300ee14f-a043-486e-b274-7ff253907cd7": {
     "id": "300ee14f-a043-486e-b274-7ff253907cd7",
     "prev": "cb74e0bc-4513-4d13-b7f1-14c3078a7927",
     "regions": {
      "26dc3f39-a230-447c-af4c-f5e5b2fb7835": {
       "attrs": {
        "height": 0.8,
        "width": 0.8,
        "x": 0.1,
        "y": 0.1
       },
       "content": {
        "cell": "c58440a5-3f8f-4f37-9c79-6bf766209406",
        "part": "whole"
       },
       "id": "26dc3f39-a230-447c-af4c-f5e5b2fb7835"
      }
     }
    },
    "878aa53a-1444-4100-8f50-7a408191c579": {
     "id": "878aa53a-1444-4100-8f50-7a408191c579",
     "prev": null,
     "regions": {
      "a6c6843a-5ea6-4fbc-b890-3b4b8ae475b3": {
       "attrs": {
        "height": 0.8,
        "width": 0.8,
        "x": 0.1,
        "y": 0.1
       },
       "content": {
        "cell": "588ee1fa-64b5-453b-ade7-8e6b2515821c",
        "part": "whole"
       },
       "id": "a6c6843a-5ea6-4fbc-b890-3b4b8ae475b3"
      }
     }
    },
    "96ffe88e-7b50-43de-afdd-942e564f4e3e": {
     "id": "96ffe88e-7b50-43de-afdd-942e564f4e3e",
     "prev": "878aa53a-1444-4100-8f50-7a408191c579",
     "regions": {
      "b7e52e12-489a-468d-b10c-af2024fd2856": {
       "attrs": {
        "height": 0.8,
        "width": 0.8,
        "x": 0.1,
        "y": 0.1
       },
       "content": {
        "cell": "de829a92-1fb6-44ad-a2c6-fc1001e1f6e1",
        "part": "whole"
       },
       "id": "b7e52e12-489a-468d-b10c-af2024fd2856"
      }
     }
    },
    "cb74e0bc-4513-4d13-b7f1-14c3078a7927": {
     "id": "cb74e0bc-4513-4d13-b7f1-14c3078a7927",
     "prev": "96ffe88e-7b50-43de-afdd-942e564f4e3e",
     "regions": {
      "444878ee-68f3-4abb-acff-a7079b21e86d": {
       "attrs": {
        "height": 0.8,
        "width": 0.8,
        "x": 0.1,
        "y": 0.1
       },
       "content": {
        "cell": "25f3f538-1ee8-4d98-a6bb-14cbeb7a702d",
        "part": "whole"
       },
       "id": "444878ee-68f3-4abb-acff-a7079b21e86d"
      }
     }
    }
   },
   "themes": {}
  }
 },
 "nbformat": 4,
 "nbformat_minor": 4
}
