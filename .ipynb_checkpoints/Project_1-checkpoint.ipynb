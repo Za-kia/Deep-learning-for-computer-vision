{
 "cells": [
  {
   "cell_type": "code",
   "execution_count": 3,
   "id": "792362b2",
   "metadata": {},
   "outputs": [],
   "source": [
    "import tensorflow as tf # deep learning modeling\n",
    "import pandas as pd # reading and processing data\n",
    "import seaborn as sns # visualizations\n",
    "from tensorflow.keras.layers import Normalization,Dense\n",
    "from tensorflow.keras.losses import MeanSquaredError,MeanAbsoluteError, Huber\n",
    "from tensorflow.keras.metrics import RootMeanSquaredError\n",
    "from tensorflow.keras.optimizers import Adam, SGD\n",
    "import matplotlib.pyplot as plt"
   ]
  },
  {
   "cell_type": "code",
   "execution_count": 4,
   "id": "da506c11",
   "metadata": {},
   "outputs": [],
   "source": [
    "filepath = \"/content/train.csv\""
   ]
  },
  {
   "cell_type": "code",
   "execution_count": 6,
   "id": "8ac5f04e",
   "metadata": {},
   "outputs": [],
   "source": [
    "#data = pd.read_csv(filepath,sep=\",\")"
   ]
  },
  {
   "cell_type": "code",
   "execution_count": null,
   "id": "eb8e5d31",
   "metadata": {},
   "outputs": [],
   "source": [
    "data.shape"
   ]
  },
  {
   "cell_type": "code",
   "execution_count": null,
   "id": "2d6f829b",
   "metadata": {},
   "outputs": [],
   "source": [
    "data.head()"
   ]
  },
  {
   "cell_type": "code",
   "execution_count": null,
   "id": "db197c66",
   "metadata": {},
   "outputs": [],
   "source": [
    "sns.pairplot(data[['years', 'km', 'rating', 'condition', 'economy', 'top speed', 'hp', 'torque', 'current price']],)"
   ]
  },
  {
   "cell_type": "code",
   "execution_count": null,
   "id": "083fc3b7",
   "metadata": {},
   "outputs": [],
   "source": [
    "#data preperatin"
   ]
  },
  {
   "cell_type": "code",
   "execution_count": null,
   "id": "464a1c6d",
   "metadata": {},
   "outputs": [],
   "source": [
    "tensor_data=tf.constant(data)\n",
    "tensor_data=tf.cast(tensor_data, tf.float32)\n",
    "print(tensor_data)"
   ]
  },
  {
   "cell_type": "code",
   "execution_count": null,
   "id": "4d76e509",
   "metadata": {},
   "outputs": [],
   "source": [
    "print(tensor_data[:5])"
   ]
  },
  {
   "cell_type": "code",
   "execution_count": null,
   "id": "6a629b70",
   "metadata": {},
   "outputs": [],
   "source": [
    "tensor_data = tf.random.shuffle(data)\n",
    "print(tensor_data[:5])"
   ]
  },
  {
   "cell_type": "code",
   "execution_count": null,
   "id": "d2c521e7",
   "metadata": {},
   "outputs": [],
   "source": [
    "X = tensor_data[:,3:-1]\n",
    "print(X.shape)\n",
    "print(X[:5])"
   ]
  },
  {
   "cell_type": "code",
   "execution_count": null,
   "id": "e57ae72a",
   "metadata": {},
   "outputs": [],
   "source": [
    "y = tensor_data[:,-1]\n",
    "print(y[:5].shape)\n",
    "print(y[:5])\n",
    "y = tf.expand_dims(y,axis = -1)"
   ]
  },
  {
   "cell_type": "code",
   "execution_count": null,
   "id": "de45fce7",
   "metadata": {},
   "outputs": [],
   "source": [
    "normalizer = Normalization(axis = -1,mean = 5, variance = 4)\n",
    "x_normalized = tf.constant([[3,4,5,6,7],\n",
    "                           [4,5,6,7,8]])\n",
    "normalizer(x_normalized)"
   ]
  },
  {
   "cell_type": "code",
   "execution_count": null,
   "id": "00f3599b",
   "metadata": {},
   "outputs": [],
   "source": [
    "# x-mean/std\n",
    "# std^2 = sqrt(variance)"
   ]
  },
  {
   "cell_type": "code",
   "execution_count": null,
   "id": "bd7154b5",
   "metadata": {},
   "outputs": [],
   "source": [
    "normalizer = Normalization()\n",
    "x_normalized = tf.constant([[3,4,5,6,7],\n",
    "                           [4,5,6,7,8]])\n",
    "normalizer.adapt(x_normalized)\n",
    "normalizer(x_normalized)"
   ]
  },
  {
   "cell_type": "code",
   "execution_count": null,
   "id": "15835ed7",
   "metadata": {},
   "outputs": [],
   "source": [
    "normalizer = Normalization()\n",
    "x_normalized = tf.constant([[3,4,5,6,7],\n",
    "                           [4,5,6,7,8],\n",
    "                           [32,1,56,3,5]])\n",
    "normalizer.adapt(x_normalized)\n",
    "normalizer(x_normalized)"
   ]
  },
  {
   "cell_type": "code",
   "execution_count": null,
   "id": "2936fa83",
   "metadata": {},
   "outputs": [],
   "source": [
    "normalizer = Normalization()\n",
    "normalizer.adapt(x)\n",
    "normalizer(x)[:5]"
   ]
  },
  {
   "cell_type": "code",
   "execution_count": null,
   "id": "81098814",
   "metadata": {},
   "outputs": [],
   "source": [
    "print(X[:5])"
   ]
  },
  {
   "cell_type": "code",
   "execution_count": null,
   "id": "1bc16044",
   "metadata": {},
   "outputs": [],
   "source": [
    "shuffled_data = tf.random.shuffle(data)"
   ]
  },
  {
   "cell_type": "code",
   "execution_count": null,
   "id": "f58350de",
   "metadata": {},
   "outputs": [],
   "source": [
    "X = shuffled_data[:,3:-1]\n",
    "y = tf.expand_dims(shuffled_data[:,-1],-1)"
   ]
  },
  {
   "cell_type": "code",
   "execution_count": null,
   "id": "3f5237bd",
   "metadata": {},
   "outputs": [],
   "source": [
    "print(X.shape,y.shape)"
   ]
  },
  {
   "cell_type": "code",
   "execution_count": null,
   "id": "69c86628",
   "metadata": {},
   "outputs": [],
   "source": [
    "data.head()"
   ]
  },
  {
   "cell_type": "code",
   "execution_count": null,
   "id": "6af5ec77",
   "metadata": {},
   "outputs": [],
   "source": [
    "TRAIN_RATIO = 0.8\n",
    "VAL_RATIO = 0.1\n",
    "TEST_RATIO = 0.1\n",
    "DATASET_SIZE = len(X)\n",
    "print(DATASET_SIZE)"
   ]
  },
  {
   "cell_type": "code",
   "execution_count": null,
   "id": "62204e52",
   "metadata": {},
   "outputs": [],
   "source": [
    "X_train = X[:int(DATASET_SIZE*TRAIN_RATIO)]\n",
    "y_train = y[:int(DATASET_SIZE*TRAIN_RATIO)]\n",
    "print(X_train.shape,y_train.shape)"
   ]
  },
  {
   "cell_type": "code",
   "execution_count": null,
   "id": "88b81540",
   "metadata": {},
   "outputs": [],
   "source": [
    "X_val = X[int(DATASET_SIZE*TRAIN_RATIO):int(DATASET_SIZE*(TRAIN_RATIO+VAL_RATIO))]\n",
    "y_val = y[int(DATASET_SIZE*TRAIN_RATIO):int(DATASET_SIZE*(TRAIN_RATIO+VAL_RATIO))]\n",
    "print(X_val.shape,y_val.shape)"
   ]
  },
  {
   "cell_type": "code",
   "execution_count": null,
   "id": "b0083b48",
   "metadata": {},
   "outputs": [],
   "source": [
    "X_test = X[int(DATASET_SIZE*(TRAIN_RATIO+VAL_RATIO)):]\n",
    "y_test = y[int(DATASET_SIZE*(TRAIN_RATIO+VAL_RATIO)):]\n",
    "print(X_test.shape,y_test.shape)"
   ]
  },
  {
   "cell_type": "code",
   "execution_count": null,
   "id": "c9527e65",
   "metadata": {},
   "outputs": [],
   "source": [
    "BUFFER_SIZE = 16\n",
    "BATCH_SIZE = 64"
   ]
  },
  {
   "cell_type": "code",
   "execution_count": null,
   "id": "5d303611",
   "metadata": {},
   "outputs": [],
   "source": [
    "train_dataset = tf.data.Dataset.from_tensor_slices((X_train,y_train))\n",
    "train_dataset = train_dataset.shuffle(buffer_size = BUFFER_SIZE).batch(BATCH_SIZE).prefetch(tf.data.AUTOTUNE)"
   ]
  },
  {
   "cell_type": "code",
   "execution_count": null,
   "id": "15a48278",
   "metadata": {},
   "outputs": [],
   "source": [
    "val_dataset = tf.data.Dataset.from_tensor_slices((X_val,y_val))\n",
    "val_dataset = val_dataset.shuffle(buffer_size = BUFFER_SIZE).batch(BATCH_SIZE).prefetch(tf.data.AUTOTUNE)"
   ]
  },
  {
   "cell_type": "code",
   "execution_count": null,
   "id": "1d0614ee",
   "metadata": {},
   "outputs": [],
   "source": [
    "test_dataset = tf.data.Dataset.from_tensor_slices((X_test,y_test))\n",
    "test_dataset = test_dataset.shuffle(buffer_size = BUFFER_SIZE).batch(BATCH_SIZE).prefetch(tf.data.AUTOTUNE)"
   ]
  },
  {
   "cell_type": "code",
   "execution_count": null,
   "id": "a3ac2966",
   "metadata": {},
   "outputs": [],
   "source": [
    "for i,j in train_dataset:\n",
    "  print(i.shape,j.shape)\n",
    "  break"
   ]
  },
  {
   "cell_type": "code",
   "execution_count": null,
   "id": "7b7be9f8",
   "metadata": {},
   "outputs": [],
   "source": [
    "normalizer = Normalization()\n",
    "normalizer.adapt(X_train)\n",
    "normalizer(X_train)[:5]"
   ]
  },
  {
   "cell_type": "code",
   "execution_count": null,
   "id": "633583d2",
   "metadata": {},
   "outputs": [],
   "source": [
    "model = tf.keras.Sequential([\n",
    "    normalizer,\n",
    "    Dense(128),\n",
    "    Dense(128),\n",
    "    Dense(128),\n",
    "    Dense(1),\n",
    "],name=\"first-model\")\n",
    "model.summary()"
   ]
  },
  {
   "cell_type": "code",
   "execution_count": null,
   "id": "61103322",
   "metadata": {},
   "outputs": [],
   "source": [
    "tf.keras.utils.plot_model(model, to_file = \"model.png\", show_shapes=True)"
   ]
  },
  {
   "cell_type": "code",
   "execution_count": null,
   "id": "f8abd2cb",
   "metadata": {},
   "outputs": [],
   "source": [
    "model.compile(optimizer = Adam(learning_rate = 0.1),\n",
    "              loss = MeanAbsoluteError(),\n",
    "              metrics = RootMeanSquaredError())"
   ]
  },
  {
   "cell_type": "code",
   "execution_count": null,
   "id": "ca6b6511",
   "metadata": {},
   "outputs": [],
   "source": [
    "history = model.fit(\n",
    "    train_dataset,\n",
    "    validation_data=val_dataset,epochs = 100, verbose = 1)"
   ]
  },
  {
   "cell_type": "code",
   "execution_count": null,
   "id": "733cfb1a",
   "metadata": {},
   "outputs": [],
   "source": [
    "plt.plot(history.history['loss'])\n",
    "plt.plot(history.history['val_loss'])\n",
    "plt.title('model loss')\n",
    "plt.ylabel('loss')\n",
    "plt.xlabel('epoch')\n",
    "plt.legend(['train', 'val_loss'])\n",
    "plt.show()"
   ]
  }
 ],
 "metadata": {
  "kernelspec": {
   "display_name": "Python 3 (ipykernel)",
   "language": "python",
   "name": "python3"
  },
  "language_info": {
   "codemirror_mode": {
    "name": "ipython",
    "version": 3
   },
   "file_extension": ".py",
   "mimetype": "text/x-python",
   "name": "python",
   "nbconvert_exporter": "python",
   "pygments_lexer": "ipython3",
   "version": "3.10.12"
  }
 },
 "nbformat": 4,
 "nbformat_minor": 5
}
