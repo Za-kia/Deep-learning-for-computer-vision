{
 "cells": [
  {
   "cell_type": "markdown",
   "metadata": {
    "id": "mUXNXqK7n0Tt"
   },
   "source": [
    "<center><div style=\"direction:rtl;font-family:B Lotus, B Nazanin, Tahoma\">به نام خدا</div></center>\n",
    "\n",
    "<h1><center><div style=\"direction:rtl;font-family:B Lotus, B Nazanin, Tahoma\">مقدمه‌ای بر شبکه‌های عصبی و چارچوب Keras (کراس)</div></center></h1>"
   ]
  },
  {
   "cell_type": "markdown",
   "metadata": {
    "id": "jP3IhlAYn0Tw"
   },
   "source": [
    "## <div style=\"direction:rtl;text-align:right;font-family:B Lotus, B Nazanin, Tahoma\">لود کتابخانه‌های مورد استفاده</div>\n",
    "<div style=\"direction:rtl;text-align:right;font-family:Tahoma\">\n"
   ]
  },
  {
   "cell_type": "code",
   "execution_count": 1,
   "metadata": {},
   "outputs": [
    {
     "data": {
      "text/plain": [
       "('Data_hoda_full.mat', <http.client.HTTPMessage at 0x1eee31ebdc0>)"
      ]
     },
     "execution_count": 1,
     "metadata": {},
     "output_type": "execute_result"
    }
   ],
   "source": [
    "import urllib.request\n",
    "\n",
    "# دانلود dataset.py\n",
    "url1 = 'https://raw.githubusercontent.com/Alireza-Akhavan/deeplearning-tensorflow2-notebooks/master/dataset.py'\n",
    "urllib.request.urlretrieve(url1, 'dataset.py')\n",
    "\n",
    "# دانلود Data_hoda_full.mat\n",
    "url2 = 'https://github.com/Alireza-Akhavan/deeplearning-tensorflow2-notebooks/raw/master/dataset/Data_hoda_full.mat'\n",
    "urllib.request.urlretrieve(url2, 'Data_hoda_full.mat')"
   ]
  },
  {
   "cell_type": "code",
   "execution_count": 2,
   "metadata": {
    "id": "wRZGKJERn0Ty",
    "nbpresent": {
     "id": "de829a92-1fb6-44ad-a2c6-fc1001e1f6e1"
    }
   },
   "outputs": [],
   "source": [
    "#from sklearn import datasets\n",
    "from tensorflow import keras\n",
    "from keras.models import Sequential\n",
    "from keras.layers import Dense\n",
    "import numpy as np\n",
    "\n",
    "from dataset import load_hoda"
   ]
  },
  {
   "cell_type": "markdown",
   "metadata": {
    "id": "n6Fce1Mmn0T0"
   },
   "source": [
    "## <div style=\"direction:rtl;text-align:right;font-family:B Lotus, B Nazanin, Tahoma\">لود مجموعه داده (dataset)</div>"
   ]
  },
  {
   "cell_type": "code",
   "execution_count": 4,
   "metadata": {
    "id": "75933Yn4n0T2"
   },
   "outputs": [],
   "source": [
    "x_train_original, y_train_original, x_test_original, y_test_original = load_hoda()"
   ]
  },
  {
   "cell_type": "code",
   "execution_count": 5,
   "metadata": {
    "id": "Ea33wtOhojtO"
   },
   "outputs": [
    {
     "data": {
      "text/plain": [
       "array([6, 5, 0], dtype=uint8)"
      ]
     },
     "execution_count": 5,
     "metadata": {},
     "output_type": "execute_result"
    }
   ],
   "source": [
    "y_train_original[:3]"
   ]
  },
  {
   "cell_type": "code",
   "execution_count": 6,
   "metadata": {
    "id": "TNqdNuDmn0T4"
   },
   "outputs": [],
   "source": [
    "# Preprocess input data for Keras.\n",
    "y_train = keras.utils.to_categorical(y_train_original, num_classes=10)\n",
    "y_test = keras.utils.to_categorical(y_test_original, num_classes=10)"
   ]
  },
  {
   "cell_type": "code",
   "execution_count": 7,
   "metadata": {
    "id": "uoO2KjILomRf"
   },
   "outputs": [
    {
     "data": {
      "text/plain": [
       "array([[0., 0., 0., 0., 0., 0., 1., 0., 0., 0.],\n",
       "       [0., 0., 0., 0., 0., 1., 0., 0., 0., 0.],\n",
       "       [1., 0., 0., 0., 0., 0., 0., 0., 0., 0.]], dtype=float32)"
      ]
     },
     "execution_count": 7,
     "metadata": {},
     "output_type": "execute_result"
    }
   ],
   "source": [
    "y_train[:3]"
   ]
  },
  {
   "cell_type": "markdown",
   "metadata": {
    "id": "HTMmpwKvn0T6"
   },
   "source": [
    "<div style=\"direction:rtl;text-align:right;font-family:Tahoma\">\n",
    "نرمال سازی مقادیر به مقدار بین 0 و 1\n",
    "</div>"
   ]
  },
  {
   "cell_type": "code",
   "execution_count": 8,
   "metadata": {
    "id": "Qq6rwPV3n0T7"
   },
   "outputs": [],
   "source": [
    "x_train = x_train_original.astype('float32')\n",
    "x_test = x_test_original.astype('float32')\n",
    "x_train /= 255\n",
    "x_test /= 255"
   ]
  },
  {
   "cell_type": "markdown",
   "metadata": {
    "id": "jnNoMbA4n0UA"
   },
   "source": [
    "## <div style=\"direction:rtl;text-align:right;font-family:B Lotus, B Nazanin, Tahoma\">تعریف معماری مدل (model architecture)</div>"
   ]
  },
  {
   "cell_type": "code",
   "execution_count": 9,
   "metadata": {
    "id": "yXI8Qt9ln0UD"
   },
   "outputs": [],
   "source": [
    "model = Sequential()\n",
    "model.add(Dense(64, activation='relu', input_dim=25))\n",
    "model.add(Dense(10, activation='softmax'))"
   ]
  },
  {
   "cell_type": "code",
   "execution_count": 10,
   "metadata": {
    "id": "PjjzCgUon0UE"
   },
   "outputs": [
    {
     "name": "stdout",
     "output_type": "stream",
     "text": [
      "Model: \"sequential\"\n",
      "_________________________________________________________________\n",
      " Layer (type)                Output Shape              Param #   \n",
      "=================================================================\n",
      " dense (Dense)               (None, 64)                1664      \n",
      "                                                                 \n",
      " dense_1 (Dense)             (None, 10)                650       \n",
      "                                                                 \n",
      "=================================================================\n",
      "Total params: 2,314\n",
      "Trainable params: 2,314\n",
      "Non-trainable params: 0\n",
      "_________________________________________________________________\n"
     ]
    }
   ],
   "source": [
    "model.summary()"
   ]
  },
  {
   "cell_type": "markdown",
   "metadata": {
    "id": "eiBtCFgsn0UG"
   },
   "source": [
    "## <div style=\"direction:rtl;text-align:right;font-family:B Lotus, B Nazanin, Tahoma\">Compile model</div>\n"
   ]
  },
  {
   "cell_type": "code",
   "execution_count": 11,
   "metadata": {
    "id": "LgsEJt-on0UH"
   },
   "outputs": [],
   "source": [
    "model.compile(loss='categorical_crossentropy',\n",
    "              optimizer='rmsprop',\n",
    "              metrics=['accuracy'])"
   ]
  },
  {
   "cell_type": "markdown",
   "metadata": {
    "id": "K90TipVyn0UI"
   },
   "source": [
    "## <div style=\"direction:rtl;text-align:right;font-family:B Lotus, B Nazanin, Tahoma\">آموش مدل با داده‌های آموزشی</div>\n"
   ]
  },
  {
   "cell_type": "code",
   "execution_count": 12,
   "metadata": {
    "colab": {
     "base_uri": "https://localhost:8080/"
    },
    "id": "fII6tnXYp9B4",
    "outputId": "67134075-f97b-48cb-bed5-3d7cfeccebee"
   },
   "outputs": [
    {
     "data": {
      "text/plain": [
       "800.0"
      ]
     },
     "execution_count": 12,
     "metadata": {},
     "output_type": "execute_result"
    }
   ],
   "source": [
    "1000*0.8"
   ]
  },
  {
   "cell_type": "code",
   "execution_count": 13,
   "metadata": {
    "colab": {
     "base_uri": "https://localhost:8080/"
    },
    "id": "j_5xOZUSqES1",
    "outputId": "2231f503-88e4-461a-fd3d-9a4c31ef5645"
   },
   "outputs": [
    {
     "data": {
      "text/plain": [
       "13"
      ]
     },
     "execution_count": 13,
     "metadata": {},
     "output_type": "execute_result"
    }
   ],
   "source": [
    "import math\n",
    "math.ceil((800/64))"
   ]
  },
  {
   "cell_type": "code",
   "execution_count": 14,
   "metadata": {
    "colab": {
     "base_uri": "https://localhost:8080/"
    },
    "id": "pLBWKD3_n0UK",
    "outputId": "b7a3cf90-d1b1-4435-8eac-b2ae13396a51"
   },
   "outputs": [
    {
     "name": "stdout",
     "output_type": "stream",
     "text": [
      "Epoch 1/100\n",
      "13/13 [==============================] - 1s 39ms/step - loss: 2.2221 - accuracy: 0.1825 - val_loss: 2.0862 - val_accuracy: 0.3050\n",
      "Epoch 2/100\n",
      "13/13 [==============================] - 0s 8ms/step - loss: 2.0089 - accuracy: 0.3675 - val_loss: 1.9045 - val_accuracy: 0.4800\n",
      "Epoch 3/100\n",
      "13/13 [==============================] - 0s 10ms/step - loss: 1.8349 - accuracy: 0.5188 - val_loss: 1.7287 - val_accuracy: 0.6200\n",
      "Epoch 4/100\n",
      "13/13 [==============================] - 0s 9ms/step - loss: 1.6695 - accuracy: 0.6100 - val_loss: 1.5727 - val_accuracy: 0.6500\n",
      "Epoch 5/100\n",
      "13/13 [==============================] - 0s 9ms/step - loss: 1.5121 - accuracy: 0.6963 - val_loss: 1.4282 - val_accuracy: 0.6800\n",
      "Epoch 6/100\n",
      "13/13 [==============================] - 0s 9ms/step - loss: 1.3646 - accuracy: 0.7300 - val_loss: 1.2880 - val_accuracy: 0.7250\n",
      "Epoch 7/100\n",
      "13/13 [==============================] - 0s 9ms/step - loss: 1.2279 - accuracy: 0.7525 - val_loss: 1.1711 - val_accuracy: 0.7550\n",
      "Epoch 8/100\n",
      "13/13 [==============================] - 0s 9ms/step - loss: 1.1067 - accuracy: 0.7625 - val_loss: 1.0641 - val_accuracy: 0.7700\n",
      "Epoch 9/100\n",
      "13/13 [==============================] - 0s 9ms/step - loss: 1.0006 - accuracy: 0.7800 - val_loss: 0.9735 - val_accuracy: 0.7900\n",
      "Epoch 10/100\n",
      "13/13 [==============================] - 0s 8ms/step - loss: 0.9078 - accuracy: 0.8087 - val_loss: 0.8899 - val_accuracy: 0.8050\n",
      "Epoch 11/100\n",
      "13/13 [==============================] - 0s 9ms/step - loss: 0.8280 - accuracy: 0.8225 - val_loss: 0.8204 - val_accuracy: 0.8150\n",
      "Epoch 12/100\n",
      "13/13 [==============================] - 0s 8ms/step - loss: 0.7585 - accuracy: 0.8400 - val_loss: 0.7682 - val_accuracy: 0.8250\n",
      "Epoch 13/100\n",
      "13/13 [==============================] - 0s 9ms/step - loss: 0.7006 - accuracy: 0.8475 - val_loss: 0.7158 - val_accuracy: 0.8450\n",
      "Epoch 14/100\n",
      "13/13 [==============================] - 0s 9ms/step - loss: 0.6509 - accuracy: 0.8475 - val_loss: 0.6733 - val_accuracy: 0.8300\n",
      "Epoch 15/100\n",
      "13/13 [==============================] - 0s 8ms/step - loss: 0.6073 - accuracy: 0.8562 - val_loss: 0.6370 - val_accuracy: 0.8350\n",
      "Epoch 16/100\n",
      "13/13 [==============================] - 0s 9ms/step - loss: 0.5708 - accuracy: 0.8562 - val_loss: 0.6053 - val_accuracy: 0.8350\n",
      "Epoch 17/100\n",
      "13/13 [==============================] - 0s 10ms/step - loss: 0.5372 - accuracy: 0.8700 - val_loss: 0.5794 - val_accuracy: 0.8350\n",
      "Epoch 18/100\n",
      "13/13 [==============================] - 0s 9ms/step - loss: 0.5074 - accuracy: 0.8637 - val_loss: 0.5564 - val_accuracy: 0.8500\n",
      "Epoch 19/100\n",
      "13/13 [==============================] - 0s 9ms/step - loss: 0.4834 - accuracy: 0.8763 - val_loss: 0.5338 - val_accuracy: 0.8450\n",
      "Epoch 20/100\n",
      "13/13 [==============================] - 0s 9ms/step - loss: 0.4614 - accuracy: 0.8775 - val_loss: 0.5201 - val_accuracy: 0.8400\n",
      "Epoch 21/100\n",
      "13/13 [==============================] - 0s 8ms/step - loss: 0.4418 - accuracy: 0.8800 - val_loss: 0.5020 - val_accuracy: 0.8450\n",
      "Epoch 22/100\n",
      "13/13 [==============================] - 0s 9ms/step - loss: 0.4241 - accuracy: 0.8813 - val_loss: 0.4884 - val_accuracy: 0.8450\n",
      "Epoch 23/100\n",
      "13/13 [==============================] - 0s 8ms/step - loss: 0.4072 - accuracy: 0.8938 - val_loss: 0.4760 - val_accuracy: 0.8550\n",
      "Epoch 24/100\n",
      "13/13 [==============================] - 0s 9ms/step - loss: 0.3947 - accuracy: 0.8813 - val_loss: 0.4648 - val_accuracy: 0.8450\n",
      "Epoch 25/100\n",
      "13/13 [==============================] - 0s 8ms/step - loss: 0.3802 - accuracy: 0.8913 - val_loss: 0.4558 - val_accuracy: 0.8500\n",
      "Epoch 26/100\n",
      "13/13 [==============================] - 0s 8ms/step - loss: 0.3681 - accuracy: 0.8850 - val_loss: 0.4474 - val_accuracy: 0.8500\n",
      "Epoch 27/100\n",
      "13/13 [==============================] - 0s 8ms/step - loss: 0.3578 - accuracy: 0.8975 - val_loss: 0.4432 - val_accuracy: 0.8600\n",
      "Epoch 28/100\n",
      "13/13 [==============================] - 0s 9ms/step - loss: 0.3473 - accuracy: 0.9000 - val_loss: 0.4347 - val_accuracy: 0.8600\n",
      "Epoch 29/100\n",
      "13/13 [==============================] - 0s 9ms/step - loss: 0.3366 - accuracy: 0.9025 - val_loss: 0.4260 - val_accuracy: 0.8700\n",
      "Epoch 30/100\n",
      "13/13 [==============================] - 0s 9ms/step - loss: 0.3279 - accuracy: 0.8988 - val_loss: 0.4197 - val_accuracy: 0.8750\n",
      "Epoch 31/100\n",
      "13/13 [==============================] - 0s 9ms/step - loss: 0.3214 - accuracy: 0.9038 - val_loss: 0.4156 - val_accuracy: 0.8700\n",
      "Epoch 32/100\n",
      "13/13 [==============================] - 0s 11ms/step - loss: 0.3112 - accuracy: 0.9025 - val_loss: 0.4149 - val_accuracy: 0.8700\n",
      "Epoch 33/100\n",
      "13/13 [==============================] - 0s 8ms/step - loss: 0.3059 - accuracy: 0.9087 - val_loss: 0.4032 - val_accuracy: 0.8750\n",
      "Epoch 34/100\n",
      "13/13 [==============================] - 0s 9ms/step - loss: 0.2992 - accuracy: 0.9075 - val_loss: 0.4028 - val_accuracy: 0.8700\n",
      "Epoch 35/100\n",
      "13/13 [==============================] - 0s 11ms/step - loss: 0.2923 - accuracy: 0.9150 - val_loss: 0.3952 - val_accuracy: 0.8750\n",
      "Epoch 36/100\n",
      "13/13 [==============================] - 0s 9ms/step - loss: 0.2856 - accuracy: 0.9100 - val_loss: 0.3885 - val_accuracy: 0.8750\n",
      "Epoch 37/100\n",
      "13/13 [==============================] - 0s 10ms/step - loss: 0.2809 - accuracy: 0.9112 - val_loss: 0.3837 - val_accuracy: 0.8800\n",
      "Epoch 38/100\n",
      "13/13 [==============================] - 0s 8ms/step - loss: 0.2774 - accuracy: 0.9125 - val_loss: 0.3828 - val_accuracy: 0.8800\n",
      "Epoch 39/100\n",
      "13/13 [==============================] - 0s 8ms/step - loss: 0.2701 - accuracy: 0.9150 - val_loss: 0.3792 - val_accuracy: 0.8800\n",
      "Epoch 40/100\n",
      "13/13 [==============================] - 0s 9ms/step - loss: 0.2674 - accuracy: 0.9175 - val_loss: 0.3799 - val_accuracy: 0.8600\n",
      "Epoch 41/100\n",
      "13/13 [==============================] - 0s 9ms/step - loss: 0.2614 - accuracy: 0.9200 - val_loss: 0.3778 - val_accuracy: 0.8700\n",
      "Epoch 42/100\n",
      "13/13 [==============================] - 0s 9ms/step - loss: 0.2572 - accuracy: 0.9187 - val_loss: 0.3745 - val_accuracy: 0.8600\n",
      "Epoch 43/100\n",
      "13/13 [==============================] - 0s 8ms/step - loss: 0.2534 - accuracy: 0.9212 - val_loss: 0.3674 - val_accuracy: 0.8750\n",
      "Epoch 44/100\n",
      "13/13 [==============================] - 0s 8ms/step - loss: 0.2487 - accuracy: 0.9250 - val_loss: 0.3687 - val_accuracy: 0.8700\n",
      "Epoch 45/100\n",
      "13/13 [==============================] - 0s 8ms/step - loss: 0.2452 - accuracy: 0.9187 - val_loss: 0.3668 - val_accuracy: 0.8800\n",
      "Epoch 46/100\n",
      "13/13 [==============================] - 0s 8ms/step - loss: 0.2418 - accuracy: 0.9250 - val_loss: 0.3614 - val_accuracy: 0.8700\n",
      "Epoch 47/100\n",
      "13/13 [==============================] - 0s 9ms/step - loss: 0.2378 - accuracy: 0.9275 - val_loss: 0.3616 - val_accuracy: 0.8700\n",
      "Epoch 48/100\n",
      "13/13 [==============================] - 0s 9ms/step - loss: 0.2345 - accuracy: 0.9262 - val_loss: 0.3617 - val_accuracy: 0.8700\n",
      "Epoch 49/100\n",
      "13/13 [==============================] - 0s 9ms/step - loss: 0.2317 - accuracy: 0.9300 - val_loss: 0.3598 - val_accuracy: 0.8700\n",
      "Epoch 50/100\n",
      "13/13 [==============================] - 0s 10ms/step - loss: 0.2281 - accuracy: 0.9325 - val_loss: 0.3563 - val_accuracy: 0.8700\n",
      "Epoch 51/100\n",
      "13/13 [==============================] - 0s 10ms/step - loss: 0.2243 - accuracy: 0.9250 - val_loss: 0.3549 - val_accuracy: 0.8800\n",
      "Epoch 52/100\n",
      "13/13 [==============================] - 0s 9ms/step - loss: 0.2222 - accuracy: 0.9300 - val_loss: 0.3480 - val_accuracy: 0.8850\n",
      "Epoch 53/100\n",
      "13/13 [==============================] - 0s 9ms/step - loss: 0.2200 - accuracy: 0.9287 - val_loss: 0.3516 - val_accuracy: 0.8850\n",
      "Epoch 54/100\n",
      "13/13 [==============================] - 0s 9ms/step - loss: 0.2175 - accuracy: 0.9325 - val_loss: 0.3510 - val_accuracy: 0.8750\n",
      "Epoch 55/100\n",
      "13/13 [==============================] - 0s 9ms/step - loss: 0.2131 - accuracy: 0.9287 - val_loss: 0.3500 - val_accuracy: 0.8850\n",
      "Epoch 56/100\n",
      "13/13 [==============================] - 0s 9ms/step - loss: 0.2112 - accuracy: 0.9300 - val_loss: 0.3531 - val_accuracy: 0.8700\n",
      "Epoch 57/100\n",
      "13/13 [==============================] - 0s 10ms/step - loss: 0.2085 - accuracy: 0.9350 - val_loss: 0.3446 - val_accuracy: 0.8800\n",
      "Epoch 58/100\n",
      "13/13 [==============================] - 0s 10ms/step - loss: 0.2062 - accuracy: 0.9300 - val_loss: 0.3440 - val_accuracy: 0.8800\n",
      "Epoch 59/100\n",
      "13/13 [==============================] - 0s 10ms/step - loss: 0.2030 - accuracy: 0.9312 - val_loss: 0.3435 - val_accuracy: 0.8800\n",
      "Epoch 60/100\n",
      "13/13 [==============================] - 0s 11ms/step - loss: 0.2010 - accuracy: 0.9388 - val_loss: 0.3457 - val_accuracy: 0.8900\n",
      "Epoch 61/100\n",
      "13/13 [==============================] - 0s 9ms/step - loss: 0.1995 - accuracy: 0.9388 - val_loss: 0.3397 - val_accuracy: 0.8900\n",
      "Epoch 62/100\n",
      "13/13 [==============================] - 0s 9ms/step - loss: 0.1964 - accuracy: 0.9362 - val_loss: 0.3389 - val_accuracy: 0.8900\n",
      "Epoch 63/100\n",
      "13/13 [==============================] - 0s 11ms/step - loss: 0.1948 - accuracy: 0.9375 - val_loss: 0.3349 - val_accuracy: 0.8850\n",
      "Epoch 64/100\n",
      "13/13 [==============================] - 0s 9ms/step - loss: 0.1911 - accuracy: 0.9388 - val_loss: 0.3383 - val_accuracy: 0.8900\n",
      "Epoch 65/100\n",
      "13/13 [==============================] - 0s 8ms/step - loss: 0.1906 - accuracy: 0.9325 - val_loss: 0.3338 - val_accuracy: 0.8900\n",
      "Epoch 66/100\n",
      "13/13 [==============================] - 0s 10ms/step - loss: 0.1873 - accuracy: 0.9375 - val_loss: 0.3368 - val_accuracy: 0.8800\n",
      "Epoch 67/100\n",
      "13/13 [==============================] - 0s 9ms/step - loss: 0.1844 - accuracy: 0.9438 - val_loss: 0.3313 - val_accuracy: 0.8900\n",
      "Epoch 68/100\n",
      "13/13 [==============================] - 0s 10ms/step - loss: 0.1828 - accuracy: 0.9438 - val_loss: 0.3326 - val_accuracy: 0.8850\n",
      "Epoch 69/100\n",
      "13/13 [==============================] - 0s 10ms/step - loss: 0.1817 - accuracy: 0.9438 - val_loss: 0.3292 - val_accuracy: 0.8850\n",
      "Epoch 70/100\n",
      "13/13 [==============================] - 0s 10ms/step - loss: 0.1789 - accuracy: 0.9400 - val_loss: 0.3269 - val_accuracy: 0.8900\n",
      "Epoch 71/100\n",
      "13/13 [==============================] - 0s 10ms/step - loss: 0.1764 - accuracy: 0.9475 - val_loss: 0.3279 - val_accuracy: 0.8950\n",
      "Epoch 72/100\n",
      "13/13 [==============================] - 0s 9ms/step - loss: 0.1756 - accuracy: 0.9425 - val_loss: 0.3256 - val_accuracy: 0.8850\n",
      "Epoch 73/100\n",
      "13/13 [==============================] - 0s 9ms/step - loss: 0.1734 - accuracy: 0.9438 - val_loss: 0.3288 - val_accuracy: 0.8900\n",
      "Epoch 74/100\n",
      "13/13 [==============================] - 0s 8ms/step - loss: 0.1716 - accuracy: 0.9413 - val_loss: 0.3279 - val_accuracy: 0.8850\n",
      "Epoch 75/100\n",
      "13/13 [==============================] - 0s 10ms/step - loss: 0.1701 - accuracy: 0.9450 - val_loss: 0.3307 - val_accuracy: 0.8900\n",
      "Epoch 76/100\n",
      "13/13 [==============================] - 0s 9ms/step - loss: 0.1681 - accuracy: 0.9500 - val_loss: 0.3314 - val_accuracy: 0.8850\n",
      "Epoch 77/100\n",
      "13/13 [==============================] - 0s 9ms/step - loss: 0.1655 - accuracy: 0.9488 - val_loss: 0.3261 - val_accuracy: 0.8850\n",
      "Epoch 78/100\n",
      "13/13 [==============================] - 0s 9ms/step - loss: 0.1647 - accuracy: 0.9513 - val_loss: 0.3263 - val_accuracy: 0.8850\n",
      "Epoch 79/100\n",
      "13/13 [==============================] - 0s 9ms/step - loss: 0.1616 - accuracy: 0.9475 - val_loss: 0.3232 - val_accuracy: 0.8850\n",
      "Epoch 80/100\n",
      "13/13 [==============================] - 0s 9ms/step - loss: 0.1602 - accuracy: 0.9538 - val_loss: 0.3307 - val_accuracy: 0.8850\n",
      "Epoch 81/100\n",
      "13/13 [==============================] - 0s 9ms/step - loss: 0.1585 - accuracy: 0.9488 - val_loss: 0.3231 - val_accuracy: 0.8800\n",
      "Epoch 82/100\n",
      "13/13 [==============================] - 0s 10ms/step - loss: 0.1567 - accuracy: 0.9538 - val_loss: 0.3254 - val_accuracy: 0.8900\n",
      "Epoch 83/100\n",
      "13/13 [==============================] - 0s 9ms/step - loss: 0.1554 - accuracy: 0.9563 - val_loss: 0.3258 - val_accuracy: 0.8850\n",
      "Epoch 84/100\n",
      "13/13 [==============================] - 0s 9ms/step - loss: 0.1538 - accuracy: 0.9563 - val_loss: 0.3240 - val_accuracy: 0.8800\n",
      "Epoch 85/100\n",
      "13/13 [==============================] - 0s 9ms/step - loss: 0.1525 - accuracy: 0.9563 - val_loss: 0.3242 - val_accuracy: 0.8900\n",
      "Epoch 86/100\n",
      "13/13 [==============================] - 0s 9ms/step - loss: 0.1499 - accuracy: 0.9575 - val_loss: 0.3230 - val_accuracy: 0.8900\n",
      "Epoch 87/100\n",
      "13/13 [==============================] - 0s 9ms/step - loss: 0.1487 - accuracy: 0.9613 - val_loss: 0.3244 - val_accuracy: 0.8950\n",
      "Epoch 88/100\n",
      "13/13 [==============================] - 0s 9ms/step - loss: 0.1468 - accuracy: 0.9563 - val_loss: 0.3275 - val_accuracy: 0.8800\n",
      "Epoch 89/100\n",
      "13/13 [==============================] - 0s 9ms/step - loss: 0.1452 - accuracy: 0.9588 - val_loss: 0.3254 - val_accuracy: 0.8850\n",
      "Epoch 90/100\n",
      "13/13 [==============================] - 0s 9ms/step - loss: 0.1441 - accuracy: 0.9600 - val_loss: 0.3234 - val_accuracy: 0.8950\n",
      "Epoch 91/100\n",
      "13/13 [==============================] - 0s 9ms/step - loss: 0.1425 - accuracy: 0.9588 - val_loss: 0.3255 - val_accuracy: 0.8900\n",
      "Epoch 92/100\n",
      "13/13 [==============================] - 0s 8ms/step - loss: 0.1405 - accuracy: 0.9650 - val_loss: 0.3194 - val_accuracy: 0.8800\n",
      "Epoch 93/100\n",
      "13/13 [==============================] - 0s 9ms/step - loss: 0.1396 - accuracy: 0.9625 - val_loss: 0.3245 - val_accuracy: 0.8850\n",
      "Epoch 94/100\n",
      "13/13 [==============================] - 0s 11ms/step - loss: 0.1379 - accuracy: 0.9688 - val_loss: 0.3240 - val_accuracy: 0.9050\n",
      "Epoch 95/100\n",
      "13/13 [==============================] - 0s 11ms/step - loss: 0.1367 - accuracy: 0.9600 - val_loss: 0.3263 - val_accuracy: 0.9000\n",
      "Epoch 96/100\n",
      "13/13 [==============================] - 0s 8ms/step - loss: 0.1355 - accuracy: 0.9650 - val_loss: 0.3212 - val_accuracy: 0.9000\n",
      "Epoch 97/100\n",
      "13/13 [==============================] - 0s 8ms/step - loss: 0.1329 - accuracy: 0.9688 - val_loss: 0.3228 - val_accuracy: 0.8900\n",
      "Epoch 98/100\n",
      "13/13 [==============================] - 0s 9ms/step - loss: 0.1318 - accuracy: 0.9688 - val_loss: 0.3205 - val_accuracy: 0.8900\n",
      "Epoch 99/100\n",
      "13/13 [==============================] - 0s 8ms/step - loss: 0.1310 - accuracy: 0.9663 - val_loss: 0.3221 - val_accuracy: 0.9050\n",
      "Epoch 100/100\n",
      "13/13 [==============================] - 0s 9ms/step - loss: 0.1291 - accuracy: 0.9737 - val_loss: 0.3244 - val_accuracy: 0.9000\n"
     ]
    }
   ],
   "source": [
    "history = model.fit(x_train, y_train,\n",
    "          epochs=100,\n",
    "          batch_size=64, validation_split=0.2)"
   ]
  },
  {
   "cell_type": "code",
   "execution_count": 15,
   "metadata": {
    "colab": {
     "base_uri": "https://localhost:8080/"
    },
    "id": "PaLmJPBVqcnK",
    "outputId": "83b1ad43-614d-45df-da8d-2bc4b35d77c8"
   },
   "outputs": [
    {
     "data": {
      "text/plain": [
       "dict_keys(['loss', 'accuracy', 'val_loss', 'val_accuracy'])"
      ]
     },
     "execution_count": 15,
     "metadata": {},
     "output_type": "execute_result"
    }
   ],
   "source": [
    "history.history.keys()"
   ]
  },
  {
   "cell_type": "code",
   "execution_count": 16,
   "metadata": {
    "id": "pSpOuK7Kn0UK"
   },
   "outputs": [],
   "source": [
    "import matplotlib.pyplot as plt\n",
    "%matplotlib inline"
   ]
  },
  {
   "cell_type": "code",
   "execution_count": 17,
   "metadata": {
    "colab": {
     "base_uri": "https://localhost:8080/",
     "height": 448
    },
    "id": "S-aXXd_xq_tT",
    "outputId": "17755e66-7632-4557-f3cc-e802ea1e1fa1"
   },
   "outputs": [
    {
     "data": {
      "text/plain": [
       "<matplotlib.legend.Legend at 0x1eeee60f880>"
      ]
     },
     "execution_count": 17,
     "metadata": {},
     "output_type": "execute_result"
    },
    {
     "data": {
      "image/png": "[encoded data removed]",
      "text/plain": [
       "<Figure size 640x480 with 1 Axes>"
      ]
     },
     "metadata": {},
     "output_type": "display_data"
    }
   ],
   "source": [
    "plt.plot(history.history['val_loss'])\n",
    "plt.plot(history.history['loss'])\n",
    "plt.legend(['val', 'train'])"
   ]
  },
  {
   "cell_type": "code",
   "execution_count": 18,
   "metadata": {
    "colab": {
     "base_uri": "https://localhost:8080/",
     "height": 450
    },
    "id": "t3QELHvWn0UL",
    "outputId": "ca314cb7-8461-44d1-d0af-d6102b12331d"
   },
   "outputs": [
    {
     "data": {
      "text/plain": [
       "<matplotlib.legend.Legend at 0x1eef203f1c0>"
      ]
     },
     "execution_count": 18,
     "metadata": {},
     "output_type": "execute_result"
    },
    {
     "data": {
      "image/png": "[encoded data removed]",
      "text/plain": [
       "<Figure size 640x480 with 1 Axes>"
      ]
     },
     "metadata": {},
     "output_type": "display_data"
    }
   ],
   "source": [
    "plt.plot(history.history['val_accuracy'])\n",
    "plt.plot(history.history['accuracy'])\n",
    "plt.legend(['val', 'train'])"
   ]
  },
  {
   "cell_type": "markdown",
   "metadata": {
    "id": "-b_6qvBFn0UL"
   },
   "source": [
    "## <div style=\"direction:rtl;text-align:right;font-family:B Lotus, B Nazanin, Tahoma\">ارزیابی مدل روی داده های آزمون</div>"
   ]
  },
  {
   "cell_type": "code",
   "execution_count": 19,
   "metadata": {
    "colab": {
     "base_uri": "https://localhost:8080/"
    },
    "id": "zNl9cUA2n0UL",
    "outputId": "727bcec2-33aa-4e04-88b8-800799a448ed"
   },
   "outputs": [
    {
     "name": "stdout",
     "output_type": "stream",
     "text": [
      "7/7 [==============================] - 0s 3ms/step - loss: 0.2629 - accuracy: 0.9100\n",
      "\n",
      "Testing loss: 0.26, acc: 0.91%\n"
     ]
    }
   ],
   "source": [
    "loss, acc = model.evaluate(x_test, y_test)\n",
    "print('\\nTesting loss: %.2f, acc: %.2f%%'%(loss, acc))"
   ]
  },
  {
   "cell_type": "markdown",
   "metadata": {
    "id": "ruUxAbvWn0UM"
   },
   "source": [
    "## <div style=\"direction:rtl;text-align:right;font-family:B Lotus, B Nazanin, Tahoma\">پیش‌بینی داده‌های آموزشی</div>\n"
   ]
  },
  {
   "cell_type": "code",
   "execution_count": 20,
   "metadata": {
    "colab": {
     "base_uri": "https://localhost:8080/"
    },
    "id": "JVzqr5A-rNYp",
    "outputId": "2673ebb9-57c6-4410-ffe7-c04b429ba292"
   },
   "outputs": [
    {
     "name": "stdout",
     "output_type": "stream",
     "text": [
      "7/7 [==============================] - 0s 2ms/step\n"
     ]
    }
   ],
   "source": [
    "# The predict_classes function outputs the highest probability class\n",
    "# according to the trained classifier for each input example.\n",
    "predicted = model.predict(x_test)"
   ]
  },
  {
   "cell_type": "code",
   "execution_count": 21,
   "metadata": {
    "id": "G2lTnueerrU0"
   },
   "outputs": [],
   "source": [
    "predicted_classes = np.argmax(predicted, axis=1)"
   ]
  },
  {
   "cell_type": "code",
   "execution_count": 22,
   "metadata": {
    "colab": {
     "base_uri": "https://localhost:8080/"
    },
    "id": "ZlYHuZvkn0UO",
    "outputId": "4c9335bf-2212-4a95-8946-1a97f4f40afd"
   },
   "outputs": [
    {
     "name": "stdout",
     "output_type": "stream",
     "text": [
      "predicted:\n",
      "[7 2 3 5 5 5 4 7 3 2 0 8 8 0 2 9 3 6 7 4 0 3 6 3 9 2 7 5 2 9 2 5 5 8 9 6 5\n",
      " 1 4 8 8 4 2 2 1 2 7 9 0 3 7 5 7 5 2 9 8 2 9 8 8 6 6 6 6 6 2 4 2 4 4 5 9 1\n",
      " 8 4 0 5 6 2 4 6 2 7 7 7 7 1 8 1 7 8 7 7 8 9 7 2 3 1 0 2 9 6 3 5 5 0 0 9 6\n",
      " 7 9 3 9 9 8 7 9 2 5 2 5 5 9 6 9 2 0 3 7 6 5 2 9 0 3 1 8 2 2 3 5 2 9 3 8 2\n",
      " 7 0 9 9 0 7 6 5 4 4 9 3 7 0 7 2 9 4 7 3 4 1 5 6 7 9 1 3 5 4 5 3 4 1 3 3 1\n",
      " 1 3 3 8 9 6 7 7 2 3 0 1 0 9 5]\n",
      "True Label:\n",
      "[7 2 3 1 5 5 4 7 3 2 0 8 8 0 2 9 3 6 7 4 0 3 6 3 9 2 7 5 2 9 7 5 5 8 9 6 5\n",
      " 1 4 8 8 4 7 7 1 2 7 9 0 3 7 4 7 5 2 9 8 2 9 8 8 6 6 6 6 6 2 4 3 4 4 5 9 1\n",
      " 8 2 0 5 6 2 4 3 2 7 7 7 7 1 8 1 7 8 7 7 8 9 3 2 3 1 0 2 9 6 3 5 5 0 0 3 6\n",
      " 7 9 3 9 9 8 7 9 2 5 2 5 5 9 6 9 2 0 3 7 6 5 2 9 0 4 1 8 2 2 3 0 2 9 3 8 6\n",
      " 7 0 9 9 0 7 6 5 4 7 9 3 7 0 7 1 9 4 7 3 4 1 5 6 7 9 1 3 5 4 5 7 4 1 3 3 1\n",
      " 2 3 3 8 9 6 7 7 2 3 0 1 4 9 5]\n"
     ]
    }
   ],
   "source": [
    "\n",
    "print(\"predicted:\")\n",
    "print(predicted_classes)\n",
    "print(\"True Label:\")\n",
    "print(y_test_original)"
   ]
  },
  {
   "cell_type": "code",
   "execution_count": 23,
   "metadata": {
    "colab": {
     "base_uri": "https://localhost:8080/",
     "height": 457
    },
    "id": "8mieKbW2n0UP",
    "outputId": "d370b4f0-e114-46b8-907c-fa3acdd33237"
   },
   "outputs": [
    {
     "data": {
      "image/png": "[encoded data removed]",
      "text/plain": [
       "<Figure size 480x480 with 1 Axes>"
      ]
     },
     "metadata": {},
     "output_type": "display_data"
    }
   ],
   "source": [
    "from sklearn.metrics import confusion_matrix\n",
    "plt.matshow(confusion_matrix(y_test_original, predicted_classes), cmap=\"Blues\")\n",
    "plt.xticks(range(10))\n",
    "plt.yticks(range(10))\n",
    "plt.xlabel(\"Predicted label\")\n",
    "plt.ylabel(\"True label\");"
   ]
  }
 ],
 "metadata": {
  "accelerator": "GPU",
  "anaconda-cloud": {},
  "colab": {
   "gpuType": "T4",
   "provenance": []
  },
  "kernelspec": {
   "display_name": "Python 3 (ipykernel)",
   "language": "python",
   "name": "python3"
  },
  "language_info": {
   "codemirror_mode": {
    "name": "ipython",
    "version": 3
   },
   "file_extension": ".py",
   "mimetype": "text/x-python",
   "name": "python",
   "nbconvert_exporter": "python",
   "pygments_lexer": "ipython3",
   "version": "3.10.12"
  },
  "nbpresent": {
   "slides": {
    "300ee14f-a043-486e-b274-7ff253907cd7": {
     "id": "300ee14f-a043-486e-b274-7ff253907cd7",
     "prev": "cb74e0bc-4513-4d13-b7f1-14c3078a7927",
     "regions": {
      "26dc3f39-a230-447c-af4c-f5e5b2fb7835": {
       "attrs": {
        "height": 0.8,
        "width": 0.8,
        "x": 0.1,
        "y": 0.1
       },
       "content": {
        "cell": "c58440a5-3f8f-4f37-9c79-6bf766209406",
        "part": "whole"
       },
       "id": "26dc3f39-a230-447c-af4c-f5e5b2fb7835"
      }
     }
    },
    "878aa53a-1444-4100-8f50-7a408191c579": {
     "id": "878aa53a-1444-4100-8f50-7a408191c579",
     "prev": null,
     "regions": {
      "a6c6843a-5ea6-4fbc-b890-3b4b8ae475b3": {
       "attrs": {
        "height": 0.8,
        "width": 0.8,
        "x": 0.1,
        "y": 0.1
       },
       "content": {
        "cell": "588ee1fa-64b5-453b-ade7-8e6b2515821c",
        "part": "whole"
       },
       "id": "a6c6843a-5ea6-4fbc-b890-3b4b8ae475b3"
      }
     }
    },
    "96ffe88e-7b50-43de-afdd-942e564f4e3e": {
     "id": "96ffe88e-7b50-43de-afdd-942e564f4e3e",
     "prev": "878aa53a-1444-4100-8f50-7a408191c579",
     "regions": {
      "b7e52e12-489a-468d-b10c-af2024fd2856": {
       "attrs": {
        "height": 0.8,
        "width": 0.8,
        "x": 0.1,
        "y": 0.1
       },
       "content": {
        "cell": "de829a92-1fb6-44ad-a2c6-fc1001e1f6e1",
        "part": "whole"
       },
       "id": "b7e52e12-489a-468d-b10c-af2024fd2856"
      }
     }
    },
    "cb74e0bc-4513-4d13-b7f1-14c3078a7927": {
     "id": "cb74e0bc-4513-4d13-b7f1-14c3078a7927",
     "prev": "96ffe88e-7b50-43de-afdd-942e564f4e3e",
     "regions": {
      "444878ee-68f3-4abb-acff-a7079b21e86d": {
       "attrs": {
        "height": 0.8,
        "width": 0.8,
        "x": 0.1,
        "y": 0.1
       },
       "content": {
        "cell": "25f3f538-1ee8-4d98-a6bb-14cbeb7a702d",
        "part": "whole"
       },
       "id": "444878ee-68f3-4abb-acff-a7079b21e86d"
      }
     }
    }
   },
   "themes": {}
  }
 },
 "nbformat": 4,
 "nbformat_minor": 4
}
