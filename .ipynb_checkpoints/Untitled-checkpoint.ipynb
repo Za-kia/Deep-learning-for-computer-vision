{
 "cells": [
  {
   "cell_type": "code",
   "execution_count": 3,
   "id": "9090dc8d",
   "metadata": {},
   "outputs": [],
   "source": [
    "import tensorflow as tf # deep learning modeling\n",
    "import pandas as pd # reading and processing data\n",
    "import seaborn as sns # visualizations\n",
    "from tensorflow.keras.layers import Normalization,Dense\n",
    "from tensorflow.keras.losses import MeanSquaredError,MeanAbsoluteError, Huber\n",
    "from tensorflow.keras.metrics import RootMeanSquaredError\n",
    "from tensorflow.keras.optimizers import Adam, SGD\n",
    "import matplotlib.pyplot as plt"
   ]
  },
  {
   "cell_type": "code",
   "execution_count": 4,
   "id": "3e610bb3",
   "metadata": {},
   "outputs": [],
   "source": [
    "filepath = \"/content/train.csv\""
   ]
  },
  {
   "cell_type": "code",
   "execution_count": 6,
   "id": "abb739d3",
   "metadata": {},
   "outputs": [],
   "source": [
    "#data = pd.read_csv(filepath,sep=\",\")"
   ]
  },
  {
   "cell_type": "code",
   "execution_count": null,
   "id": "ecf5fd6f",
   "metadata": {},
   "outputs": [],
   "source": [
    "data.shape"
   ]
  },
  {
   "cell_type": "code",
   "execution_count": null,
   "id": "8779bec7",
   "metadata": {},
   "outputs": [],
   "source": [
    "data.head()"
   ]
  },
  {
   "cell_type": "code",
   "execution_count": null,
   "id": "51906662",
   "metadata": {},
   "outputs": [],
   "source": [
    "sns.pairplot(data[['years', 'km', 'rating', 'condition', 'economy', 'top speed', 'hp', 'torque', 'current price']],)"
   ]
  },
  {
   "cell_type": "code",
   "execution_count": null,
   "id": "1787a82e",
   "metadata": {},
   "outputs": [],
   "source": [
    "#data preperatin"
   ]
  },
  {
   "cell_type": "code",
   "execution_count": null,
   "id": "f9ad619b",
   "metadata": {},
   "outputs": [],
   "source": [
    "tensor_data=tf.constant(data)\n",
    "tensor_data=tf.cast(tensor_data, tf.float32)\n",
    "print(tensor_data)"
   ]
  },
  {
   "cell_type": "code",
   "execution_count": null,
   "id": "eb73b85b",
   "metadata": {},
   "outputs": [],
   "source": [
    "print(tensor_data[:5])"
   ]
  },
  {
   "cell_type": "code",
   "execution_count": null,
   "id": "9710e401",
   "metadata": {},
   "outputs": [],
   "source": [
    "tensor_data = tf.random.shuffle(data)\n",
    "print(tensor_data[:5])"
   ]
  },
  {
   "cell_type": "code",
   "execution_count": null,
   "id": "4aa3eae1",
   "metadata": {},
   "outputs": [],
   "source": [
    "X = tensor_data[:,3:-1]\n",
    "print(X.shape)\n",
    "print(X[:5])"
   ]
  },
  {
   "cell_type": "code",
   "execution_count": null,
   "id": "ccda2711",
   "metadata": {},
   "outputs": [],
   "source": [
    "y = tensor_data[:,-1]\n",
    "print(y[:5].shape)\n",
    "print(y[:5])\n",
    "y = tf.expand_dims(y,axis = -1)"
   ]
  },
  {
   "cell_type": "code",
   "execution_count": null,
   "id": "3c21a087",
   "metadata": {},
   "outputs": [],
   "source": [
    "normalizer = Normalization(axis = -1,mean = 5, variance = 4)\n",
    "x_normalized = tf.constant([[3,4,5,6,7],\n",
    "                           [4,5,6,7,8]])\n",
    "normalizer(x_normalized)"
   ]
  },
  {
   "cell_type": "code",
   "execution_count": null,
   "id": "a739ac0d",
   "metadata": {},
   "outputs": [],
   "source": [
    "# x-mean/std\n",
    "# std^2 = sqrt(variance)"
   ]
  },
  {
   "cell_type": "code",
   "execution_count": null,
   "id": "18b48ca4",
   "metadata": {},
   "outputs": [],
   "source": [
    "normalizer = Normalization()\n",
    "x_normalized = tf.constant([[3,4,5,6,7],\n",
    "                           [4,5,6,7,8]])\n",
    "normalizer.adapt(x_normalized)\n",
    "normalizer(x_normalized)"
   ]
  },
  {
   "cell_type": "code",
   "execution_count": null,
   "id": "ec66d686",
   "metadata": {},
   "outputs": [],
   "source": [
    "normalizer = Normalization()\n",
    "x_normalized = tf.constant([[3,4,5,6,7],\n",
    "                           [4,5,6,7,8],\n",
    "                           [32,1,56,3,5]])\n",
    "normalizer.adapt(x_normalized)\n",
    "normalizer(x_normalized)"
   ]
  },
  {
   "cell_type": "code",
   "execution_count": null,
   "id": "8d6bad5b",
   "metadata": {},
   "outputs": [],
   "source": [
    "normalizer = Normalization()\n",
    "normalizer.adapt(x)\n",
    "normalizer(x)[:5]"
   ]
  },
  {
   "cell_type": "code",
   "execution_count": null,
   "id": "d3d6d16a",
   "metadata": {},
   "outputs": [],
   "source": [
    "print(X[:5])"
   ]
  },
  {
   "cell_type": "code",
   "execution_count": null,
   "id": "a86e77d8",
   "metadata": {},
   "outputs": [],
   "source": [
    "shuffled_data = tf.random.shuffle(data)"
   ]
  },
  {
   "cell_type": "code",
   "execution_count": null,
   "id": "5c5b172d",
   "metadata": {},
   "outputs": [],
   "source": [
    "X = shuffled_data[:,3:-1]\n",
    "y = tf.expand_dims(shuffled_data[:,-1],-1)"
   ]
  },
  {
   "cell_type": "code",
   "execution_count": null,
   "id": "a59e519d",
   "metadata": {},
   "outputs": [],
   "source": [
    "print(X.shape,y.shape)"
   ]
  },
  {
   "cell_type": "code",
   "execution_count": null,
   "id": "b4ef7b0d",
   "metadata": {},
   "outputs": [],
   "source": [
    "data.head()"
   ]
  },
  {
   "cell_type": "code",
   "execution_count": null,
   "id": "c22580bf",
   "metadata": {},
   "outputs": [],
   "source": [
    "TRAIN_RATIO = 0.8\n",
    "VAL_RATIO = 0.1\n",
    "TEST_RATIO = 0.1\n",
    "DATASET_SIZE = len(X)\n",
    "print(DATASET_SIZE)"
   ]
  },
  {
   "cell_type": "code",
   "execution_count": null,
   "id": "16377697",
   "metadata": {},
   "outputs": [],
   "source": [
    "X_train = X[:int(DATASET_SIZE*TRAIN_RATIO)]\n",
    "y_train = y[:int(DATASET_SIZE*TRAIN_RATIO)]\n",
    "print(X_train.shape,y_train.shape)"
   ]
  },
  {
   "cell_type": "code",
   "execution_count": null,
   "id": "0dac7bd7",
   "metadata": {},
   "outputs": [],
   "source": [
    "X_val = X[int(DATASET_SIZE*TRAIN_RATIO):int(DATASET_SIZE*(TRAIN_RATIO+VAL_RATIO))]\n",
    "y_val = y[int(DATASET_SIZE*TRAIN_RATIO):int(DATASET_SIZE*(TRAIN_RATIO+VAL_RATIO))]\n",
    "print(X_val.shape,y_val.shape)"
   ]
  },
  {
   "cell_type": "code",
   "execution_count": null,
   "id": "582176ff",
   "metadata": {},
   "outputs": [],
   "source": [
    "X_test = X[int(DATASET_SIZE*(TRAIN_RATIO+VAL_RATIO)):]\n",
    "y_test = y[int(DATASET_SIZE*(TRAIN_RATIO+VAL_RATIO)):]\n",
    "print(X_test.shape,y_test.shape)"
   ]
  },
  {
   "cell_type": "code",
   "execution_count": null,
   "id": "af898852",
   "metadata": {},
   "outputs": [],
   "source": [
    "BUFFER_SIZE = 16\n",
    "BATCH_SIZE = 64"
   ]
  },
  {
   "cell_type": "code",
   "execution_count": null,
   "id": "ddefcd21",
   "metadata": {},
   "outputs": [],
   "source": [
    "train_dataset = tf.data.Dataset.from_tensor_slices((X_train,y_train))\n",
    "train_dataset = train_dataset.shuffle(buffer_size = BUFFER_SIZE).batch(BATCH_SIZE).prefetch(tf.data.AUTOTUNE)"
   ]
  },
  {
   "cell_type": "code",
   "execution_count": null,
   "id": "ea20626f",
   "metadata": {},
   "outputs": [],
   "source": [
    "val_dataset = tf.data.Dataset.from_tensor_slices((X_val,y_val))\n",
    "val_dataset = val_dataset.shuffle(buffer_size = BUFFER_SIZE).batch(BATCH_SIZE).prefetch(tf.data.AUTOTUNE)"
   ]
  },
  {
   "cell_type": "code",
   "execution_count": null,
   "id": "d66e6481",
   "metadata": {},
   "outputs": [],
   "source": [
    "test_dataset = tf.data.Dataset.from_tensor_slices((X_test,y_test))\n",
    "test_dataset = test_dataset.shuffle(buffer_size = BUFFER_SIZE).batch(BATCH_SIZE).prefetch(tf.data.AUTOTUNE)"
   ]
  },
  {
   "cell_type": "code",
   "execution_count": null,
   "id": "d7c3d433",
   "metadata": {},
   "outputs": [],
   "source": [
    "for i,j in train_dataset:\n",
    "  print(i.shape,j.shape)\n",
    "  break"
   ]
  },
  {
   "cell_type": "code",
   "execution_count": null,
   "id": "ac7a1d3e",
   "metadata": {},
   "outputs": [],
   "source": [
    "normalizer = Normalization()\n",
    "normalizer.adapt(X_train)\n",
    "normalizer(X_train)[:5]"
   ]
  },
  {
   "cell_type": "code",
   "execution_count": null,
   "id": "b5c81f5b",
   "metadata": {},
   "outputs": [],
   "source": [
    "model = tf.keras.Sequential([\n",
    "    normalizer,\n",
    "    Dense(128),\n",
    "    Dense(128),\n",
    "    Dense(128),\n",
    "    Dense(1),\n",
    "],name=\"first-model\")\n",
    "model.summary()"
   ]
  },
  {
   "cell_type": "code",
   "execution_count": null,
   "id": "596f0c8b",
   "metadata": {},
   "outputs": [],
   "source": [
    "tf.keras.utils.plot_model(model, to_file = \"model.png\", show_shapes=True)"
   ]
  },
  {
   "cell_type": "code",
   "execution_count": null,
   "id": "31f702a6",
   "metadata": {},
   "outputs": [],
   "source": [
    "model.compile(optimizer = Adam(learning_rate = 0.1),\n",
    "              loss = MeanAbsoluteError(),\n",
    "              metrics = RootMeanSquaredError())"
   ]
  },
  {
   "cell_type": "code",
   "execution_count": null,
   "id": "42157b6f",
   "metadata": {},
   "outputs": [],
   "source": [
    "history = model.fit(\n",
    "    train_dataset,\n",
    "    validation_data=val_dataset,epochs = 100, verbose = 1)"
   ]
  },
  {
   "cell_type": "code",
   "execution_count": null,
   "id": "7236012c",
   "metadata": {},
   "outputs": [],
   "source": [
    "plt.plot(history.history['loss'])\n",
    "plt.plot(history.history['val_loss'])\n",
    "plt.title('model loss')\n",
    "plt.ylabel('loss')\n",
    "plt.xlabel('epoch')\n",
    "plt.legend(['train', 'val_loss'])\n",
    "plt.show()"
   ]
  }
 ],
 "metadata": {
  "kernelspec": {
   "display_name": "Python 3 (ipykernel)",
   "language": "python",
   "name": "python3"
  },
  "language_info": {
   "codemirror_mode": {
    "name": "ipython",
    "version": 3
   },
   "file_extension": ".py",
   "mimetype": "text/x-python",
   "name": "python",
   "nbconvert_exporter": "python",
   "pygments_lexer": "ipython3",
   "version": "3.10.12"
  }
 },
 "nbformat": 4,
 "nbformat_minor": 5
}
