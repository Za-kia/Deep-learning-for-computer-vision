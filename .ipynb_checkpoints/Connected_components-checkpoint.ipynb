{
 "cells": [
  {
   "cell_type": "code",
   "execution_count": 5,
   "id": "d48cd6ba-5c9d-4467-a461-3b593a68f126",
   "metadata": {},
   "outputs": [],
   "source": [
    "import matplotlib.pyplot as plt\n",
    "import numpy as np\n",
    "import cv2\n",
    "\n",
    "def random_rgb_colors(num_colors):\n",
    "    return np.random.randint(0, 256, size=(num_colors, 3), dtype = np.uint8)\n",
    "\n",
    "img = cv2.imread(\"images/shapes.png\", 0)\n",
    "_, img = cv2.threshold(img, 127, 255, cv2.THRESH_BINARY)\n",
    "num_labels, labels = cv2.connectedComponents(img)"
   ]
  },
  {
   "cell_type": "code",
   "execution_count": 6,
   "id": "b3875a5c-63a1-4f4d-910a-23f886740f67",
   "metadata": {},
   "outputs": [
    {
     "data": {
      "text/plain": [
       "<matplotlib.image.AxesImage at 0x23f7384b7c0>"
      ]
     },
     "execution_count": 6,
     "metadata": {},
     "output_type": "execute_result"
    },
    {
     "data": {
      "image/png": "[encoded data removed]",
      "text/plain": [
       "<Figure size 640x480 with 1 Axes>"
      ]
     },
     "metadata": {},
     "output_type": "display_data"
    }
   ],
   "source": [
    "plt.imshow(img, cmap = 'gray')"
   ]
  },
  {
   "cell_type": "code",
   "execution_count": 7,
   "id": "111faab6-394e-4128-868b-8048b29a10ba",
   "metadata": {},
   "outputs": [
    {
     "data": {
      "text/plain": [
       "array([[0, 0, 0, ..., 0, 0, 0],\n",
       "       [0, 0, 0, ..., 0, 0, 0],\n",
       "       [0, 0, 0, ..., 0, 0, 0],\n",
       "       ...,\n",
       "       [0, 0, 0, ..., 0, 0, 0],\n",
       "       [0, 0, 0, ..., 0, 0, 0],\n",
       "       [0, 0, 0, ..., 0, 0, 0]], dtype=uint8)"
      ]
     },
     "execution_count": 7,
     "metadata": {},
     "output_type": "execute_result"
    }
   ],
   "source": [
    "img"
   ]
  },
  {
   "cell_type": "code",
   "execution_count": 8,
   "id": "a80680e4-409d-4f5a-abbb-9963c24fa628",
   "metadata": {},
   "outputs": [
    {
     "data": {
      "text/plain": [
       "array([  0, 255], dtype=uint8)"
      ]
     },
     "execution_count": 8,
     "metadata": {},
     "output_type": "execute_result"
    }
   ],
   "source": [
    "np.unique(img)"
   ]
  },
  {
   "cell_type": "code",
   "execution_count": 9,
   "id": "6bf4f706-99fe-4153-bb1f-7b39a32e962f",
   "metadata": {},
   "outputs": [
    {
     "data": {
      "text/plain": [
       "7"
      ]
     },
     "execution_count": 9,
     "metadata": {},
     "output_type": "execute_result"
    }
   ],
   "source": [
    "num_labels"
   ]
  },
  {
   "cell_type": "code",
   "execution_count": 10,
   "id": "23ed2ac8-7bef-4f31-aa59-65ec33c7edc9",
   "metadata": {},
   "outputs": [
    {
     "data": {
      "text/plain": [
       "(388, 428)"
      ]
     },
     "execution_count": 10,
     "metadata": {},
     "output_type": "execute_result"
    }
   ],
   "source": [
    "img.shape"
   ]
  },
  {
   "cell_type": "code",
   "execution_count": 11,
   "id": "ff293e32-f116-4189-a086-061d1c97a789",
   "metadata": {},
   "outputs": [
    {
     "data": {
      "text/plain": [
       "(388, 428)"
      ]
     },
     "execution_count": 11,
     "metadata": {},
     "output_type": "execute_result"
    }
   ],
   "source": [
    "labels.shape"
   ]
  },
  {
   "cell_type": "code",
   "execution_count": 12,
   "id": "9b0b53a6-09f3-4a81-b1a3-d781670a03f1",
   "metadata": {},
   "outputs": [
    {
     "data": {
      "text/plain": [
       "array([0, 1, 2, 3, 4, 5, 6], dtype=int32)"
      ]
     },
     "execution_count": 12,
     "metadata": {},
     "output_type": "execute_result"
    }
   ],
   "source": [
    "np.unique(labels)"
   ]
  },
  {
   "cell_type": "code",
   "execution_count": 13,
   "id": "1c377fcf-d971-4b0b-a348-e450ae22cc88",
   "metadata": {},
   "outputs": [
    {
     "data": {
      "text/plain": [
       "array([[198, 246,  66],\n",
       "       [ 10,  76,  76],\n",
       "       [154, 129, 189],\n",
       "       [ 79, 169, 249],\n",
       "       [ 63, 219,  42],\n",
       "       [170,  88, 128],\n",
       "       [  9,  24,  28]], dtype=uint8)"
      ]
     },
     "execution_count": 13,
     "metadata": {},
     "output_type": "execute_result"
    }
   ],
   "source": [
    "colors = random_rgb_colors(num_labels)\n",
    "colors"
   ]
  },
  {
   "cell_type": "code",
   "execution_count": 14,
   "id": "9cc8b00d-a79b-4979-9e6b-5901595c4d6f",
   "metadata": {},
   "outputs": [
    {
     "data": {
      "text/plain": [
       "array([[154, 129, 189],\n",
       "       [ 79, 169, 249]], dtype=uint8)"
      ]
     },
     "execution_count": 14,
     "metadata": {},
     "output_type": "execute_result"
    }
   ],
   "source": [
    "colors[[2,3]]"
   ]
  },
  {
   "cell_type": "code",
   "execution_count": 15,
   "id": "f0f98305-9ffd-4a70-9fd8-d2169efea907",
   "metadata": {},
   "outputs": [
    {
     "data": {
      "text/plain": [
       "(388, 428, 3)"
      ]
     },
     "execution_count": 15,
     "metadata": {},
     "output_type": "execute_result"
    }
   ],
   "source": [
    "label_colors = colors[labels]\n",
    "label_colors.shape"
   ]
  },
  {
   "cell_type": "code",
   "execution_count": 16,
   "id": "5b495406-61e4-4829-a956-e1fa4f0c232c",
   "metadata": {},
   "outputs": [
    {
     "data": {
      "image/png": "[encoded data removed]",
      "text/plain": [
       "<Figure size 1000x800 with 2 Axes>"
      ]
     },
     "metadata": {},
     "output_type": "display_data"
    }
   ],
   "source": [
    "import matplotlib.pyplot as plt\n",
    "import numpy as np\n",
    "import cv2\n",
    "\n",
    "def random_rgb_colors(num_colors):\n",
    "    return np.random.randint(0, 256, size=(num_colors, 3), dtype=np.uint8)\n",
    "\n",
    "img = cv2.imread(\"images/shapes.png\", 0)\n",
    "_, img = cv2.threshold(img, 127, 255, cv2.THRESH_BINARY)\n",
    "num_labels, labels = cv2.connectedComponents(img)\n",
    "\n",
    "# Map component labels to random RGB colors\n",
    "colors = random_rgb_colors(num_labels)\n",
    "label_colors = colors[labels]\n",
    "labeled_img = label_colors.astype(np.uint8)\n",
    "\n",
    "# set background label to black\n",
    "labeled_img[labels == 0] = [0, 0, 0]\n",
    "\n",
    "plt.figure(figsize=[10, 8])\n",
    "plt.subplot(121)\n",
    "plt.imshow(img, cmap='gray')\n",
    "plt.title(\"Original\")\n",
    "\n",
    "plt.subplot(122)\n",
    "plt.imshow(labeled_img)\n",
    "plt.title(\"Labeled Image\")\n",
    "\n",
    "plt.show()\n"
   ]
  },
  {
   "cell_type": "code",
   "execution_count": 17,
   "id": "0ed39202-3aee-4bf0-9d61-bb6831fd4048",
   "metadata": {},
   "outputs": [],
   "source": [
    "import cv2\n",
    "import numpy as np\n",
    "\n",
    "# Read the input image (make sure it's a binary image)\n",
    "image = cv2.imread('images/persian-digits.jpg', cv2.IMREAD_GRAYSCALE)\n",
    "\n",
    "# Apply thresholding to create a binary image\n",
    "_, binary_image = cv2.threshold(image, 128, 255, cv2.THRESH_BINARY)\n",
    "binary_image = 255-binary_image\n",
    "\n",
    "# Use connectedComponents to label connected components\n",
    "num_labels, labels = cv2.connectedComponents(binary_image, connectivity=8)\n",
    "\n",
    "# Iterate through each connected component\n",
    "for label in range(1, num_labels):\n",
    "    # Create a mask for the current connected component\n",
    "    component_mask = np.uint8(labels == label) * 255\n",
    "        \n",
    "    # Display or save the connected component\n",
    "    cv2.imshow(f'Connected Component {label}', component_mask)\n",
    "    cv2.waitKey(0)\n",
    "    cv2.destroyAllWindows()"
   ]
  },
  {
   "cell_type": "code",
   "execution_count": 18,
   "id": "1e5abc63-f51a-43ee-9369-6a7ed2505806",
   "metadata": {},
   "outputs": [],
   "source": [
    "import cv2\n",
    "import numpy as np\n",
    "\n",
    "# Read the input image (make sure it's a binary image)\n",
    "image = cv2.imread('images/persian-digits.jpg', cv2.IMREAD_GRAYSCALE)\n",
    "\n",
    "# Apply thresholding to create a binary image\n",
    "_, binary_image = cv2.threshold(image, 128, 255, cv2.THRESH_BINARY)\n",
    "binary_image = 255-binary_image\n",
    "\n",
    "# Use connectedComponentsWithStats to obtain labels and bounding boxes\n",
    "num_labels, labels, stats, centroids = cv2.connectedComponentsWithStats(binary_image, connectivity=8)\n",
    "\n",
    "# Iterate through each connected component\n",
    "for label in range(1, num_labels):\n",
    "    # Get the bounding box of the current connected component\n",
    "    x, y, w, h = stats[label][:4]\n",
    "\n",
    "    if h>5 and w>5:\n",
    "        # Crop the connected component using the bounding box\n",
    "        connected_component = image[y:y+h, x:x+w]\n",
    "    \n",
    "        # Display or save the cropped connected component\n",
    "        cv2.imshow(f'Cropped Component {label}', connected_component)\n",
    "\n",
    "    \n",
    "    cv2.waitKey(0)\n",
    "    cv2.destroyAllWindows()"
   ]
  },
  {
   "cell_type": "code",
   "execution_count": null,
   "id": "a2108d23-b8c9-4a4e-afaa-44e62e2a7060",
   "metadata": {},
   "outputs": [],
   "source": []
  }
 ],
 "metadata": {
  "kernelspec": {
   "display_name": "Python 3 (ipykernel)",
   "language": "python",
   "name": "python3"
  },
  "language_info": {
   "codemirror_mode": {
    "name": "ipython",
    "version": 3
   },
   "file_extension": ".py",
   "mimetype": "text/x-python",
   "name": "python",
   "nbconvert_exporter": "python",
   "pygments_lexer": "ipython3",
   "version": "3.10.12"
  }
 },
 "nbformat": 4,
 "nbformat_minor": 5
}
