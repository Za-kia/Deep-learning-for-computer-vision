{
 "cells": [
  {
   "cell_type": "markdown",
   "metadata": {
    "id": "mUXNXqK7n0Tt"
   },
   "source": [
    "<center><div style=\"direction:rtl;font-family:B Lotus, B Nazanin, Tahoma\">به نام خدا</div></center>\n",
    "\n",
    "<h1><center><div style=\"direction:rtl;font-family:B Lotus, B Nazanin, Tahoma\">مقدمه‌ای بر شبکه‌های عصبی و چارچوب Keras (کراس)</div></center></h1>"
   ]
  },
  {
   "cell_type": "markdown",
   "metadata": {
    "id": "jP3IhlAYn0Tw"
   },
   "source": [
    "## <div style=\"direction:rtl;text-align:right;font-family:B Lotus, B Nazanin, Tahoma\">لود کتابخانه‌های مورد استفاده</div>\n",
    "<div style=\"direction:rtl;text-align:right;font-family:Tahoma\">\n"
   ]
  },
  {
   "cell_type": "code",
   "execution_count": 1,
   "metadata": {},
   "outputs": [
    {
     "data": {
      "text/plain": [
       "('Data_hoda_full.mat', <http.client.HTTPMessage at 0x1eee31ebdc0>)"
      ]
     },
     "execution_count": 1,
     "metadata": {},
     "output_type": "execute_result"
    }
   ],
   "source": [
    "import urllib.request\n",
    "\n",
    "# دانلود dataset.py\n",
    "url1 = 'https://raw.githubusercontent.com/Alireza-Akhavan/deeplearning-tensorflow2-notebooks/master/dataset.py'\n",
    "urllib.request.urlretrieve(url1, 'dataset.py')\n",
    "\n",
    "# دانلود Data_hoda_full.mat\n",
    "url2 = 'https://github.com/Alireza-Akhavan/deeplearning-tensorflow2-notebooks/raw/master/dataset/Data_hoda_full.mat'\n",
    "urllib.request.urlretrieve(url2, 'Data_hoda_full.mat')"
   ]
  },
  {
   "cell_type": "code",
   "execution_count": 2,
   "metadata": {
    "id": "wRZGKJERn0Ty",
    "nbpresent": {
     "id": "de829a92-1fb6-44ad-a2c6-fc1001e1f6e1"
    }
   },
   "outputs": [],
   "source": [
    "#from sklearn import datasets\n",
    "from tensorflow import keras\n",
    "from keras.models import Sequential\n",
    "from keras.layers import Dense\n",
    "import numpy as np\n",
    "\n",
    "from dataset import load_hoda"
   ]
  },
  {
   "cell_type": "markdown",
   "metadata": {
    "id": "n6Fce1Mmn0T0"
   },
   "source": [
    "## <div style=\"direction:rtl;text-align:right;font-family:B Lotus, B Nazanin, Tahoma\">لود مجموعه داده (dataset)</div>"
   ]
  },
  {
   "cell_type": "code",
   "execution_count": 3,
   "metadata": {
    "id": "75933Yn4n0T2"
   },
   "outputs": [],
   "source": [
    "x_train_original, y_train_original, x_test_original, y_test_original = load_hoda()"
   ]
  },
  {
   "cell_type": "code",
   "execution_count": 4,
   "metadata": {
    "id": "Ea33wtOhojtO"
   },
   "outputs": [
    {
     "data": {
      "text/plain": [
       "array([6, 5, 0], dtype=uint8)"
      ]
     },
     "execution_count": 4,
     "metadata": {},
     "output_type": "execute_result"
    }
   ],
   "source": [
    "y_train_original[:3]"
   ]
  },
  {
   "cell_type": "code",
   "execution_count": 5,
   "metadata": {
    "id": "TNqdNuDmn0T4"
   },
   "outputs": [],
   "source": [
    "# Preprocess input data for Keras.\n",
    "y_train = keras.utils.to_categorical(y_train_original, num_classes=10)\n",
    "y_test = keras.utils.to_categorical(y_test_original, num_classes=10)"
   ]
  },
  {
   "cell_type": "code",
   "execution_count": 6,
   "metadata": {
    "id": "uoO2KjILomRf"
   },
   "outputs": [
    {
     "data": {
      "text/plain": [
       "array([[0., 0., 0., 0., 0., 0., 1., 0., 0., 0.],\n",
       "       [0., 0., 0., 0., 0., 1., 0., 0., 0., 0.],\n",
       "       [1., 0., 0., 0., 0., 0., 0., 0., 0., 0.]], dtype=float32)"
      ]
     },
     "execution_count": 6,
     "metadata": {},
     "output_type": "execute_result"
    }
   ],
   "source": [
    "y_train[:3]"
   ]
  },
  {
   "cell_type": "markdown",
   "metadata": {
    "id": "HTMmpwKvn0T6"
   },
   "source": [
    "<div style=\"direction:rtl;text-align:right;font-family:Tahoma\">\n",
    "نرمال سازی مقادیر به مقدار بین 0 و 1\n",
    "</div>"
   ]
  },
  {
   "cell_type": "code",
   "execution_count": 7,
   "metadata": {
    "id": "Qq6rwPV3n0T7"
   },
   "outputs": [],
   "source": [
    "x_train = x_train_original.astype('float32')\n",
    "x_test = x_test_original.astype('float32')\n",
    "x_train /= 255\n",
    "x_test /= 255"
   ]
  },
  {
   "cell_type": "markdown",
   "metadata": {
    "id": "jnNoMbA4n0UA"
   },
   "source": [
    "## <div style=\"direction:rtl;text-align:right;font-family:B Lotus, B Nazanin, Tahoma\">تعریف معماری مدل (model architecture)</div>"
   ]
  },
  {
   "cell_type": "code",
   "execution_count": 8,
   "metadata": {
    "id": "yXI8Qt9ln0UD"
   },
   "outputs": [],
   "source": [
    "model = Sequential()\n",
    "model.add(Dense(64, activation='relu', input_dim=25))\n",
    "model.add(Dense(10, activation='softmax'))"
   ]
  },
  {
   "cell_type": "code",
   "execution_count": 9,
   "metadata": {
    "id": "PjjzCgUon0UE"
   },
   "outputs": [
    {
     "name": "stdout",
     "output_type": "stream",
     "text": [
      "Model: \"sequential\"\n",
      "_________________________________________________________________\n",
      " Layer (type)                Output Shape              Param #   \n",
      "=================================================================\n",
      " dense (Dense)               (None, 64)                1664      \n",
      "                                                                 \n",
      " dense_1 (Dense)             (None, 10)                650       \n",
      "                                                                 \n",
      "=================================================================\n",
      "Total params: 2,314\n",
      "Trainable params: 2,314\n",
      "Non-trainable params: 0\n",
      "_________________________________________________________________\n"
     ]
    }
   ],
   "source": [
    "model.summary()"
   ]
  },
  {
   "cell_type": "markdown",
   "metadata": {
    "id": "eiBtCFgsn0UG"
   },
   "source": [
    "## <div style=\"direction:rtl;text-align:right;font-family:B Lotus, B Nazanin, Tahoma\">Compile model</div>\n"
   ]
  },
  {
   "cell_type": "code",
   "execution_count": 10,
   "metadata": {
    "id": "LgsEJt-on0UH"
   },
   "outputs": [],
   "source": [
    "model.compile(loss='categorical_crossentropy',\n",
    "              optimizer='rmsprop',\n",
    "              metrics=['accuracy'])"
   ]
  },
  {
   "cell_type": "markdown",
   "metadata": {
    "id": "K90TipVyn0UI"
   },
   "source": [
    "## <div style=\"direction:rtl;text-align:right;font-family:B Lotus, B Nazanin, Tahoma\">آموش مدل با داده‌های آموزشی</div>\n"
   ]
  },
  {
   "cell_type": "code",
   "execution_count": 11,
   "metadata": {
    "colab": {
     "base_uri": "https://localhost:8080/"
    },
    "id": "fII6tnXYp9B4",
    "outputId": "67134075-f97b-48cb-bed5-3d7cfeccebee"
   },
   "outputs": [
    {
     "data": {
      "text/plain": [
       "800.0"
      ]
     },
     "execution_count": 11,
     "metadata": {},
     "output_type": "execute_result"
    }
   ],
   "source": [
    "1000*0.8"
   ]
  },
  {
   "cell_type": "code",
   "execution_count": 12,
   "metadata": {
    "colab": {
     "base_uri": "https://localhost:8080/"
    },
    "id": "j_5xOZUSqES1",
    "outputId": "2231f503-88e4-461a-fd3d-9a4c31ef5645"
   },
   "outputs": [
    {
     "data": {
      "text/plain": [
       "13"
      ]
     },
     "execution_count": 12,
     "metadata": {},
     "output_type": "execute_result"
    }
   ],
   "source": [
    "import math\n",
    "math.ceil((800/64))"
   ]
  },
  {
   "cell_type": "code",
   "execution_count": 13,
   "metadata": {
    "colab": {
     "base_uri": "https://localhost:8080/"
    },
    "id": "pLBWKD3_n0UK",
    "outputId": "b7a3cf90-d1b1-4435-8eac-b2ae13396a51"
   },
   "outputs": [
    {
     "name": "stdout",
     "output_type": "stream",
     "text": [
      "Epoch 1/100\n",
      "13/13 [==============================] - 1s 36ms/step - loss: 2.1657 - accuracy: 0.2625 - val_loss: 1.9939 - val_accuracy: 0.4000\n",
      "Epoch 2/100\n",
      "13/13 [==============================] - 0s 7ms/step - loss: 1.9659 - accuracy: 0.3975 - val_loss: 1.8392 - val_accuracy: 0.5000\n",
      "Epoch 3/100\n",
      "13/13 [==============================] - 0s 9ms/step - loss: 1.8091 - accuracy: 0.4913 - val_loss: 1.6948 - val_accuracy: 0.5550\n",
      "Epoch 4/100\n",
      "13/13 [==============================] - 0s 8ms/step - loss: 1.6590 - accuracy: 0.5925 - val_loss: 1.5498 - val_accuracy: 0.6100\n",
      "Epoch 5/100\n",
      "13/13 [==============================] - 0s 8ms/step - loss: 1.5119 - accuracy: 0.6612 - val_loss: 1.4132 - val_accuracy: 0.6800\n",
      "Epoch 6/100\n",
      "13/13 [==============================] - 0s 8ms/step - loss: 1.3733 - accuracy: 0.7163 - val_loss: 1.2875 - val_accuracy: 0.7150\n",
      "Epoch 7/100\n",
      "13/13 [==============================] - 0s 8ms/step - loss: 1.2485 - accuracy: 0.7650 - val_loss: 1.1807 - val_accuracy: 0.7400\n",
      "Epoch 8/100\n",
      "13/13 [==============================] - 0s 8ms/step - loss: 1.1333 - accuracy: 0.7750 - val_loss: 1.0740 - val_accuracy: 0.7650\n",
      "Epoch 9/100\n",
      "13/13 [==============================] - 0s 8ms/step - loss: 1.0333 - accuracy: 0.7837 - val_loss: 0.9878 - val_accuracy: 0.7650\n",
      "Epoch 10/100\n",
      "13/13 [==============================] - 0s 8ms/step - loss: 0.9421 - accuracy: 0.8037 - val_loss: 0.9098 - val_accuracy: 0.8000\n",
      "Epoch 11/100\n",
      "13/13 [==============================] - 0s 12ms/step - loss: 0.8632 - accuracy: 0.8175 - val_loss: 0.8428 - val_accuracy: 0.8100\n",
      "Epoch 12/100\n",
      "13/13 [==============================] - 0s 9ms/step - loss: 0.7959 - accuracy: 0.8225 - val_loss: 0.7807 - val_accuracy: 0.8050\n",
      "Epoch 13/100\n",
      "13/13 [==============================] - 0s 10ms/step - loss: 0.7353 - accuracy: 0.8350 - val_loss: 0.7271 - val_accuracy: 0.8200\n",
      "Epoch 14/100\n",
      "13/13 [==============================] - 0s 10ms/step - loss: 0.6855 - accuracy: 0.8400 - val_loss: 0.6865 - val_accuracy: 0.8250\n",
      "Epoch 15/100\n",
      "13/13 [==============================] - 0s 9ms/step - loss: 0.6411 - accuracy: 0.8413 - val_loss: 0.6479 - val_accuracy: 0.8350\n",
      "Epoch 16/100\n",
      "13/13 [==============================] - 0s 9ms/step - loss: 0.6009 - accuracy: 0.8462 - val_loss: 0.6162 - val_accuracy: 0.8300\n",
      "Epoch 17/100\n",
      "13/13 [==============================] - 0s 10ms/step - loss: 0.5678 - accuracy: 0.8525 - val_loss: 0.5921 - val_accuracy: 0.8350\n",
      "Epoch 18/100\n",
      "13/13 [==============================] - 0s 10ms/step - loss: 0.5378 - accuracy: 0.8662 - val_loss: 0.5623 - val_accuracy: 0.8400\n",
      "Epoch 19/100\n",
      "13/13 [==============================] - 0s 9ms/step - loss: 0.5120 - accuracy: 0.8650 - val_loss: 0.5433 - val_accuracy: 0.8400\n",
      "Epoch 20/100\n",
      "13/13 [==============================] - 0s 9ms/step - loss: 0.4872 - accuracy: 0.8700 - val_loss: 0.5250 - val_accuracy: 0.8300\n",
      "Epoch 21/100\n",
      "13/13 [==============================] - 0s 10ms/step - loss: 0.4673 - accuracy: 0.8775 - val_loss: 0.5075 - val_accuracy: 0.8450\n",
      "Epoch 22/100\n",
      "13/13 [==============================] - 0s 9ms/step - loss: 0.4483 - accuracy: 0.8800 - val_loss: 0.4909 - val_accuracy: 0.8500\n",
      "Epoch 23/100\n",
      "13/13 [==============================] - 0s 10ms/step - loss: 0.4316 - accuracy: 0.8825 - val_loss: 0.4794 - val_accuracy: 0.8600\n",
      "Epoch 24/100\n",
      "13/13 [==============================] - 0s 10ms/step - loss: 0.4165 - accuracy: 0.8850 - val_loss: 0.4701 - val_accuracy: 0.8550\n",
      "Epoch 25/100\n",
      "13/13 [==============================] - 0s 10ms/step - loss: 0.4019 - accuracy: 0.8863 - val_loss: 0.4559 - val_accuracy: 0.8650\n",
      "Epoch 26/100\n",
      "13/13 [==============================] - 0s 9ms/step - loss: 0.3884 - accuracy: 0.8913 - val_loss: 0.4499 - val_accuracy: 0.8650\n",
      "Epoch 27/100\n",
      "13/13 [==============================] - 0s 9ms/step - loss: 0.3780 - accuracy: 0.8913 - val_loss: 0.4378 - val_accuracy: 0.8750\n",
      "Epoch 28/100\n",
      "13/13 [==============================] - 0s 9ms/step - loss: 0.3665 - accuracy: 0.8938 - val_loss: 0.4328 - val_accuracy: 0.8800\n",
      "Epoch 29/100\n",
      "13/13 [==============================] - 0s 9ms/step - loss: 0.3576 - accuracy: 0.8938 - val_loss: 0.4209 - val_accuracy: 0.8800\n",
      "Epoch 30/100\n",
      "13/13 [==============================] - 0s 9ms/step - loss: 0.3488 - accuracy: 0.9013 - val_loss: 0.4214 - val_accuracy: 0.8750\n",
      "Epoch 31/100\n",
      "13/13 [==============================] - 0s 10ms/step - loss: 0.3397 - accuracy: 0.8950 - val_loss: 0.4103 - val_accuracy: 0.8700\n",
      "Epoch 32/100\n",
      "13/13 [==============================] - 0s 9ms/step - loss: 0.3325 - accuracy: 0.9050 - val_loss: 0.4055 - val_accuracy: 0.8650\n",
      "Epoch 33/100\n",
      "13/13 [==============================] - 0s 9ms/step - loss: 0.3247 - accuracy: 0.9013 - val_loss: 0.4050 - val_accuracy: 0.8650\n",
      "Epoch 34/100\n",
      "13/13 [==============================] - 0s 9ms/step - loss: 0.3198 - accuracy: 0.9075 - val_loss: 0.4000 - val_accuracy: 0.8750\n",
      "Epoch 35/100\n",
      "13/13 [==============================] - 0s 10ms/step - loss: 0.3122 - accuracy: 0.9038 - val_loss: 0.4008 - val_accuracy: 0.8600\n",
      "Epoch 36/100\n",
      "13/13 [==============================] - 0s 10ms/step - loss: 0.3054 - accuracy: 0.9050 - val_loss: 0.3886 - val_accuracy: 0.8750\n",
      "Epoch 37/100\n",
      "13/13 [==============================] - 0s 9ms/step - loss: 0.2995 - accuracy: 0.9162 - val_loss: 0.3856 - val_accuracy: 0.8700\n",
      "Epoch 38/100\n",
      "13/13 [==============================] - 0s 8ms/step - loss: 0.2946 - accuracy: 0.9112 - val_loss: 0.3852 - val_accuracy: 0.8800\n",
      "Epoch 39/100\n",
      "13/13 [==============================] - 0s 9ms/step - loss: 0.2883 - accuracy: 0.9137 - val_loss: 0.3780 - val_accuracy: 0.8850\n",
      "Epoch 40/100\n",
      "13/13 [==============================] - 0s 9ms/step - loss: 0.2842 - accuracy: 0.9162 - val_loss: 0.3782 - val_accuracy: 0.8700\n",
      "Epoch 41/100\n",
      "13/13 [==============================] - 0s 10ms/step - loss: 0.2799 - accuracy: 0.9112 - val_loss: 0.3780 - val_accuracy: 0.8750\n",
      "Epoch 42/100\n",
      "13/13 [==============================] - 0s 9ms/step - loss: 0.2761 - accuracy: 0.9162 - val_loss: 0.3722 - val_accuracy: 0.8850\n",
      "Epoch 43/100\n",
      "13/13 [==============================] - 0s 9ms/step - loss: 0.2708 - accuracy: 0.9187 - val_loss: 0.3733 - val_accuracy: 0.8700\n",
      "Epoch 44/100\n",
      "13/13 [==============================] - 0s 9ms/step - loss: 0.2670 - accuracy: 0.9162 - val_loss: 0.3665 - val_accuracy: 0.8800\n",
      "Epoch 45/100\n",
      "13/13 [==============================] - 0s 9ms/step - loss: 0.2638 - accuracy: 0.9200 - val_loss: 0.3650 - val_accuracy: 0.8800\n",
      "Epoch 46/100\n",
      "13/13 [==============================] - 0s 10ms/step - loss: 0.2597 - accuracy: 0.9175 - val_loss: 0.3655 - val_accuracy: 0.8650\n",
      "Epoch 47/100\n",
      "13/13 [==============================] - 0s 9ms/step - loss: 0.2558 - accuracy: 0.9200 - val_loss: 0.3599 - val_accuracy: 0.8850\n",
      "Epoch 48/100\n",
      "13/13 [==============================] - 0s 9ms/step - loss: 0.2524 - accuracy: 0.9212 - val_loss: 0.3580 - val_accuracy: 0.8800\n",
      "Epoch 49/100\n",
      "13/13 [==============================] - 0s 10ms/step - loss: 0.2488 - accuracy: 0.9225 - val_loss: 0.3576 - val_accuracy: 0.8850\n",
      "Epoch 50/100\n",
      "13/13 [==============================] - 0s 10ms/step - loss: 0.2460 - accuracy: 0.9225 - val_loss: 0.3532 - val_accuracy: 0.8850\n",
      "Epoch 51/100\n",
      "13/13 [==============================] - 0s 10ms/step - loss: 0.2432 - accuracy: 0.9187 - val_loss: 0.3553 - val_accuracy: 0.8800\n",
      "Epoch 52/100\n",
      "13/13 [==============================] - 0s 10ms/step - loss: 0.2399 - accuracy: 0.9237 - val_loss: 0.3527 - val_accuracy: 0.8700\n",
      "Epoch 53/100\n",
      "13/13 [==============================] - 0s 10ms/step - loss: 0.2364 - accuracy: 0.9225 - val_loss: 0.3514 - val_accuracy: 0.8850\n",
      "Epoch 54/100\n",
      "13/13 [==============================] - 0s 10ms/step - loss: 0.2340 - accuracy: 0.9262 - val_loss: 0.3459 - val_accuracy: 0.8850\n",
      "Epoch 55/100\n",
      "13/13 [==============================] - 0s 9ms/step - loss: 0.2310 - accuracy: 0.9287 - val_loss: 0.3479 - val_accuracy: 0.8850\n",
      "Epoch 56/100\n",
      "13/13 [==============================] - 0s 9ms/step - loss: 0.2285 - accuracy: 0.9262 - val_loss: 0.3485 - val_accuracy: 0.8850\n",
      "Epoch 57/100\n",
      "13/13 [==============================] - 0s 9ms/step - loss: 0.2263 - accuracy: 0.9275 - val_loss: 0.3484 - val_accuracy: 0.8850\n",
      "Epoch 58/100\n",
      "13/13 [==============================] - 0s 9ms/step - loss: 0.2239 - accuracy: 0.9237 - val_loss: 0.3501 - val_accuracy: 0.8850\n",
      "Epoch 59/100\n",
      "13/13 [==============================] - 0s 9ms/step - loss: 0.2202 - accuracy: 0.9275 - val_loss: 0.3436 - val_accuracy: 0.8900\n",
      "Epoch 60/100\n",
      "13/13 [==============================] - 0s 9ms/step - loss: 0.2183 - accuracy: 0.9337 - val_loss: 0.3435 - val_accuracy: 0.8850\n",
      "Epoch 61/100\n",
      "13/13 [==============================] - 0s 10ms/step - loss: 0.2154 - accuracy: 0.9287 - val_loss: 0.3447 - val_accuracy: 0.8850\n",
      "Epoch 62/100\n",
      "13/13 [==============================] - 0s 10ms/step - loss: 0.2149 - accuracy: 0.9300 - val_loss: 0.3453 - val_accuracy: 0.8850\n",
      "Epoch 63/100\n",
      "13/13 [==============================] - 0s 9ms/step - loss: 0.2105 - accuracy: 0.9312 - val_loss: 0.3424 - val_accuracy: 0.8800\n",
      "Epoch 64/100\n",
      "13/13 [==============================] - 0s 9ms/step - loss: 0.2104 - accuracy: 0.9337 - val_loss: 0.3427 - val_accuracy: 0.8850\n",
      "Epoch 65/100\n",
      "13/13 [==============================] - 0s 9ms/step - loss: 0.2069 - accuracy: 0.9325 - val_loss: 0.3386 - val_accuracy: 0.8900\n",
      "Epoch 66/100\n",
      "13/13 [==============================] - 0s 9ms/step - loss: 0.2045 - accuracy: 0.9312 - val_loss: 0.3421 - val_accuracy: 0.8900\n",
      "Epoch 67/100\n",
      "13/13 [==============================] - 0s 9ms/step - loss: 0.2021 - accuracy: 0.9325 - val_loss: 0.3419 - val_accuracy: 0.8900\n",
      "Epoch 68/100\n",
      "13/13 [==============================] - 0s 10ms/step - loss: 0.2009 - accuracy: 0.9337 - val_loss: 0.3408 - val_accuracy: 0.8900\n",
      "Epoch 69/100\n",
      "13/13 [==============================] - 0s 9ms/step - loss: 0.1984 - accuracy: 0.9300 - val_loss: 0.3443 - val_accuracy: 0.8750\n",
      "Epoch 70/100\n",
      "13/13 [==============================] - 0s 9ms/step - loss: 0.1958 - accuracy: 0.9375 - val_loss: 0.3358 - val_accuracy: 0.8900\n",
      "Epoch 71/100\n",
      "13/13 [==============================] - 0s 9ms/step - loss: 0.1940 - accuracy: 0.9350 - val_loss: 0.3360 - val_accuracy: 0.8850\n",
      "Epoch 72/100\n",
      "13/13 [==============================] - 0s 10ms/step - loss: 0.1915 - accuracy: 0.9375 - val_loss: 0.3358 - val_accuracy: 0.8950\n",
      "Epoch 73/100\n",
      "13/13 [==============================] - 0s 9ms/step - loss: 0.1909 - accuracy: 0.9350 - val_loss: 0.3382 - val_accuracy: 0.8700\n",
      "Epoch 74/100\n",
      "13/13 [==============================] - 0s 9ms/step - loss: 0.1884 - accuracy: 0.9362 - val_loss: 0.3395 - val_accuracy: 0.8800\n",
      "Epoch 75/100\n",
      "13/13 [==============================] - 0s 9ms/step - loss: 0.1855 - accuracy: 0.9375 - val_loss: 0.3359 - val_accuracy: 0.8900\n",
      "Epoch 76/100\n",
      "13/13 [==============================] - 0s 9ms/step - loss: 0.1841 - accuracy: 0.9425 - val_loss: 0.3368 - val_accuracy: 0.8900\n",
      "Epoch 77/100\n",
      "13/13 [==============================] - 0s 9ms/step - loss: 0.1816 - accuracy: 0.9413 - val_loss: 0.3363 - val_accuracy: 0.8850\n",
      "Epoch 78/100\n",
      "13/13 [==============================] - 0s 10ms/step - loss: 0.1805 - accuracy: 0.9350 - val_loss: 0.3429 - val_accuracy: 0.8700\n",
      "Epoch 79/100\n",
      "13/13 [==============================] - 0s 10ms/step - loss: 0.1792 - accuracy: 0.9400 - val_loss: 0.3348 - val_accuracy: 0.8950\n",
      "Epoch 80/100\n",
      "13/13 [==============================] - 0s 9ms/step - loss: 0.1766 - accuracy: 0.9400 - val_loss: 0.3375 - val_accuracy: 0.8800\n",
      "Epoch 81/100\n",
      "13/13 [==============================] - 0s 8ms/step - loss: 0.1754 - accuracy: 0.9413 - val_loss: 0.3340 - val_accuracy: 0.8900\n",
      "Epoch 82/100\n",
      "13/13 [==============================] - 0s 9ms/step - loss: 0.1728 - accuracy: 0.9450 - val_loss: 0.3369 - val_accuracy: 0.8850\n",
      "Epoch 83/100\n",
      "13/13 [==============================] - 0s 8ms/step - loss: 0.1709 - accuracy: 0.9463 - val_loss: 0.3318 - val_accuracy: 0.8900\n",
      "Epoch 84/100\n",
      "13/13 [==============================] - 0s 8ms/step - loss: 0.1699 - accuracy: 0.9425 - val_loss: 0.3325 - val_accuracy: 0.8850\n",
      "Epoch 85/100\n",
      "13/13 [==============================] - 0s 9ms/step - loss: 0.1676 - accuracy: 0.9400 - val_loss: 0.3332 - val_accuracy: 0.8800\n",
      "Epoch 86/100\n",
      "13/13 [==============================] - 0s 9ms/step - loss: 0.1671 - accuracy: 0.9450 - val_loss: 0.3310 - val_accuracy: 0.8950\n",
      "Epoch 87/100\n",
      "13/13 [==============================] - 0s 8ms/step - loss: 0.1660 - accuracy: 0.9463 - val_loss: 0.3330 - val_accuracy: 0.8950\n",
      "Epoch 88/100\n",
      "13/13 [==============================] - 0s 10ms/step - loss: 0.1631 - accuracy: 0.9475 - val_loss: 0.3338 - val_accuracy: 0.8800\n",
      "Epoch 89/100\n",
      "13/13 [==============================] - 0s 9ms/step - loss: 0.1624 - accuracy: 0.9413 - val_loss: 0.3327 - val_accuracy: 0.8750\n",
      "Epoch 90/100\n",
      "13/13 [==============================] - 0s 9ms/step - loss: 0.1596 - accuracy: 0.9513 - val_loss: 0.3302 - val_accuracy: 0.8850\n",
      "Epoch 91/100\n",
      "13/13 [==============================] - 0s 9ms/step - loss: 0.1582 - accuracy: 0.9488 - val_loss: 0.3323 - val_accuracy: 0.8850\n",
      "Epoch 92/100\n",
      "13/13 [==============================] - 0s 9ms/step - loss: 0.1573 - accuracy: 0.9538 - val_loss: 0.3318 - val_accuracy: 0.8900\n",
      "Epoch 93/100\n",
      "13/13 [==============================] - 0s 9ms/step - loss: 0.1553 - accuracy: 0.9525 - val_loss: 0.3307 - val_accuracy: 0.8800\n",
      "Epoch 94/100\n",
      "13/13 [==============================] - 0s 10ms/step - loss: 0.1547 - accuracy: 0.9513 - val_loss: 0.3277 - val_accuracy: 0.9000\n",
      "Epoch 95/100\n",
      "13/13 [==============================] - 0s 9ms/step - loss: 0.1525 - accuracy: 0.9538 - val_loss: 0.3319 - val_accuracy: 0.8900\n",
      "Epoch 96/100\n",
      "13/13 [==============================] - 0s 9ms/step - loss: 0.1516 - accuracy: 0.9575 - val_loss: 0.3328 - val_accuracy: 0.8950\n",
      "Epoch 97/100\n",
      "13/13 [==============================] - 0s 10ms/step - loss: 0.1500 - accuracy: 0.9525 - val_loss: 0.3334 - val_accuracy: 0.8850\n",
      "Epoch 98/100\n",
      "13/13 [==============================] - 0s 9ms/step - loss: 0.1486 - accuracy: 0.9538 - val_loss: 0.3323 - val_accuracy: 0.9000\n",
      "Epoch 99/100\n",
      "13/13 [==============================] - 0s 9ms/step - loss: 0.1463 - accuracy: 0.9538 - val_loss: 0.3282 - val_accuracy: 0.8950\n",
      "Epoch 100/100\n",
      "13/13 [==============================] - 0s 9ms/step - loss: 0.1453 - accuracy: 0.9525 - val_loss: 0.3348 - val_accuracy: 0.8850\n"
     ]
    }
   ],
   "source": [
    "history = model.fit(x_train, y_train,\n",
    "          epochs=100,\n",
    "          batch_size=64, validation_split=0.2)"
   ]
  },
  {
   "cell_type": "code",
   "execution_count": 14,
   "metadata": {},
   "outputs": [
    {
     "data": {
      "text/plain": [
       "{'loss': [2.1656851768493652,\n",
       "  1.965944766998291,\n",
       "  1.8091132640838623,\n",
       "  1.6590118408203125,\n",
       "  1.5118910074234009,\n",
       "  1.3733465671539307,\n",
       "  1.2484564781188965,\n",
       "  1.1333156824111938,\n",
       "  1.0332859754562378,\n",
       "  0.9420550465583801,\n",
       "  0.863243818283081,\n",
       "  0.7958682179450989,\n",
       "  0.7352582812309265,\n",
       "  0.6855288147926331,\n",
       "  0.6411492824554443,\n",
       "  0.6008533239364624,\n",
       "  0.5677891373634338,\n",
       "  0.5378151535987854,\n",
       "  0.5120446681976318,\n",
       "  0.4872302711009979,\n",
       "  0.46733325719833374,\n",
       "  0.44831809401512146,\n",
       "  0.431618332862854,\n",
       "  0.41647008061408997,\n",
       "  0.4018735885620117,\n",
       "  0.38835012912750244,\n",
       "  0.3779608905315399,\n",
       "  0.3665110468864441,\n",
       "  0.35760441422462463,\n",
       "  0.34882134199142456,\n",
       "  0.33974727988243103,\n",
       "  0.33246058225631714,\n",
       "  0.3246610164642334,\n",
       "  0.3198436498641968,\n",
       "  0.3122326135635376,\n",
       "  0.3054359555244446,\n",
       "  0.29947203397750854,\n",
       "  0.2945783734321594,\n",
       "  0.28834494948387146,\n",
       "  0.284241259098053,\n",
       "  0.2798544764518738,\n",
       "  0.2760988473892212,\n",
       "  0.270801305770874,\n",
       "  0.2670170068740845,\n",
       "  0.26377972960472107,\n",
       "  0.259737104177475,\n",
       "  0.25583577156066895,\n",
       "  0.2524482011795044,\n",
       "  0.2487678974866867,\n",
       "  0.24598674476146698,\n",
       "  0.24317334592342377,\n",
       "  0.23985999822616577,\n",
       "  0.23642763495445251,\n",
       "  0.23404960334300995,\n",
       "  0.2310132384300232,\n",
       "  0.22853165864944458,\n",
       "  0.22630830109119415,\n",
       "  0.22390472888946533,\n",
       "  0.22015774250030518,\n",
       "  0.2183494120836258,\n",
       "  0.2153593897819519,\n",
       "  0.21485595405101776,\n",
       "  0.21051548421382904,\n",
       "  0.21036940813064575,\n",
       "  0.20689897239208221,\n",
       "  0.2045280486345291,\n",
       "  0.20211473107337952,\n",
       "  0.2009473294019699,\n",
       "  0.19839435815811157,\n",
       "  0.19578157365322113,\n",
       "  0.19399777054786682,\n",
       "  0.19145013391971588,\n",
       "  0.19094794988632202,\n",
       "  0.18835610151290894,\n",
       "  0.18551045656204224,\n",
       "  0.1840999573469162,\n",
       "  0.18155300617218018,\n",
       "  0.18051065504550934,\n",
       "  0.17923155426979065,\n",
       "  0.1766124665737152,\n",
       "  0.17536813020706177,\n",
       "  0.17283014953136444,\n",
       "  0.17089444398880005,\n",
       "  0.16987943649291992,\n",
       "  0.167643740773201,\n",
       "  0.16711430251598358,\n",
       "  0.16595937311649323,\n",
       "  0.16309814155101776,\n",
       "  0.16242599487304688,\n",
       "  0.1596076339483261,\n",
       "  0.15816377103328705,\n",
       "  0.15728743374347687,\n",
       "  0.15529176592826843,\n",
       "  0.15472406148910522,\n",
       "  0.1525210440158844,\n",
       "  0.1515640765428543,\n",
       "  0.14995044469833374,\n",
       "  0.14857207238674164,\n",
       "  0.14634880423545837,\n",
       "  0.1453382521867752],\n",
       " 'accuracy': [0.26249998807907104,\n",
       "  0.39750000834465027,\n",
       "  0.49125000834465027,\n",
       "  0.5924999713897705,\n",
       "  0.6612499952316284,\n",
       "  0.7162500023841858,\n",
       "  0.7649999856948853,\n",
       "  0.7749999761581421,\n",
       "  0.7837499976158142,\n",
       "  0.8037499785423279,\n",
       "  0.8174999952316284,\n",
       "  0.8224999904632568,\n",
       "  0.8349999785423279,\n",
       "  0.8399999737739563,\n",
       "  0.8412500023841858,\n",
       "  0.8462499976158142,\n",
       "  0.8525000214576721,\n",
       "  0.8662499785423279,\n",
       "  0.8650000095367432,\n",
       "  0.8700000047683716,\n",
       "  0.8774999976158142,\n",
       "  0.8799999952316284,\n",
       "  0.8824999928474426,\n",
       "  0.8849999904632568,\n",
       "  0.8862500190734863,\n",
       "  0.8912500143051147,\n",
       "  0.8912500143051147,\n",
       "  0.893750011920929,\n",
       "  0.893750011920929,\n",
       "  0.9012500047683716,\n",
       "  0.8949999809265137,\n",
       "  0.9049999713897705,\n",
       "  0.9012500047683716,\n",
       "  0.9075000286102295,\n",
       "  0.9037500023841858,\n",
       "  0.9049999713897705,\n",
       "  0.9162499904632568,\n",
       "  0.9112499952316284,\n",
       "  0.9137499928474426,\n",
       "  0.9162499904632568,\n",
       "  0.9112499952316284,\n",
       "  0.9162499904632568,\n",
       "  0.918749988079071,\n",
       "  0.9162499904632568,\n",
       "  0.9200000166893005,\n",
       "  0.9175000190734863,\n",
       "  0.9200000166893005,\n",
       "  0.9212499856948853,\n",
       "  0.9225000143051147,\n",
       "  0.9225000143051147,\n",
       "  0.918749988079071,\n",
       "  0.9237499833106995,\n",
       "  0.9225000143051147,\n",
       "  0.9262499809265137,\n",
       "  0.9287499785423279,\n",
       "  0.9262499809265137,\n",
       "  0.9275000095367432,\n",
       "  0.9237499833106995,\n",
       "  0.9275000095367432,\n",
       "  0.9337499737739563,\n",
       "  0.9287499785423279,\n",
       "  0.9300000071525574,\n",
       "  0.9312499761581421,\n",
       "  0.9337499737739563,\n",
       "  0.9325000047683716,\n",
       "  0.9312499761581421,\n",
       "  0.9325000047683716,\n",
       "  0.9337499737739563,\n",
       "  0.9300000071525574,\n",
       "  0.9375,\n",
       "  0.9350000023841858,\n",
       "  0.9375,\n",
       "  0.9350000023841858,\n",
       "  0.9362499713897705,\n",
       "  0.9375,\n",
       "  0.9424999952316284,\n",
       "  0.9412500262260437,\n",
       "  0.9350000023841858,\n",
       "  0.9399999976158142,\n",
       "  0.9399999976158142,\n",
       "  0.9412500262260437,\n",
       "  0.9449999928474426,\n",
       "  0.9462500214576721,\n",
       "  0.9424999952316284,\n",
       "  0.9399999976158142,\n",
       "  0.9449999928474426,\n",
       "  0.9462500214576721,\n",
       "  0.9474999904632568,\n",
       "  0.9412500262260437,\n",
       "  0.9512500166893005,\n",
       "  0.9487500190734863,\n",
       "  0.9537500143051147,\n",
       "  0.9524999856948853,\n",
       "  0.9512500166893005,\n",
       "  0.9537500143051147,\n",
       "  0.9574999809265137,\n",
       "  0.9524999856948853,\n",
       "  0.9537500143051147,\n",
       "  0.9537500143051147,\n",
       "  0.9524999856948853],\n",
       " 'val_loss': [1.9939002990722656,\n",
       "  1.8391900062561035,\n",
       "  1.6948148012161255,\n",
       "  1.5497779846191406,\n",
       "  1.413230538368225,\n",
       "  1.2875152826309204,\n",
       "  1.1806702613830566,\n",
       "  1.0739643573760986,\n",
       "  0.9878116846084595,\n",
       "  0.9097753167152405,\n",
       "  0.8427873849868774,\n",
       "  0.7807319164276123,\n",
       "  0.7271010875701904,\n",
       "  0.6864982843399048,\n",
       "  0.6479026079177856,\n",
       "  0.6161934733390808,\n",
       "  0.592074453830719,\n",
       "  0.5622527599334717,\n",
       "  0.5433380007743835,\n",
       "  0.5249966979026794,\n",
       "  0.5074850916862488,\n",
       "  0.4908515214920044,\n",
       "  0.47938042879104614,\n",
       "  0.4700678884983063,\n",
       "  0.4559193551540375,\n",
       "  0.44986510276794434,\n",
       "  0.4377831220626831,\n",
       "  0.4327934980392456,\n",
       "  0.4209361970424652,\n",
       "  0.4214318096637726,\n",
       "  0.41030022501945496,\n",
       "  0.4055235683917999,\n",
       "  0.4050289988517761,\n",
       "  0.39999446272850037,\n",
       "  0.40075552463531494,\n",
       "  0.38861265778541565,\n",
       "  0.38558483123779297,\n",
       "  0.38519641757011414,\n",
       "  0.3779860734939575,\n",
       "  0.37821853160858154,\n",
       "  0.3780190944671631,\n",
       "  0.372243732213974,\n",
       "  0.3733234703540802,\n",
       "  0.3664568364620209,\n",
       "  0.3649865686893463,\n",
       "  0.36546486616134644,\n",
       "  0.3599381148815155,\n",
       "  0.3580291271209717,\n",
       "  0.35757872462272644,\n",
       "  0.3532380163669586,\n",
       "  0.35525649785995483,\n",
       "  0.3527001142501831,\n",
       "  0.35136544704437256,\n",
       "  0.34592291712760925,\n",
       "  0.34790360927581787,\n",
       "  0.3484557867050171,\n",
       "  0.34835273027420044,\n",
       "  0.3500973880290985,\n",
       "  0.34356221556663513,\n",
       "  0.34350940585136414,\n",
       "  0.3447304964065552,\n",
       "  0.3452546000480652,\n",
       "  0.3424427807331085,\n",
       "  0.3427010476589203,\n",
       "  0.3386320173740387,\n",
       "  0.34208348393440247,\n",
       "  0.3418921232223511,\n",
       "  0.3408368229866028,\n",
       "  0.34433990716934204,\n",
       "  0.33575621247291565,\n",
       "  0.3359832763671875,\n",
       "  0.33578622341156006,\n",
       "  0.33817699551582336,\n",
       "  0.33945026993751526,\n",
       "  0.3359025716781616,\n",
       "  0.3367842435836792,\n",
       "  0.3363264501094818,\n",
       "  0.3429216146469116,\n",
       "  0.3348151445388794,\n",
       "  0.3374904692173004,\n",
       "  0.3339654505252838,\n",
       "  0.3368574380874634,\n",
       "  0.3317888677120209,\n",
       "  0.33251261711120605,\n",
       "  0.3332168161869049,\n",
       "  0.33097079396247864,\n",
       "  0.33301055431365967,\n",
       "  0.33375418186187744,\n",
       "  0.33270806074142456,\n",
       "  0.330241322517395,\n",
       "  0.33234158158302307,\n",
       "  0.3318444490432739,\n",
       "  0.33065342903137207,\n",
       "  0.327738881111145,\n",
       "  0.3318989872932434,\n",
       "  0.3328169286251068,\n",
       "  0.3334399461746216,\n",
       "  0.3323080837726593,\n",
       "  0.3282284438610077,\n",
       "  0.33478543162345886],\n",
       " 'val_accuracy': [0.4000000059604645,\n",
       "  0.5,\n",
       "  0.5550000071525574,\n",
       "  0.6100000143051147,\n",
       "  0.6800000071525574,\n",
       "  0.7149999737739563,\n",
       "  0.7400000095367432,\n",
       "  0.7649999856948853,\n",
       "  0.7649999856948853,\n",
       "  0.800000011920929,\n",
       "  0.8100000023841858,\n",
       "  0.8050000071525574,\n",
       "  0.8199999928474426,\n",
       "  0.824999988079071,\n",
       "  0.8349999785423279,\n",
       "  0.8299999833106995,\n",
       "  0.8349999785423279,\n",
       "  0.8399999737739563,\n",
       "  0.8399999737739563,\n",
       "  0.8299999833106995,\n",
       "  0.8450000286102295,\n",
       "  0.8500000238418579,\n",
       "  0.8600000143051147,\n",
       "  0.8550000190734863,\n",
       "  0.8650000095367432,\n",
       "  0.8650000095367432,\n",
       "  0.875,\n",
       "  0.8799999952316284,\n",
       "  0.8799999952316284,\n",
       "  0.875,\n",
       "  0.8700000047683716,\n",
       "  0.8650000095367432,\n",
       "  0.8650000095367432,\n",
       "  0.875,\n",
       "  0.8600000143051147,\n",
       "  0.875,\n",
       "  0.8700000047683716,\n",
       "  0.8799999952316284,\n",
       "  0.8849999904632568,\n",
       "  0.8700000047683716,\n",
       "  0.875,\n",
       "  0.8849999904632568,\n",
       "  0.8700000047683716,\n",
       "  0.8799999952316284,\n",
       "  0.8799999952316284,\n",
       "  0.8650000095367432,\n",
       "  0.8849999904632568,\n",
       "  0.8799999952316284,\n",
       "  0.8849999904632568,\n",
       "  0.8849999904632568,\n",
       "  0.8799999952316284,\n",
       "  0.8700000047683716,\n",
       "  0.8849999904632568,\n",
       "  0.8849999904632568,\n",
       "  0.8849999904632568,\n",
       "  0.8849999904632568,\n",
       "  0.8849999904632568,\n",
       "  0.8849999904632568,\n",
       "  0.8899999856948853,\n",
       "  0.8849999904632568,\n",
       "  0.8849999904632568,\n",
       "  0.8849999904632568,\n",
       "  0.8799999952316284,\n",
       "  0.8849999904632568,\n",
       "  0.8899999856948853,\n",
       "  0.8899999856948853,\n",
       "  0.8899999856948853,\n",
       "  0.8899999856948853,\n",
       "  0.875,\n",
       "  0.8899999856948853,\n",
       "  0.8849999904632568,\n",
       "  0.8949999809265137,\n",
       "  0.8700000047683716,\n",
       "  0.8799999952316284,\n",
       "  0.8899999856948853,\n",
       "  0.8899999856948853,\n",
       "  0.8849999904632568,\n",
       "  0.8700000047683716,\n",
       "  0.8949999809265137,\n",
       "  0.8799999952316284,\n",
       "  0.8899999856948853,\n",
       "  0.8849999904632568,\n",
       "  0.8899999856948853,\n",
       "  0.8849999904632568,\n",
       "  0.8799999952316284,\n",
       "  0.8949999809265137,\n",
       "  0.8949999809265137,\n",
       "  0.8799999952316284,\n",
       "  0.875,\n",
       "  0.8849999904632568,\n",
       "  0.8849999904632568,\n",
       "  0.8899999856948853,\n",
       "  0.8799999952316284,\n",
       "  0.8999999761581421,\n",
       "  0.8899999856948853,\n",
       "  0.8949999809265137,\n",
       "  0.8849999904632568,\n",
       "  0.8999999761581421,\n",
       "  0.8949999809265137,\n",
       "  0.8849999904632568]}"
      ]
     },
     "execution_count": 14,
     "metadata": {},
     "output_type": "execute_result"
    }
   ],
   "source": [
    "history.history"
   ]
  },
  {
   "cell_type": "code",
   "execution_count": 15,
   "metadata": {
    "colab": {
     "base_uri": "https://localhost:8080/"
    },
    "id": "PaLmJPBVqcnK",
    "outputId": "83b1ad43-614d-45df-da8d-2bc4b35d77c8"
   },
   "outputs": [
    {
     "data": {
      "text/plain": [
       "dict_keys(['loss', 'accuracy', 'val_loss', 'val_accuracy'])"
      ]
     },
     "execution_count": 15,
     "metadata": {},
     "output_type": "execute_result"
    }
   ],
   "source": [
    "history.history.keys()"
   ]
  },
  {
   "cell_type": "code",
   "execution_count": 20,
   "metadata": {
    "id": "pSpOuK7Kn0UK"
   },
   "outputs": [],
   "source": [
    "import matplotlib.pyplot as plt\n",
    "%matplotlib inline"
   ]
  },
  {
   "cell_type": "code",
   "execution_count": 17,
   "metadata": {
    "colab": {
     "base_uri": "https://localhost:8080/",
     "height": 448
    },
    "id": "S-aXXd_xq_tT",
    "outputId": "17755e66-7632-4557-f3cc-e802ea1e1fa1"
   },
   "outputs": [
    {
     "data": {
      "text/plain": [
       "<matplotlib.legend.Legend at 0x1eeee60f880>"
      ]
     },
     "execution_count": 17,
     "metadata": {},
     "output_type": "execute_result"
    },
    {
     "data": {
      "image/png": "[encoded data removed]",
      "text/plain": [
       "<Figure size 640x480 with 1 Axes>"
      ]
     },
     "metadata": {},
     "output_type": "display_data"
    }
   ],
   "source": [
    "plt.plot(history.history['val_loss'])\n",
    "plt.plot(history.history['loss'])\n",
    "plt.legend(['val', 'train'])"
   ]
  },
  {
   "cell_type": "code",
   "execution_count": 18,
   "metadata": {
    "colab": {
     "base_uri": "https://localhost:8080/",
     "height": 450
    },
    "id": "t3QELHvWn0UL",
    "outputId": "ca314cb7-8461-44d1-d0af-d6102b12331d"
   },
   "outputs": [
    {
     "data": {
      "text/plain": [
       "<matplotlib.legend.Legend at 0x1eef203f1c0>"
      ]
     },
     "execution_count": 18,
     "metadata": {},
     "output_type": "execute_result"
    },
    {
     "data": {
      "image/png": "[encoded data removed]",
      "text/plain": [
       "<Figure size 640x480 with 1 Axes>"
      ]
     },
     "metadata": {},
     "output_type": "display_data"
    }
   ],
   "source": [
    "plt.plot(history.history['val_accuracy'])\n",
    "plt.plot(history.history['accuracy'])\n",
    "plt.legend(['val', 'train'])"
   ]
  },
  {
   "cell_type": "markdown",
   "metadata": {
    "id": "-b_6qvBFn0UL"
   },
   "source": [
    "## <div style=\"direction:rtl;text-align:right;font-family:B Lotus, B Nazanin, Tahoma\">ارزیابی مدل روی داده های آزمون</div>"
   ]
  },
  {
   "cell_type": "code",
   "execution_count": 19,
   "metadata": {
    "colab": {
     "base_uri": "https://localhost:8080/"
    },
    "id": "zNl9cUA2n0UL",
    "outputId": "727bcec2-33aa-4e04-88b8-800799a448ed"
   },
   "outputs": [
    {
     "name": "stdout",
     "output_type": "stream",
     "text": [
      "7/7 [==============================] - 0s 3ms/step - loss: 0.2629 - accuracy: 0.9100\n",
      "\n",
      "Testing loss: 0.26, acc: 0.91%\n"
     ]
    }
   ],
   "source": [
    "loss, acc = model.evaluate(x_test, y_test)\n",
    "print('\\nTesting loss: %.2f, acc: %.2f%%'%(loss, acc))"
   ]
  },
  {
   "cell_type": "markdown",
   "metadata": {
    "id": "ruUxAbvWn0UM"
   },
   "source": [
    "## <div style=\"direction:rtl;text-align:right;font-family:B Lotus, B Nazanin, Tahoma\">پیش‌بینی داده‌های آموزشی</div>\n"
   ]
  },
  {
   "cell_type": "code",
   "execution_count": 20,
   "metadata": {
    "colab": {
     "base_uri": "https://localhost:8080/"
    },
    "id": "JVzqr5A-rNYp",
    "outputId": "2673ebb9-57c6-4410-ffe7-c04b429ba292"
   },
   "outputs": [
    {
     "name": "stdout",
     "output_type": "stream",
     "text": [
      "7/7 [==============================] - 0s 2ms/step\n"
     ]
    }
   ],
   "source": [
    "# The predict_classes function outputs the highest probability class\n",
    "# according to the trained classifier for each input example.\n",
    "predicted = model.predict(x_test)"
   ]
  },
  {
   "cell_type": "code",
   "execution_count": 21,
   "metadata": {
    "id": "G2lTnueerrU0"
   },
   "outputs": [],
   "source": [
    "predicted_classes = np.argmax(predicted, axis=1)"
   ]
  },
  {
   "cell_type": "code",
   "execution_count": 22,
   "metadata": {
    "colab": {
     "base_uri": "https://localhost:8080/"
    },
    "id": "ZlYHuZvkn0UO",
    "outputId": "4c9335bf-2212-4a95-8946-1a97f4f40afd"
   },
   "outputs": [
    {
     "name": "stdout",
     "output_type": "stream",
     "text": [
      "predicted:\n",
      "[7 2 3 5 5 5 4 7 3 2 0 8 8 0 2 9 3 6 7 4 0 3 6 3 9 2 7 5 2 9 2 5 5 8 9 6 5\n",
      " 1 4 8 8 4 2 2 1 2 7 9 0 3 7 5 7 5 2 9 8 2 9 8 8 6 6 6 6 6 2 4 2 4 4 5 9 1\n",
      " 8 4 0 5 6 2 4 6 2 7 7 7 7 1 8 1 7 8 7 7 8 9 7 2 3 1 0 2 9 6 3 5 5 0 0 9 6\n",
      " 7 9 3 9 9 8 7 9 2 5 2 5 5 9 6 9 2 0 3 7 6 5 2 9 0 3 1 8 2 2 3 5 2 9 3 8 2\n",
      " 7 0 9 9 0 7 6 5 4 4 9 3 7 0 7 2 9 4 7 3 4 1 5 6 7 9 1 3 5 4 5 3 4 1 3 3 1\n",
      " 1 3 3 8 9 6 7 7 2 3 0 1 0 9 5]\n",
      "True Label:\n",
      "[7 2 3 1 5 5 4 7 3 2 0 8 8 0 2 9 3 6 7 4 0 3 6 3 9 2 7 5 2 9 7 5 5 8 9 6 5\n",
      " 1 4 8 8 4 7 7 1 2 7 9 0 3 7 4 7 5 2 9 8 2 9 8 8 6 6 6 6 6 2 4 3 4 4 5 9 1\n",
      " 8 2 0 5 6 2 4 3 2 7 7 7 7 1 8 1 7 8 7 7 8 9 3 2 3 1 0 2 9 6 3 5 5 0 0 3 6\n",
      " 7 9 3 9 9 8 7 9 2 5 2 5 5 9 6 9 2 0 3 7 6 5 2 9 0 4 1 8 2 2 3 0 2 9 3 8 6\n",
      " 7 0 9 9 0 7 6 5 4 7 9 3 7 0 7 1 9 4 7 3 4 1 5 6 7 9 1 3 5 4 5 7 4 1 3 3 1\n",
      " 2 3 3 8 9 6 7 7 2 3 0 1 4 9 5]\n"
     ]
    }
   ],
   "source": [
    "\n",
    "print(\"predicted:\")\n",
    "print(predicted_classes)\n",
    "print(\"True Label:\")\n",
    "print(y_test_original)"
   ]
  },
  {
   "cell_type": "code",
   "execution_count": 23,
   "metadata": {
    "colab": {
     "base_uri": "https://localhost:8080/",
     "height": 457
    },
    "id": "8mieKbW2n0UP",
    "outputId": "d370b4f0-e114-46b8-907c-fa3acdd33237"
   },
   "outputs": [
    {
     "data": {
      "image/png": "[encoded data removed]",
      "text/plain": [
       "<Figure size 480x480 with 1 Axes>"
      ]
     },
     "metadata": {},
     "output_type": "display_data"
    }
   ],
   "source": [
    "from sklearn.metrics import confusion_matrix\n",
    "plt.matshow(confusion_matrix(y_test_original, predicted_classes), cmap=\"Blues\")\n",
    "plt.xticks(range(10))\n",
    "plt.yticks(range(10))\n",
    "plt.xlabel(\"Predicted label\")\n",
    "plt.ylabel(\"True label\");"
   ]
  },
  {
   "cell_type": "code",
   "execution_count": 15,
   "metadata": {},
   "outputs": [],
   "source": [
    "model2 = Sequential()\n",
    "model2.add(Dense(100, activation='relu', input_dim=25))\n",
    "model2.add(Dense(200, activation='relu'))\n",
    "model2.add(Dense(100, activation='relu'))\n",
    "model2.add(Dense(10, activation='softmax'))"
   ]
  },
  {
   "cell_type": "code",
   "execution_count": 16,
   "metadata": {},
   "outputs": [
    {
     "name": "stdout",
     "output_type": "stream",
     "text": [
      "Model: \"sequential_1\"\n",
      "_________________________________________________________________\n",
      " Layer (type)                Output Shape              Param #   \n",
      "=================================================================\n",
      " dense_2 (Dense)             (None, 100)               2600      \n",
      "                                                                 \n",
      " dense_3 (Dense)             (None, 200)               20200     \n",
      "                                                                 \n",
      " dense_4 (Dense)             (None, 100)               20100     \n",
      "                                                                 \n",
      " dense_5 (Dense)             (None, 10)                1010      \n",
      "                                                                 \n",
      "=================================================================\n",
      "Total params: 43,910\n",
      "Trainable params: 43,910\n",
      "Non-trainable params: 0\n",
      "_________________________________________________________________\n"
     ]
    }
   ],
   "source": [
    "model2.summary()"
   ]
  },
  {
   "cell_type": "code",
   "execution_count": 17,
   "metadata": {},
   "outputs": [],
   "source": [
    "model2.compile(loss='categorical_crossentropy',\n",
    "              optimizer='rmsprop',\n",
    "              metrics=['accuracy'])"
   ]
  },
  {
   "cell_type": "code",
   "execution_count": 18,
   "metadata": {},
   "outputs": [
    {
     "name": "stdout",
     "output_type": "stream",
     "text": [
      "Epoch 1/100\n",
      "13/13 [==============================] - 2s 40ms/step - loss: 1.8429 - accuracy: 0.5263 - val_loss: 1.2786 - val_accuracy: 0.6950\n",
      "Epoch 2/100\n",
      "13/13 [==============================] - 0s 12ms/step - loss: 0.9817 - accuracy: 0.7850 - val_loss: 0.7865 - val_accuracy: 0.7900\n",
      "Epoch 3/100\n",
      "13/13 [==============================] - 0s 12ms/step - loss: 0.6356 - accuracy: 0.8400 - val_loss: 0.6880 - val_accuracy: 0.7950\n",
      "Epoch 4/100\n",
      "13/13 [==============================] - 0s 12ms/step - loss: 0.4895 - accuracy: 0.8637 - val_loss: 0.5577 - val_accuracy: 0.8550\n",
      "Epoch 5/100\n",
      "13/13 [==============================] - 0s 12ms/step - loss: 0.4103 - accuracy: 0.8813 - val_loss: 0.5125 - val_accuracy: 0.8400\n",
      "Epoch 6/100\n",
      "13/13 [==============================] - 0s 12ms/step - loss: 0.3415 - accuracy: 0.8900 - val_loss: 0.4223 - val_accuracy: 0.8700\n",
      "Epoch 7/100\n",
      "13/13 [==============================] - 0s 12ms/step - loss: 0.3056 - accuracy: 0.8988 - val_loss: 0.4235 - val_accuracy: 0.8850\n",
      "Epoch 8/100\n",
      "13/13 [==============================] - 0s 12ms/step - loss: 0.2831 - accuracy: 0.9050 - val_loss: 0.3836 - val_accuracy: 0.8850\n",
      "Epoch 9/100\n",
      "13/13 [==============================] - 0s 12ms/step - loss: 0.2729 - accuracy: 0.9087 - val_loss: 0.3683 - val_accuracy: 0.8900\n",
      "Epoch 10/100\n",
      "13/13 [==============================] - 0s 12ms/step - loss: 0.2275 - accuracy: 0.9312 - val_loss: 0.3924 - val_accuracy: 0.8800\n",
      "Epoch 11/100\n",
      "13/13 [==============================] - 0s 12ms/step - loss: 0.2294 - accuracy: 0.9250 - val_loss: 0.3900 - val_accuracy: 0.8700\n",
      "Epoch 12/100\n",
      "13/13 [==============================] - 0s 13ms/step - loss: 0.2065 - accuracy: 0.9300 - val_loss: 0.3556 - val_accuracy: 0.9100\n",
      "Epoch 13/100\n",
      "13/13 [==============================] - 0s 12ms/step - loss: 0.1849 - accuracy: 0.9463 - val_loss: 0.5054 - val_accuracy: 0.8400\n",
      "Epoch 14/100\n",
      "13/13 [==============================] - 0s 13ms/step - loss: 0.1873 - accuracy: 0.9362 - val_loss: 0.4176 - val_accuracy: 0.8650\n",
      "Epoch 15/100\n",
      "13/13 [==============================] - 0s 13ms/step - loss: 0.1796 - accuracy: 0.9400 - val_loss: 0.3185 - val_accuracy: 0.9150\n",
      "Epoch 16/100\n",
      "13/13 [==============================] - 0s 13ms/step - loss: 0.1516 - accuracy: 0.9550 - val_loss: 0.3386 - val_accuracy: 0.9100\n",
      "Epoch 17/100\n",
      "13/13 [==============================] - 0s 13ms/step - loss: 0.1523 - accuracy: 0.9538 - val_loss: 0.3372 - val_accuracy: 0.9150\n",
      "Epoch 18/100\n",
      "13/13 [==============================] - 0s 12ms/step - loss: 0.1360 - accuracy: 0.9650 - val_loss: 0.3655 - val_accuracy: 0.8900\n",
      "Epoch 19/100\n",
      "13/13 [==============================] - 0s 12ms/step - loss: 0.1483 - accuracy: 0.9538 - val_loss: 0.3091 - val_accuracy: 0.9000\n",
      "Epoch 20/100\n",
      "13/13 [==============================] - 0s 13ms/step - loss: 0.1114 - accuracy: 0.9775 - val_loss: 0.3187 - val_accuracy: 0.8950\n",
      "Epoch 21/100\n",
      "13/13 [==============================] - 0s 13ms/step - loss: 0.1113 - accuracy: 0.9725 - val_loss: 0.3606 - val_accuracy: 0.9050\n",
      "Epoch 22/100\n",
      "13/13 [==============================] - 0s 13ms/step - loss: 0.1187 - accuracy: 0.9625 - val_loss: 0.3116 - val_accuracy: 0.9150\n",
      "Epoch 23/100\n",
      "13/13 [==============================] - 0s 12ms/step - loss: 0.1091 - accuracy: 0.9588 - val_loss: 0.4276 - val_accuracy: 0.8950\n",
      "Epoch 24/100\n",
      "13/13 [==============================] - 0s 12ms/step - loss: 0.0913 - accuracy: 0.9812 - val_loss: 0.3673 - val_accuracy: 0.8850\n",
      "Epoch 25/100\n",
      "13/13 [==============================] - 0s 13ms/step - loss: 0.0913 - accuracy: 0.9775 - val_loss: 0.3728 - val_accuracy: 0.9150\n",
      "Epoch 26/100\n",
      "13/13 [==============================] - 0s 12ms/step - loss: 0.0912 - accuracy: 0.9712 - val_loss: 0.4570 - val_accuracy: 0.8600\n",
      "Epoch 27/100\n",
      "13/13 [==============================] - 0s 12ms/step - loss: 0.0891 - accuracy: 0.9663 - val_loss: 0.3446 - val_accuracy: 0.8950\n",
      "Epoch 28/100\n",
      "13/13 [==============================] - 0s 12ms/step - loss: 0.0683 - accuracy: 0.9812 - val_loss: 0.3667 - val_accuracy: 0.9200\n",
      "Epoch 29/100\n",
      "13/13 [==============================] - 0s 14ms/step - loss: 0.0770 - accuracy: 0.9812 - val_loss: 0.3595 - val_accuracy: 0.9050\n",
      "Epoch 30/100\n",
      "13/13 [==============================] - 0s 13ms/step - loss: 0.0680 - accuracy: 0.9850 - val_loss: 0.3761 - val_accuracy: 0.9150\n",
      "Epoch 31/100\n",
      "13/13 [==============================] - 0s 13ms/step - loss: 0.0652 - accuracy: 0.9812 - val_loss: 0.3531 - val_accuracy: 0.9150\n",
      "Epoch 32/100\n",
      "13/13 [==============================] - 0s 12ms/step - loss: 0.0540 - accuracy: 0.9900 - val_loss: 0.3481 - val_accuracy: 0.9000\n",
      "Epoch 33/100\n",
      "13/13 [==============================] - 0s 13ms/step - loss: 0.0567 - accuracy: 0.9837 - val_loss: 0.4497 - val_accuracy: 0.8650\n",
      "Epoch 34/100\n",
      "13/13 [==============================] - 0s 12ms/step - loss: 0.0593 - accuracy: 0.9837 - val_loss: 0.3636 - val_accuracy: 0.9100\n",
      "Epoch 35/100\n",
      "13/13 [==============================] - 0s 12ms/step - loss: 0.0468 - accuracy: 0.9875 - val_loss: 0.4545 - val_accuracy: 0.8750\n",
      "Epoch 36/100\n",
      "13/13 [==============================] - 0s 12ms/step - loss: 0.0448 - accuracy: 0.9862 - val_loss: 0.3865 - val_accuracy: 0.8900\n",
      "Epoch 37/100\n",
      "13/13 [==============================] - 0s 12ms/step - loss: 0.0422 - accuracy: 0.9875 - val_loss: 0.3985 - val_accuracy: 0.9000\n",
      "Epoch 38/100\n",
      "13/13 [==============================] - 0s 12ms/step - loss: 0.0458 - accuracy: 0.9887 - val_loss: 0.4087 - val_accuracy: 0.9050\n",
      "Epoch 39/100\n",
      "13/13 [==============================] - 0s 12ms/step - loss: 0.0388 - accuracy: 0.9837 - val_loss: 0.4239 - val_accuracy: 0.9150\n",
      "Epoch 40/100\n",
      "13/13 [==============================] - 0s 12ms/step - loss: 0.0409 - accuracy: 0.9887 - val_loss: 0.3916 - val_accuracy: 0.9100\n",
      "Epoch 41/100\n",
      "13/13 [==============================] - 0s 12ms/step - loss: 0.0313 - accuracy: 0.9937 - val_loss: 0.3913 - val_accuracy: 0.9050\n",
      "Epoch 42/100\n",
      "13/13 [==============================] - 0s 12ms/step - loss: 0.0375 - accuracy: 0.9887 - val_loss: 0.4205 - val_accuracy: 0.9050\n",
      "Epoch 43/100\n",
      "13/13 [==============================] - 0s 13ms/step - loss: 0.0234 - accuracy: 0.9937 - val_loss: 0.4380 - val_accuracy: 0.9100\n",
      "Epoch 44/100\n",
      "13/13 [==============================] - 0s 14ms/step - loss: 0.0296 - accuracy: 0.9887 - val_loss: 0.4450 - val_accuracy: 0.8750\n",
      "Epoch 45/100\n",
      "13/13 [==============================] - 0s 13ms/step - loss: 0.0317 - accuracy: 0.9875 - val_loss: 0.4185 - val_accuracy: 0.9150\n",
      "Epoch 46/100\n",
      "13/13 [==============================] - 0s 12ms/step - loss: 0.0231 - accuracy: 0.9950 - val_loss: 0.4144 - val_accuracy: 0.9100\n",
      "Epoch 47/100\n",
      "13/13 [==============================] - 0s 12ms/step - loss: 0.0183 - accuracy: 0.9950 - val_loss: 0.4246 - val_accuracy: 0.9100\n",
      "Epoch 48/100\n",
      "13/13 [==============================] - 0s 12ms/step - loss: 0.0208 - accuracy: 0.9950 - val_loss: 0.4537 - val_accuracy: 0.8950\n",
      "Epoch 49/100\n",
      "13/13 [==============================] - 0s 12ms/step - loss: 0.0149 - accuracy: 0.9962 - val_loss: 0.4720 - val_accuracy: 0.9050\n",
      "Epoch 50/100\n",
      "13/13 [==============================] - 0s 12ms/step - loss: 0.0202 - accuracy: 0.9937 - val_loss: 0.4403 - val_accuracy: 0.9000\n",
      "Epoch 51/100\n",
      "13/13 [==============================] - 0s 12ms/step - loss: 0.0240 - accuracy: 0.9912 - val_loss: 0.4335 - val_accuracy: 0.9100\n",
      "Epoch 52/100\n",
      "13/13 [==============================] - 0s 12ms/step - loss: 0.0147 - accuracy: 0.9962 - val_loss: 0.4675 - val_accuracy: 0.9050\n",
      "Epoch 53/100\n",
      "13/13 [==============================] - 0s 13ms/step - loss: 0.0155 - accuracy: 0.9937 - val_loss: 0.4495 - val_accuracy: 0.8950\n",
      "Epoch 54/100\n",
      "13/13 [==============================] - 0s 12ms/step - loss: 0.0114 - accuracy: 0.9975 - val_loss: 0.4530 - val_accuracy: 0.8950\n",
      "Epoch 55/100\n",
      "13/13 [==============================] - 0s 12ms/step - loss: 0.0107 - accuracy: 0.9975 - val_loss: 0.6393 - val_accuracy: 0.8900\n",
      "Epoch 56/100\n",
      "13/13 [==============================] - 0s 12ms/step - loss: 0.0151 - accuracy: 0.9975 - val_loss: 0.5091 - val_accuracy: 0.9150\n",
      "Epoch 57/100\n",
      "13/13 [==============================] - 0s 12ms/step - loss: 0.0079 - accuracy: 0.9987 - val_loss: 0.4904 - val_accuracy: 0.9100\n",
      "Epoch 58/100\n",
      "13/13 [==============================] - 0s 14ms/step - loss: 0.0120 - accuracy: 0.9962 - val_loss: 0.4978 - val_accuracy: 0.9100\n",
      "Epoch 59/100\n",
      "13/13 [==============================] - 0s 13ms/step - loss: 0.0067 - accuracy: 1.0000 - val_loss: 0.4995 - val_accuracy: 0.8950\n",
      "Epoch 60/100\n",
      "13/13 [==============================] - 0s 14ms/step - loss: 0.0089 - accuracy: 0.9987 - val_loss: 0.5193 - val_accuracy: 0.9100\n",
      "Epoch 61/100\n",
      "13/13 [==============================] - 0s 15ms/step - loss: 0.0099 - accuracy: 0.9962 - val_loss: 0.5097 - val_accuracy: 0.9100\n",
      "Epoch 62/100\n",
      "13/13 [==============================] - 0s 12ms/step - loss: 0.0032 - accuracy: 1.0000 - val_loss: 0.5234 - val_accuracy: 0.9050\n",
      "Epoch 63/100\n",
      "13/13 [==============================] - 0s 11ms/step - loss: 0.0055 - accuracy: 1.0000 - val_loss: 0.5222 - val_accuracy: 0.9000\n",
      "Epoch 64/100\n",
      "13/13 [==============================] - 0s 12ms/step - loss: 0.0089 - accuracy: 0.9975 - val_loss: 0.5322 - val_accuracy: 0.9050\n",
      "Epoch 65/100\n",
      "13/13 [==============================] - 0s 11ms/step - loss: 0.0115 - accuracy: 0.9962 - val_loss: 0.5281 - val_accuracy: 0.8850\n",
      "Epoch 66/100\n",
      "13/13 [==============================] - 0s 16ms/step - loss: 0.0038 - accuracy: 1.0000 - val_loss: 0.5444 - val_accuracy: 0.8950\n",
      "Epoch 67/100\n",
      "13/13 [==============================] - 0s 14ms/step - loss: 0.0029 - accuracy: 1.0000 - val_loss: 0.5620 - val_accuracy: 0.9050\n",
      "Epoch 68/100\n",
      "13/13 [==============================] - 0s 13ms/step - loss: 0.0052 - accuracy: 0.9975 - val_loss: 0.5490 - val_accuracy: 0.9000\n",
      "Epoch 69/100\n",
      "13/13 [==============================] - 0s 15ms/step - loss: 0.0028 - accuracy: 1.0000 - val_loss: 0.5737 - val_accuracy: 0.9100\n",
      "Epoch 70/100\n",
      "13/13 [==============================] - 0s 15ms/step - loss: 0.0078 - accuracy: 0.9975 - val_loss: 0.5588 - val_accuracy: 0.9100\n",
      "Epoch 71/100\n",
      "13/13 [==============================] - 0s 13ms/step - loss: 0.0015 - accuracy: 1.0000 - val_loss: 0.5636 - val_accuracy: 0.9000\n",
      "Epoch 72/100\n",
      "13/13 [==============================] - 0s 16ms/step - loss: 0.0019 - accuracy: 1.0000 - val_loss: 0.6872 - val_accuracy: 0.8950\n",
      "Epoch 73/100\n",
      "13/13 [==============================] - 0s 13ms/step - loss: 0.0069 - accuracy: 0.9975 - val_loss: 0.5938 - val_accuracy: 0.9050\n",
      "Epoch 74/100\n",
      "13/13 [==============================] - 0s 13ms/step - loss: 0.0010 - accuracy: 1.0000 - val_loss: 0.6052 - val_accuracy: 0.9150\n",
      "Epoch 75/100\n",
      "13/13 [==============================] - 0s 13ms/step - loss: 9.6331e-04 - accuracy: 1.0000 - val_loss: 0.6196 - val_accuracy: 0.8900\n",
      "Epoch 76/100\n",
      "13/13 [==============================] - 0s 13ms/step - loss: 0.0042 - accuracy: 0.9987 - val_loss: 0.6130 - val_accuracy: 0.9000\n",
      "Epoch 77/100\n",
      "13/13 [==============================] - 0s 13ms/step - loss: 0.0081 - accuracy: 0.9987 - val_loss: 0.7003 - val_accuracy: 0.9050\n",
      "Epoch 78/100\n",
      "13/13 [==============================] - 0s 13ms/step - loss: 0.0018 - accuracy: 1.0000 - val_loss: 0.6297 - val_accuracy: 0.9050\n",
      "Epoch 79/100\n",
      "13/13 [==============================] - 0s 13ms/step - loss: 6.3051e-04 - accuracy: 1.0000 - val_loss: 0.6436 - val_accuracy: 0.9000\n",
      "Epoch 80/100\n",
      "13/13 [==============================] - 0s 14ms/step - loss: 0.0013 - accuracy: 1.0000 - val_loss: 0.6912 - val_accuracy: 0.9050\n",
      "Epoch 81/100\n",
      "13/13 [==============================] - 0s 14ms/step - loss: 0.0022 - accuracy: 1.0000 - val_loss: 0.6639 - val_accuracy: 0.8950\n",
      "Epoch 82/100\n",
      "13/13 [==============================] - 0s 12ms/step - loss: 6.0979e-04 - accuracy: 1.0000 - val_loss: 0.6540 - val_accuracy: 0.9100\n",
      "Epoch 83/100\n",
      "13/13 [==============================] - 0s 12ms/step - loss: 0.0024 - accuracy: 0.9987 - val_loss: 0.7186 - val_accuracy: 0.8850\n",
      "Epoch 84/100\n",
      "13/13 [==============================] - 0s 12ms/step - loss: 0.0079 - accuracy: 0.9975 - val_loss: 0.7036 - val_accuracy: 0.9000\n",
      "Epoch 85/100\n",
      "13/13 [==============================] - 0s 12ms/step - loss: 9.4354e-04 - accuracy: 1.0000 - val_loss: 0.6595 - val_accuracy: 0.9000\n",
      "Epoch 86/100\n",
      "13/13 [==============================] - 0s 12ms/step - loss: 6.8624e-04 - accuracy: 1.0000 - val_loss: 0.6742 - val_accuracy: 0.9000\n",
      "Epoch 87/100\n",
      "13/13 [==============================] - 0s 12ms/step - loss: 0.0017 - accuracy: 1.0000 - val_loss: 0.6835 - val_accuracy: 0.9100\n",
      "Epoch 88/100\n",
      "13/13 [==============================] - 0s 12ms/step - loss: 6.0630e-04 - accuracy: 1.0000 - val_loss: 0.6834 - val_accuracy: 0.8850\n",
      "Epoch 89/100\n",
      "13/13 [==============================] - 0s 12ms/step - loss: 4.1040e-04 - accuracy: 1.0000 - val_loss: 0.6467 - val_accuracy: 0.9000\n",
      "Epoch 90/100\n",
      "13/13 [==============================] - 0s 12ms/step - loss: 0.0031 - accuracy: 0.9987 - val_loss: 0.7894 - val_accuracy: 0.8950\n",
      "Epoch 91/100\n",
      "13/13 [==============================] - 0s 12ms/step - loss: 6.6140e-04 - accuracy: 1.0000 - val_loss: 0.6679 - val_accuracy: 0.9100\n",
      "Epoch 92/100\n",
      "13/13 [==============================] - 0s 12ms/step - loss: 2.8906e-04 - accuracy: 1.0000 - val_loss: 0.6876 - val_accuracy: 0.9100\n",
      "Epoch 93/100\n",
      "13/13 [==============================] - 0s 12ms/step - loss: 1.6822e-04 - accuracy: 1.0000 - val_loss: 0.7230 - val_accuracy: 0.9150\n",
      "Epoch 94/100\n",
      "13/13 [==============================] - 0s 12ms/step - loss: 0.0093 - accuracy: 0.9975 - val_loss: 0.6739 - val_accuracy: 0.9050\n",
      "Epoch 95/100\n",
      "13/13 [==============================] - 0s 12ms/step - loss: 2.4448e-04 - accuracy: 1.0000 - val_loss: 0.6666 - val_accuracy: 0.9050\n",
      "Epoch 96/100\n",
      "13/13 [==============================] - 0s 12ms/step - loss: 1.4394e-04 - accuracy: 1.0000 - val_loss: 0.6846 - val_accuracy: 0.9050\n",
      "Epoch 97/100\n",
      "13/13 [==============================] - 0s 13ms/step - loss: 0.0015 - accuracy: 0.9987 - val_loss: 0.7829 - val_accuracy: 0.9000\n",
      "Epoch 98/100\n",
      "13/13 [==============================] - 0s 13ms/step - loss: 0.0032 - accuracy: 0.9987 - val_loss: 0.6933 - val_accuracy: 0.9050\n",
      "Epoch 99/100\n",
      "13/13 [==============================] - 0s 14ms/step - loss: 1.9779e-04 - accuracy: 1.0000 - val_loss: 0.7054 - val_accuracy: 0.9050\n",
      "Epoch 100/100\n",
      "13/13 [==============================] - 0s 13ms/step - loss: 1.2172e-04 - accuracy: 1.0000 - val_loss: 0.7254 - val_accuracy: 0.9000\n"
     ]
    }
   ],
   "source": [
    "history2 = model2.fit(x_train, y_train,\n",
    "          epochs=100,\n",
    "          batch_size=64, validation_split=0.2)"
   ]
  },
  {
   "cell_type": "code",
   "execution_count": 21,
   "metadata": {},
   "outputs": [
    {
     "data": {
      "text/plain": [
       "<matplotlib.legend.Legend at 0x2041f504670>"
      ]
     },
     "execution_count": 21,
     "metadata": {},
     "output_type": "execute_result"
    },
    {
     "data": {
      "image/png": "[encoded data removed]",
      "text/plain": [
       "<Figure size 640x480 with 1 Axes>"
      ]
     },
     "metadata": {},
     "output_type": "display_data"
    }
   ],
   "source": [
    "plt.plot(history2.history['val_loss'])\n",
    "plt.plot(history2.history['loss'])\n",
    "plt.legend(['val', 'train'])"
   ]
  },
  {
   "cell_type": "code",
   "execution_count": 22,
   "metadata": {},
   "outputs": [
    {
     "data": {
      "text/plain": [
       "<matplotlib.legend.Legend at 0x2041f6543a0>"
      ]
     },
     "execution_count": 22,
     "metadata": {},
     "output_type": "execute_result"
    },
    {
     "data": {
      "image/png": "[encoded data removed]",
      "text/plain": [
       "<Figure size 640x480 with 1 Axes>"
      ]
     },
     "metadata": {},
     "output_type": "display_data"
    }
   ],
   "source": [
    "plt.plot(history2.history['val_accuracy'])\n",
    "plt.plot(history2.history['accuracy'])\n",
    "plt.legend(['val', 'train'])"
   ]
  },
  {
   "cell_type": "code",
   "execution_count": 23,
   "metadata": {},
   "outputs": [],
   "source": [
    "from keras.layers import Dropout"
   ]
  },
  {
   "cell_type": "code",
   "execution_count": 25,
   "metadata": {},
   "outputs": [],
   "source": [
    "model3 = Sequential()\n",
    "model3.add(Dense(100, activation='relu', input_dim=25))\n",
    "model3.add(Dropout(0.2))\n",
    "model3.add(Dense(200, activation='relu'))\n",
    "model3.add(Dropout(0.5))\n",
    "model3.add(Dense(100, activation='relu'))\n",
    "model3.add(Dropout(0.5))\n",
    "model3.add(Dense(10, activation='softmax'))"
   ]
  },
  {
   "cell_type": "code",
   "execution_count": 26,
   "metadata": {},
   "outputs": [],
   "source": [
    "model3.compile(loss='categorical_crossentropy',\n",
    "              optimizer='rmsprop',\n",
    "              metrics=['accuracy'])"
   ]
  },
  {
   "cell_type": "code",
   "execution_count": 27,
   "metadata": {},
   "outputs": [
    {
     "name": "stdout",
     "output_type": "stream",
     "text": [
      "Epoch 1/100\n",
      "13/13 [==============================] - 2s 39ms/step - loss: 2.2087 - accuracy: 0.2075 - val_loss: 1.9781 - val_accuracy: 0.5450\n",
      "Epoch 2/100\n",
      "13/13 [==============================] - 0s 12ms/step - loss: 1.9538 - accuracy: 0.3537 - val_loss: 1.5997 - val_accuracy: 0.7500\n",
      "Epoch 3/100\n",
      "13/13 [==============================] - 0s 12ms/step - loss: 1.6468 - accuracy: 0.4963 - val_loss: 1.2487 - val_accuracy: 0.7750\n",
      "Epoch 4/100\n",
      "13/13 [==============================] - 0s 12ms/step - loss: 1.3524 - accuracy: 0.5913 - val_loss: 0.9204 - val_accuracy: 0.8100\n",
      "Epoch 5/100\n",
      "13/13 [==============================] - 0s 12ms/step - loss: 1.1515 - accuracy: 0.6288 - val_loss: 0.7589 - val_accuracy: 0.8350\n",
      "Epoch 6/100\n",
      "13/13 [==============================] - 0s 13ms/step - loss: 1.0386 - accuracy: 0.6525 - val_loss: 0.6627 - val_accuracy: 0.8250\n",
      "Epoch 7/100\n",
      "13/13 [==============================] - 0s 13ms/step - loss: 0.9634 - accuracy: 0.6775 - val_loss: 0.6090 - val_accuracy: 0.8400\n",
      "Epoch 8/100\n",
      "13/13 [==============================] - 0s 14ms/step - loss: 0.8600 - accuracy: 0.7100 - val_loss: 0.5610 - val_accuracy: 0.8450\n",
      "Epoch 9/100\n",
      "13/13 [==============================] - 0s 13ms/step - loss: 0.7910 - accuracy: 0.7362 - val_loss: 0.5211 - val_accuracy: 0.8350\n",
      "Epoch 10/100\n",
      "13/13 [==============================] - 0s 13ms/step - loss: 0.7368 - accuracy: 0.7588 - val_loss: 0.4831 - val_accuracy: 0.8550\n",
      "Epoch 11/100\n",
      "13/13 [==============================] - 0s 13ms/step - loss: 0.6864 - accuracy: 0.7663 - val_loss: 0.4724 - val_accuracy: 0.8650\n",
      "Epoch 12/100\n",
      "13/13 [==============================] - 0s 13ms/step - loss: 0.6761 - accuracy: 0.7663 - val_loss: 0.4539 - val_accuracy: 0.8700\n",
      "Epoch 13/100\n",
      "13/13 [==============================] - 0s 13ms/step - loss: 0.6201 - accuracy: 0.7987 - val_loss: 0.4339 - val_accuracy: 0.8900\n",
      "Epoch 14/100\n",
      "13/13 [==============================] - 0s 13ms/step - loss: 0.5664 - accuracy: 0.8100 - val_loss: 0.4121 - val_accuracy: 0.8550\n",
      "Epoch 15/100\n",
      "13/13 [==============================] - 0s 14ms/step - loss: 0.5261 - accuracy: 0.8213 - val_loss: 0.4112 - val_accuracy: 0.8800\n",
      "Epoch 16/100\n",
      "13/13 [==============================] - 0s 13ms/step - loss: 0.5391 - accuracy: 0.8325 - val_loss: 0.3889 - val_accuracy: 0.8800\n",
      "Epoch 17/100\n",
      "13/13 [==============================] - 0s 13ms/step - loss: 0.5401 - accuracy: 0.8100 - val_loss: 0.3827 - val_accuracy: 0.8900\n",
      "Epoch 18/100\n",
      "13/13 [==============================] - 0s 13ms/step - loss: 0.5270 - accuracy: 0.8275 - val_loss: 0.3842 - val_accuracy: 0.8750\n",
      "Epoch 19/100\n",
      "13/13 [==============================] - 0s 14ms/step - loss: 0.4722 - accuracy: 0.8625 - val_loss: 0.3728 - val_accuracy: 0.8900\n",
      "Epoch 20/100\n",
      "13/13 [==============================] - 0s 14ms/step - loss: 0.4578 - accuracy: 0.8500 - val_loss: 0.3661 - val_accuracy: 0.8850\n",
      "Epoch 21/100\n",
      "13/13 [==============================] - 0s 14ms/step - loss: 0.4253 - accuracy: 0.8562 - val_loss: 0.3650 - val_accuracy: 0.8900\n",
      "Epoch 22/100\n",
      "13/13 [==============================] - 0s 13ms/step - loss: 0.4493 - accuracy: 0.8600 - val_loss: 0.3554 - val_accuracy: 0.8950\n",
      "Epoch 23/100\n",
      "13/13 [==============================] - 0s 13ms/step - loss: 0.4332 - accuracy: 0.8587 - val_loss: 0.3539 - val_accuracy: 0.8950\n",
      "Epoch 24/100\n",
      "13/13 [==============================] - 0s 13ms/step - loss: 0.3958 - accuracy: 0.8763 - val_loss: 0.3441 - val_accuracy: 0.9050\n",
      "Epoch 25/100\n",
      "13/13 [==============================] - 0s 14ms/step - loss: 0.4098 - accuracy: 0.8687 - val_loss: 0.3403 - val_accuracy: 0.9050\n",
      "Epoch 26/100\n",
      "13/13 [==============================] - 0s 13ms/step - loss: 0.3832 - accuracy: 0.8712 - val_loss: 0.3456 - val_accuracy: 0.9100\n",
      "Epoch 27/100\n",
      "13/13 [==============================] - 0s 13ms/step - loss: 0.3542 - accuracy: 0.8850 - val_loss: 0.3412 - val_accuracy: 0.9100\n",
      "Epoch 28/100\n",
      "13/13 [==============================] - 0s 13ms/step - loss: 0.3462 - accuracy: 0.8788 - val_loss: 0.3540 - val_accuracy: 0.9000\n",
      "Epoch 29/100\n",
      "13/13 [==============================] - 0s 13ms/step - loss: 0.3768 - accuracy: 0.8750 - val_loss: 0.3277 - val_accuracy: 0.8950\n",
      "Epoch 30/100\n",
      "13/13 [==============================] - 0s 13ms/step - loss: 0.3163 - accuracy: 0.8950 - val_loss: 0.3434 - val_accuracy: 0.8950\n",
      "Epoch 31/100\n",
      "13/13 [==============================] - 0s 13ms/step - loss: 0.3076 - accuracy: 0.8988 - val_loss: 0.3555 - val_accuracy: 0.9000\n",
      "Epoch 32/100\n",
      "13/13 [==============================] - 0s 13ms/step - loss: 0.2980 - accuracy: 0.9050 - val_loss: 0.3454 - val_accuracy: 0.8950\n",
      "Epoch 33/100\n",
      "13/13 [==============================] - 0s 13ms/step - loss: 0.3454 - accuracy: 0.8875 - val_loss: 0.3366 - val_accuracy: 0.9050\n",
      "Epoch 34/100\n",
      "13/13 [==============================] - 0s 14ms/step - loss: 0.3034 - accuracy: 0.9000 - val_loss: 0.3563 - val_accuracy: 0.9000\n",
      "Epoch 35/100\n",
      "13/13 [==============================] - 0s 13ms/step - loss: 0.2890 - accuracy: 0.9062 - val_loss: 0.3467 - val_accuracy: 0.9100\n",
      "Epoch 36/100\n",
      "13/13 [==============================] - 0s 13ms/step - loss: 0.3167 - accuracy: 0.9062 - val_loss: 0.3408 - val_accuracy: 0.9050\n",
      "Epoch 37/100\n",
      "13/13 [==============================] - 0s 14ms/step - loss: 0.2945 - accuracy: 0.9025 - val_loss: 0.3379 - val_accuracy: 0.9050\n",
      "Epoch 38/100\n",
      "13/13 [==============================] - 0s 13ms/step - loss: 0.2419 - accuracy: 0.9187 - val_loss: 0.3372 - val_accuracy: 0.9050\n",
      "Epoch 39/100\n",
      "13/13 [==============================] - 0s 14ms/step - loss: 0.3048 - accuracy: 0.8900 - val_loss: 0.3244 - val_accuracy: 0.9100\n",
      "Epoch 40/100\n",
      "13/13 [==============================] - 0s 13ms/step - loss: 0.2754 - accuracy: 0.9050 - val_loss: 0.3304 - val_accuracy: 0.9050\n",
      "Epoch 41/100\n",
      "13/13 [==============================] - 0s 13ms/step - loss: 0.2740 - accuracy: 0.9062 - val_loss: 0.3274 - val_accuracy: 0.9050\n",
      "Epoch 42/100\n",
      "13/13 [==============================] - 0s 14ms/step - loss: 0.2515 - accuracy: 0.9237 - val_loss: 0.3318 - val_accuracy: 0.8950\n",
      "Epoch 43/100\n",
      "13/13 [==============================] - 0s 14ms/step - loss: 0.2489 - accuracy: 0.9175 - val_loss: 0.3506 - val_accuracy: 0.8950\n",
      "Epoch 44/100\n",
      "13/13 [==============================] - 0s 14ms/step - loss: 0.2242 - accuracy: 0.9200 - val_loss: 0.3434 - val_accuracy: 0.9050\n",
      "Epoch 45/100\n",
      "13/13 [==============================] - 0s 13ms/step - loss: 0.2262 - accuracy: 0.9175 - val_loss: 0.3422 - val_accuracy: 0.9100\n",
      "Epoch 46/100\n",
      "13/13 [==============================] - 0s 13ms/step - loss: 0.2458 - accuracy: 0.9150 - val_loss: 0.3507 - val_accuracy: 0.9100\n",
      "Epoch 47/100\n",
      "13/13 [==============================] - 0s 14ms/step - loss: 0.2388 - accuracy: 0.9200 - val_loss: 0.3495 - val_accuracy: 0.9100\n",
      "Epoch 48/100\n",
      "13/13 [==============================] - 0s 14ms/step - loss: 0.2497 - accuracy: 0.9125 - val_loss: 0.3429 - val_accuracy: 0.9000\n",
      "Epoch 49/100\n",
      "13/13 [==============================] - 0s 13ms/step - loss: 0.2392 - accuracy: 0.9187 - val_loss: 0.3207 - val_accuracy: 0.9150\n",
      "Epoch 50/100\n",
      "13/13 [==============================] - 0s 13ms/step - loss: 0.2052 - accuracy: 0.9262 - val_loss: 0.3381 - val_accuracy: 0.9100\n",
      "Epoch 51/100\n",
      "13/13 [==============================] - 0s 13ms/step - loss: 0.1839 - accuracy: 0.9438 - val_loss: 0.3389 - val_accuracy: 0.9050\n",
      "Epoch 52/100\n",
      "13/13 [==============================] - 0s 14ms/step - loss: 0.2218 - accuracy: 0.9275 - val_loss: 0.3306 - val_accuracy: 0.9000\n",
      "Epoch 53/100\n",
      "13/13 [==============================] - 0s 13ms/step - loss: 0.1960 - accuracy: 0.9413 - val_loss: 0.3410 - val_accuracy: 0.9100\n",
      "Epoch 54/100\n",
      "13/13 [==============================] - 0s 14ms/step - loss: 0.1927 - accuracy: 0.9350 - val_loss: 0.3465 - val_accuracy: 0.9000\n",
      "Epoch 55/100\n",
      "13/13 [==============================] - 0s 14ms/step - loss: 0.2060 - accuracy: 0.9275 - val_loss: 0.3397 - val_accuracy: 0.9050\n",
      "Epoch 56/100\n",
      "13/13 [==============================] - 0s 14ms/step - loss: 0.2005 - accuracy: 0.9413 - val_loss: 0.3564 - val_accuracy: 0.9000\n",
      "Epoch 57/100\n",
      "13/13 [==============================] - 0s 14ms/step - loss: 0.1636 - accuracy: 0.9400 - val_loss: 0.3449 - val_accuracy: 0.9150\n",
      "Epoch 58/100\n",
      "13/13 [==============================] - 0s 13ms/step - loss: 0.1987 - accuracy: 0.9250 - val_loss: 0.3426 - val_accuracy: 0.9000\n",
      "Epoch 59/100\n",
      "13/13 [==============================] - 0s 14ms/step - loss: 0.1855 - accuracy: 0.9400 - val_loss: 0.3437 - val_accuracy: 0.9200\n",
      "Epoch 60/100\n",
      "13/13 [==============================] - 0s 14ms/step - loss: 0.1806 - accuracy: 0.9312 - val_loss: 0.3470 - val_accuracy: 0.9150\n",
      "Epoch 61/100\n",
      "13/13 [==============================] - 0s 14ms/step - loss: 0.1612 - accuracy: 0.9463 - val_loss: 0.3304 - val_accuracy: 0.9100\n",
      "Epoch 62/100\n",
      "13/13 [==============================] - 0s 14ms/step - loss: 0.1795 - accuracy: 0.9413 - val_loss: 0.3170 - val_accuracy: 0.9100\n",
      "Epoch 63/100\n",
      "13/13 [==============================] - 0s 13ms/step - loss: 0.1696 - accuracy: 0.9463 - val_loss: 0.3345 - val_accuracy: 0.9000\n",
      "Epoch 64/100\n",
      "13/13 [==============================] - 0s 14ms/step - loss: 0.1601 - accuracy: 0.9500 - val_loss: 0.3351 - val_accuracy: 0.9050\n",
      "Epoch 65/100\n",
      "13/13 [==============================] - 0s 13ms/step - loss: 0.1462 - accuracy: 0.9438 - val_loss: 0.3489 - val_accuracy: 0.9150\n",
      "Epoch 66/100\n",
      "13/13 [==============================] - 0s 13ms/step - loss: 0.2010 - accuracy: 0.9325 - val_loss: 0.3534 - val_accuracy: 0.9150\n",
      "Epoch 67/100\n",
      "13/13 [==============================] - 0s 14ms/step - loss: 0.1815 - accuracy: 0.9362 - val_loss: 0.3440 - val_accuracy: 0.9000\n",
      "Epoch 68/100\n",
      "13/13 [==============================] - 0s 14ms/step - loss: 0.1648 - accuracy: 0.9525 - val_loss: 0.3531 - val_accuracy: 0.9200\n",
      "Epoch 69/100\n",
      "13/13 [==============================] - 0s 14ms/step - loss: 0.1598 - accuracy: 0.9463 - val_loss: 0.3326 - val_accuracy: 0.8900\n",
      "Epoch 70/100\n",
      "13/13 [==============================] - 0s 14ms/step - loss: 0.1690 - accuracy: 0.9438 - val_loss: 0.3477 - val_accuracy: 0.9150\n",
      "Epoch 71/100\n",
      "13/13 [==============================] - 0s 13ms/step - loss: 0.1264 - accuracy: 0.9538 - val_loss: 0.3475 - val_accuracy: 0.9150\n",
      "Epoch 72/100\n",
      "13/13 [==============================] - 0s 13ms/step - loss: 0.1600 - accuracy: 0.9513 - val_loss: 0.3166 - val_accuracy: 0.9150\n",
      "Epoch 73/100\n",
      "13/13 [==============================] - 0s 13ms/step - loss: 0.1487 - accuracy: 0.9463 - val_loss: 0.3301 - val_accuracy: 0.8900\n",
      "Epoch 74/100\n",
      "13/13 [==============================] - 0s 13ms/step - loss: 0.1301 - accuracy: 0.9463 - val_loss: 0.3437 - val_accuracy: 0.9000\n",
      "Epoch 75/100\n",
      "13/13 [==============================] - 0s 14ms/step - loss: 0.1320 - accuracy: 0.9538 - val_loss: 0.3602 - val_accuracy: 0.8950\n",
      "Epoch 76/100\n",
      "13/13 [==============================] - 0s 13ms/step - loss: 0.1210 - accuracy: 0.9625 - val_loss: 0.3482 - val_accuracy: 0.9050\n",
      "Epoch 77/100\n",
      "13/13 [==============================] - 0s 14ms/step - loss: 0.1412 - accuracy: 0.9538 - val_loss: 0.3483 - val_accuracy: 0.9050\n",
      "Epoch 78/100\n",
      "13/13 [==============================] - 0s 14ms/step - loss: 0.1442 - accuracy: 0.9513 - val_loss: 0.3609 - val_accuracy: 0.9200\n",
      "Epoch 79/100\n",
      "13/13 [==============================] - 0s 13ms/step - loss: 0.1288 - accuracy: 0.9600 - val_loss: 0.3738 - val_accuracy: 0.9150\n",
      "Epoch 80/100\n",
      "13/13 [==============================] - 0s 14ms/step - loss: 0.1258 - accuracy: 0.9600 - val_loss: 0.3512 - val_accuracy: 0.9200\n",
      "Epoch 81/100\n",
      "13/13 [==============================] - 0s 14ms/step - loss: 0.1399 - accuracy: 0.9650 - val_loss: 0.3313 - val_accuracy: 0.9050\n",
      "Epoch 82/100\n",
      "13/13 [==============================] - 0s 13ms/step - loss: 0.1125 - accuracy: 0.9638 - val_loss: 0.3310 - val_accuracy: 0.9050\n",
      "Epoch 83/100\n",
      "13/13 [==============================] - 0s 13ms/step - loss: 0.1027 - accuracy: 0.9737 - val_loss: 0.3534 - val_accuracy: 0.9200\n",
      "Epoch 84/100\n",
      "13/13 [==============================] - 0s 13ms/step - loss: 0.1638 - accuracy: 0.9550 - val_loss: 0.3420 - val_accuracy: 0.9100\n",
      "Epoch 85/100\n",
      "13/13 [==============================] - 0s 14ms/step - loss: 0.1151 - accuracy: 0.9600 - val_loss: 0.3561 - val_accuracy: 0.9150\n",
      "Epoch 86/100\n",
      "13/13 [==============================] - 0s 14ms/step - loss: 0.1005 - accuracy: 0.9712 - val_loss: 0.3626 - val_accuracy: 0.9200\n",
      "Epoch 87/100\n",
      "13/13 [==============================] - 0s 14ms/step - loss: 0.1083 - accuracy: 0.9613 - val_loss: 0.3533 - val_accuracy: 0.9050\n",
      "Epoch 88/100\n",
      "13/13 [==============================] - 0s 14ms/step - loss: 0.1110 - accuracy: 0.9688 - val_loss: 0.3525 - val_accuracy: 0.9100\n",
      "Epoch 89/100\n",
      "13/13 [==============================] - 0s 14ms/step - loss: 0.1151 - accuracy: 0.9600 - val_loss: 0.3352 - val_accuracy: 0.9100\n",
      "Epoch 90/100\n",
      "13/13 [==============================] - 0s 14ms/step - loss: 0.1073 - accuracy: 0.9563 - val_loss: 0.3352 - val_accuracy: 0.9150\n",
      "Epoch 91/100\n",
      "13/13 [==============================] - 0s 12ms/step - loss: 0.1042 - accuracy: 0.9700 - val_loss: 0.3624 - val_accuracy: 0.9250\n",
      "Epoch 92/100\n",
      "13/13 [==============================] - 0s 13ms/step - loss: 0.1159 - accuracy: 0.9613 - val_loss: 0.3429 - val_accuracy: 0.9150\n",
      "Epoch 93/100\n",
      "13/13 [==============================] - 0s 13ms/step - loss: 0.0959 - accuracy: 0.9663 - val_loss: 0.3636 - val_accuracy: 0.9000\n",
      "Epoch 94/100\n",
      "13/13 [==============================] - 0s 13ms/step - loss: 0.1048 - accuracy: 0.9638 - val_loss: 0.3764 - val_accuracy: 0.9050\n",
      "Epoch 95/100\n",
      "13/13 [==============================] - 0s 13ms/step - loss: 0.1024 - accuracy: 0.9600 - val_loss: 0.3836 - val_accuracy: 0.9150\n",
      "Epoch 96/100\n",
      "13/13 [==============================] - 0s 13ms/step - loss: 0.1216 - accuracy: 0.9575 - val_loss: 0.3651 - val_accuracy: 0.9150\n",
      "Epoch 97/100\n",
      "13/13 [==============================] - 0s 13ms/step - loss: 0.0848 - accuracy: 0.9700 - val_loss: 0.3646 - val_accuracy: 0.9200\n",
      "Epoch 98/100\n",
      "13/13 [==============================] - 0s 13ms/step - loss: 0.0919 - accuracy: 0.9663 - val_loss: 0.3441 - val_accuracy: 0.9150\n",
      "Epoch 99/100\n",
      "13/13 [==============================] - 0s 13ms/step - loss: 0.0881 - accuracy: 0.9725 - val_loss: 0.3581 - val_accuracy: 0.9050\n",
      "Epoch 100/100\n",
      "13/13 [==============================] - 0s 13ms/step - loss: 0.0839 - accuracy: 0.9650 - val_loss: 0.3571 - val_accuracy: 0.9150\n"
     ]
    }
   ],
   "source": [
    "history3 = model3.fit(x_train, y_train,\n",
    "          epochs=100,\n",
    "          batch_size=64, validation_split=0.2)"
   ]
  },
  {
   "cell_type": "code",
   "execution_count": 28,
   "metadata": {},
   "outputs": [
    {
     "data": {
      "text/plain": [
       "<matplotlib.legend.Legend at 0x204216662f0>"
      ]
     },
     "execution_count": 28,
     "metadata": {},
     "output_type": "execute_result"
    },
    {
     "data": {
      "image/png": "[encoded data removed]",
      "text/plain": [
       "<Figure size 640x480 with 1 Axes>"
      ]
     },
     "metadata": {},
     "output_type": "display_data"
    }
   ],
   "source": [
    "plt.plot(history3.history['val_loss'])\n",
    "plt.plot(history3.history['loss'])\n",
    "plt.legend(['val', 'train'])"
   ]
  },
  {
   "cell_type": "code",
   "execution_count": 29,
   "metadata": {},
   "outputs": [
    {
     "data": {
      "text/plain": [
       "<matplotlib.legend.Legend at 0x20423f03d30>"
      ]
     },
     "execution_count": 29,
     "metadata": {},
     "output_type": "execute_result"
    },
    {
     "data": {
      "image/png": "[encoded data removed]",
      "text/plain": [
       "<Figure size 640x480 with 1 Axes>"
      ]
     },
     "metadata": {},
     "output_type": "display_data"
    }
   ],
   "source": [
    "plt.plot(history3.history['val_accuracy'])\n",
    "plt.plot(history3.history['accuracy'])\n",
    "plt.legend(['val', 'train'])"
   ]
  },
  {
   "cell_type": "code",
   "execution_count": null,
   "metadata": {},
   "outputs": [],
   "source": []
  }
 ],
 "metadata": {
  "accelerator": "GPU",
  "anaconda-cloud": {},
  "colab": {
   "gpuType": "T4",
   "provenance": []
  },
  "kernelspec": {
   "display_name": "Python 3 (ipykernel)",
   "language": "python",
   "name": "python3"
  },
  "language_info": {
   "codemirror_mode": {
    "name": "ipython",
    "version": 3
   },
   "file_extension": ".py",
   "mimetype": "text/x-python",
   "name": "python",
   "nbconvert_exporter": "python",
   "pygments_lexer": "ipython3",
   "version": "3.10.12"
  },
  "nbpresent": {
   "slides": {
    "300ee14f-a043-486e-b274-7ff253907cd7": {
     "id": "300ee14f-a043-486e-b274-7ff253907cd7",
     "prev": "cb74e0bc-4513-4d13-b7f1-14c3078a7927",
     "regions": {
      "26dc3f39-a230-447c-af4c-f5e5b2fb7835": {
       "attrs": {
        "height": 0.8,
        "width": 0.8,
        "x": 0.1,
        "y": 0.1
       },
       "content": {
        "cell": "c58440a5-3f8f-4f37-9c79-6bf766209406",
        "part": "whole"
       },
       "id": "26dc3f39-a230-447c-af4c-f5e5b2fb7835"
      }
     }
    },
    "878aa53a-1444-4100-8f50-7a408191c579": {
     "id": "878aa53a-1444-4100-8f50-7a408191c579",
     "prev": null,
     "regions": {
      "a6c6843a-5ea6-4fbc-b890-3b4b8ae475b3": {
       "attrs": {
        "height": 0.8,
        "width": 0.8,
        "x": 0.1,
        "y": 0.1
       },
       "content": {
        "cell": "588ee1fa-64b5-453b-ade7-8e6b2515821c",
        "part": "whole"
       },
       "id": "a6c6843a-5ea6-4fbc-b890-3b4b8ae475b3"
      }
     }
    },
    "96ffe88e-7b50-43de-afdd-942e564f4e3e": {
     "id": "96ffe88e-7b50-43de-afdd-942e564f4e3e",
     "prev": "878aa53a-1444-4100-8f50-7a408191c579",
     "regions": {
      "b7e52e12-489a-468d-b10c-af2024fd2856": {
       "attrs": {
        "height": 0.8,
        "width": 0.8,
        "x": 0.1,
        "y": 0.1
       },
       "content": {
        "cell": "de829a92-1fb6-44ad-a2c6-fc1001e1f6e1",
        "part": "whole"
       },
       "id": "b7e52e12-489a-468d-b10c-af2024fd2856"
      }
     }
    },
    "cb74e0bc-4513-4d13-b7f1-14c3078a7927": {
     "id": "cb74e0bc-4513-4d13-b7f1-14c3078a7927",
     "prev": "96ffe88e-7b50-43de-afdd-942e564f4e3e",
     "regions": {
      "444878ee-68f3-4abb-acff-a7079b21e86d": {
       "attrs": {
        "height": 0.8,
        "width": 0.8,
        "x": 0.1,
        "y": 0.1
       },
       "content": {
        "cell": "25f3f538-1ee8-4d98-a6bb-14cbeb7a702d",
        "part": "whole"
       },
       "id": "444878ee-68f3-4abb-acff-a7079b21e86d"
      }
     }
    }
   },
   "themes": {}
  }
 },
 "nbformat": 4,
 "nbformat_minor": 4
}
